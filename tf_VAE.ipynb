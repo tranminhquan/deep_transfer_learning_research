{
 "cells": [
  {
   "cell_type": "code",
   "execution_count": null,
   "metadata": {},
   "outputs": [],
   "source": [
    "import zipfile\n",
    "import tensorflow as tf\n",
    "import os\n",
    "\n",
    "os.environ[\"CUDA_VISIBLE_DEVICES\"]=\"0\"\n",
    "with tf.device('/gpu:0'):\n",
    "    a = tf.constant([1.0, 2.0, 3.0, 4.0, 5.0, 6.0], shape=[2, 3], name='a')\n",
    "    b = tf.constant([1.0, 2.0, 3.0, 4.0, 5.0, 6.0], shape=[3, 2], name='b')\n",
    "    c = tf.matmul(a, b)\n",
    "config = tf.ConfigProto()\n",
    "config.gpu_options.allow_growth = True\n",
    "session = tf.Session(config=config)\n",
    "print (session.run(c))"
   ]
  },
  {
   "cell_type": "code",
   "execution_count": 2,
   "metadata": {},
   "outputs": [
    {
     "name": "stderr",
     "output_type": "stream",
     "text": [
      "Using TensorFlow backend.\n"
     ]
    }
   ],
   "source": [
    "from keras.layers import *\n",
    "from keras.models import *\n",
    "from keras.preprocessing.image import ImageDataGenerator\n",
    "from keras.losses import *\n",
    "from keras.optimizers import *\n",
    "from keras.callbacks import *\n",
    "from keras.regularizers import *\n",
    "import time\n",
    "import pickle\n",
    "import matplotlib.pyplot as plt\n",
    "import keras.backend as K\n",
    "from skimage.io import imread\n",
    "from skimage.transform import resize\n",
    "\n",
    "from keras.applications.densenet import DenseNet201, preprocess_input"
   ]
  },
  {
   "cell_type": "markdown",
   "metadata": {},
   "source": [
    "## Define VAE without GAP"
   ]
  },
  {
   "cell_type": "code",
   "execution_count": 13,
   "metadata": {
    "scrolled": true
   },
   "outputs": [],
   "source": [
    "def sampling(args):\n",
    "    z_mean, z_log_sigma = args\n",
    "    epsilon = K.random_normal(shape=((18,18,64)))\n",
    "    out = z_mean + K.exp(z_log_sigma) * epsilon\n",
    "    return out\n",
    "\n",
    "def vae_loss(x, x_decoded_mean):\n",
    "    xent_loss = binary_crossentropy(x, x_decoded_mean)\n",
    "    kl_loss = -0.5 * K.mean(1 + z_log_sigma - K.square(z_mean) - K.exp(z_log_sigma), axis=-1)\n",
    "    return xent_loss + kl_loss\n",
    "\n",
    "\n",
    "latent_dim=64\n",
    "input_shape=(18,18,736)\n",
    "batch_size=32\n",
    "\n",
    "x = Input(shape=(input_shape), name='input')\n",
    "\n",
    "h = Dense(256, activation='relu', name='h')(x)\n",
    "\n",
    "z_mean = Dense(latent_dim, name='z_mean')(h)\n",
    "z_log_sigma = Dense(latent_dim, name='z_log_sigma')(h)\n",
    "\n",
    "z = Lambda(sampling, name='lambda_sampling')([z_mean,z_log_sigma])\n",
    "\n",
    "decoder_h = Dense(256, activation='relu', name='decoder_h')\n",
    "decoder_mean = Dense(736, activation='sigmoid', name='decoder_mean')\n",
    "\n",
    "h_decoded = decoder_h(z)\n",
    "x_decoded_mean = decoder_mean(h_decoded)\n",
    "\n",
    "vae = Model(x, x_decoded_mean)\n",
    "encoder = Model(x, z_mean)\n",
    "\n",
    "decoder_input = Input(shape=(18,18,64))\n",
    "_h_decoded = decoder_h(decoder_input)\n",
    "_x_decoded_mean = decoder_mean(_h_decoded)\n",
    "generator = Model(decoder_input, _x_decoded_mean)\n",
    "\n",
    "vae.compile(optimizer='rmsprop', loss=vae_loss)\n",
    "\n",
    "\n"
   ]
  },
  {
   "cell_type": "code",
   "execution_count": 14,
   "metadata": {},
   "outputs": [
    {
     "name": "stdout",
     "output_type": "stream",
     "text": [
      "__________________________________________________________________________________________________\n",
      "Layer (type)                    Output Shape         Param #     Connected to                     \n",
      "==================================================================================================\n",
      "input (InputLayer)              (None, 18, 18, 736)  0                                            \n",
      "__________________________________________________________________________________________________\n",
      "h (Dense)                       (None, 18, 18, 256)  188672      input[0][0]                      \n",
      "__________________________________________________________________________________________________\n",
      "z_mean (Dense)                  (None, 18, 18, 64)   16448       h[0][0]                          \n",
      "__________________________________________________________________________________________________\n",
      "z_log_sigma (Dense)             (None, 18, 18, 64)   16448       h[0][0]                          \n",
      "__________________________________________________________________________________________________\n",
      "lambda_sampling (Lambda)        (None, 18, 18, 64)   0           z_mean[0][0]                     \n",
      "                                                                 z_log_sigma[0][0]                \n",
      "__________________________________________________________________________________________________\n",
      "decoder_h (Dense)               (None, 18, 18, 256)  16640       lambda_sampling[0][0]            \n",
      "__________________________________________________________________________________________________\n",
      "decoder_mean (Dense)            (None, 18, 18, 736)  189152      decoder_h[0][0]                  \n",
      "==================================================================================================\n",
      "Total params: 427,360\n",
      "Trainable params: 427,360\n",
      "Non-trainable params: 0\n",
      "__________________________________________________________________________________________________\n"
     ]
    }
   ],
   "source": [
    "vae.summary()"
   ]
  },
  {
   "cell_type": "code",
   "execution_count": 90,
   "metadata": {},
   "outputs": [
    {
     "name": "stdout",
     "output_type": "stream",
     "text": [
      "Found 444 images belonging to 31 classes.\n",
      "Found 112 images belonging to 31 classes.\n",
      "Found 239 images belonging to 31 classes.\n"
     ]
    }
   ],
   "source": [
    "import os\n",
    "from keras.preprocessing.image import ImageDataGenerator\n",
    "\n",
    "batch_size = 32\n",
    "\n",
    "train_datagen = ImageDataGenerator(rescale=1./255)\n",
    "test_datagen = ImageDataGenerator(rescale=1./255)\n",
    "\n",
    "root_path = '/data/Quan/datasets/webcam'\n",
    "train_generator = train_datagen.flow_from_directory(os.path.join(root_path, 'images'), \n",
    "                                                    class_mode='categorical', \n",
    "                                                    target_size=(300,300), \n",
    "                                                    batch_size=batch_size, \n",
    "                                                    shuffle=True)\n",
    "\n",
    "validation_generator = test_datagen.flow_from_directory(os.path.join(root_path, 'val_images'), \n",
    "                                                        class_mode='categorical', \n",
    "                                                        target_size=(300,300), \n",
    "                                                        batch_size=batch_size, \n",
    "                                                        shuffle=False)\n",
    "\n",
    "test_generator = test_datagen.flow_from_directory(os.path.join(root_path, 'test_images'), \n",
    "                                                        class_mode='categorical', \n",
    "                                                        target_size=(300,300), \n",
    "                                                        batch_size=1, \n",
    "                                                        shuffle=False)"
   ]
  },
  {
   "cell_type": "code",
   "execution_count": 83,
   "metadata": {},
   "outputs": [
    {
     "data": {
      "text/plain": [
       "((1576, 18, 18, 736), (395, 18, 18, 736), (444, 18, 18, 736))"
      ]
     },
     "execution_count": 83,
     "metadata": {},
     "output_type": "execute_result"
    }
   ],
   "source": [
    "with open('/data/Quan/tf_models/amazon/extracted_features.hdf5', 'rb') as dt:\n",
    "    s_labels, s_features = pickle.load(dt)\n",
    "    \n",
    "with open('/data/Quan/tf_models/amazon/val_extracted_features.hdf5', 'rb') as dt:\n",
    "    sval_labels, sval_features = pickle.load(dt)\n",
    "    \n",
    "with open('/data/Quan/tf_models/webcam/extracted_features.hdf5', 'rb') as dt:\n",
    "    t_labels, t_features = pickle.load(dt)\n",
    "    \n",
    "with open('/data/Quan/tf_models/webcam/val_extracted_features.hdf5', 'rb') as dt:\n",
    "    tval_labels, tval_features = pickle.load(dt)\n",
    "\n",
    "# with open('/data/Quan/tf_models/webcam/extracted_features.hdf5', 'rb') as dt:\n",
    "#     _, t_features = pickle.load(dt)\n",
    "\n",
    "s_labels = [k.split('/')[-2] for k in s_labels]\n",
    "sval_labels = [k.split('/')[-2] for k in sval_labels]\n",
    "\n",
    "t_labels = [k.split('/')[-2] for k in t_labels]\n",
    "tval_labels = [k.split('/')[-2] for k in tval_labels]\n",
    "    \n",
    "s_features.shape, sval_features.shape, t_features.shape"
   ]
  },
  {
   "cell_type": "markdown",
   "metadata": {},
   "source": [
    "## Amazon"
   ]
  },
  {
   "cell_type": "code",
   "execution_count": 6,
   "metadata": {
    "scrolled": true
   },
   "outputs": [
    {
     "name": "stdout",
     "output_type": "stream",
     "text": [
      "Train on 1576 samples, validate on 395 samples\n",
      "Epoch 1/50\n",
      "1576/1576 [==============================] - 3s 2ms/step - loss: 0.1089 - val_loss: -0.7377\n",
      "Epoch 2/50\n",
      "1576/1576 [==============================] - 3s 2ms/step - loss: -0.7427 - val_loss: -1.1327\n",
      "Epoch 3/50\n",
      "1576/1576 [==============================] - 3s 2ms/step - loss: -1.1833 - val_loss: -1.5754\n",
      "Epoch 4/50\n",
      "1576/1576 [==============================] - 3s 2ms/step - loss: -1.5095 - val_loss: -1.8297\n",
      "Epoch 5/50\n",
      "1576/1576 [==============================] - 3s 2ms/step - loss: -1.6983 - val_loss: -1.9990\n",
      "Epoch 6/50\n",
      "1576/1576 [==============================] - 3s 2ms/step - loss: -1.8531 - val_loss: -2.1383\n",
      "Epoch 7/50\n",
      "1576/1576 [==============================] - 3s 2ms/step - loss: -2.0002 - val_loss: -2.3003\n",
      "Epoch 8/50\n",
      "1576/1576 [==============================] - 3s 2ms/step - loss: -2.1424 - val_loss: -2.4080\n",
      "Epoch 9/50\n",
      "1576/1576 [==============================] - 3s 2ms/step - loss: -2.2528 - val_loss: -2.5243\n",
      "Epoch 10/50\n",
      "1576/1576 [==============================] - 3s 2ms/step - loss: -2.3484 - val_loss: -2.6433\n",
      "Epoch 11/50\n",
      "1576/1576 [==============================] - 3s 2ms/step - loss: -2.4286 - val_loss: -2.7067\n",
      "Epoch 12/50\n",
      "1576/1576 [==============================] - 3s 2ms/step - loss: -2.4913 - val_loss: -2.7283\n",
      "Epoch 13/50\n",
      "1576/1576 [==============================] - 3s 2ms/step - loss: -2.5449 - val_loss: -2.8065\n",
      "Epoch 14/50\n",
      "1576/1576 [==============================] - 3s 2ms/step - loss: -2.5956 - val_loss: -2.8766\n",
      "Epoch 15/50\n",
      "1576/1576 [==============================] - 3s 2ms/step - loss: -2.6362 - val_loss: -2.8906\n",
      "Epoch 16/50\n",
      "1576/1576 [==============================] - 3s 2ms/step - loss: -2.6733 - val_loss: -2.9490\n",
      "Epoch 17/50\n",
      "1576/1576 [==============================] - 3s 2ms/step - loss: -2.7090 - val_loss: -2.9839\n",
      "Epoch 18/50\n",
      "1576/1576 [==============================] - 3s 2ms/step - loss: -2.7381 - val_loss: -3.0132\n",
      "Epoch 19/50\n",
      "1576/1576 [==============================] - 3s 2ms/step - loss: -2.7690 - val_loss: -3.0405\n",
      "Epoch 20/50\n",
      "1576/1576 [==============================] - 3s 2ms/step - loss: -2.7920 - val_loss: -3.0725\n",
      "Epoch 21/50\n",
      "1576/1576 [==============================] - 3s 2ms/step - loss: -2.8166 - val_loss: -3.0601\n",
      "Epoch 22/50\n",
      "1576/1576 [==============================] - 3s 2ms/step - loss: -2.8369 - val_loss: -3.0755\n",
      "Epoch 23/50\n",
      "1576/1576 [==============================] - 3s 2ms/step - loss: -2.8601 - val_loss: -3.1289\n",
      "Epoch 24/50\n",
      "1576/1576 [==============================] - 3s 2ms/step - loss: -2.8812 - val_loss: -3.1245\n",
      "Epoch 25/50\n",
      "1576/1576 [==============================] - 3s 2ms/step - loss: -2.8939 - val_loss: -3.1509\n",
      "Epoch 26/50\n",
      "1576/1576 [==============================] - 3s 2ms/step - loss: -2.9147 - val_loss: -3.1478\n",
      "Epoch 27/50\n",
      "1576/1576 [==============================] - 3s 2ms/step - loss: -2.9294 - val_loss: -3.1239\n",
      "Epoch 28/50\n",
      "1576/1576 [==============================] - 3s 2ms/step - loss: -2.9430 - val_loss: -3.1936\n",
      "Epoch 29/50\n",
      "1576/1576 [==============================] - 3s 2ms/step - loss: -2.9566 - val_loss: -3.1911\n",
      "Epoch 30/50\n",
      "1576/1576 [==============================] - 3s 2ms/step - loss: -2.9677 - val_loss: -3.2490\n",
      "Epoch 31/50\n",
      "1576/1576 [==============================] - 3s 2ms/step - loss: -2.9836 - val_loss: -3.2353\n",
      "Epoch 32/50\n",
      "1576/1576 [==============================] - 3s 2ms/step - loss: -2.9966 - val_loss: -3.2465\n",
      "Epoch 33/50\n",
      "1576/1576 [==============================] - 3s 2ms/step - loss: -3.0077 - val_loss: -3.2666\n",
      "Epoch 34/50\n",
      "1576/1576 [==============================] - 3s 2ms/step - loss: -3.0206 - val_loss: -3.2010\n",
      "Epoch 35/50\n",
      "1576/1576 [==============================] - 3s 2ms/step - loss: -3.0328 - val_loss: -3.2580\n",
      "Epoch 36/50\n",
      "1576/1576 [==============================] - 3s 2ms/step - loss: -3.0407 - val_loss: -3.2958\n",
      "Epoch 37/50\n",
      "1576/1576 [==============================] - 3s 2ms/step - loss: -3.0535 - val_loss: -3.2709\n",
      "Epoch 38/50\n",
      "1576/1576 [==============================] - 3s 2ms/step - loss: -3.0612 - val_loss: -3.3190\n",
      "Epoch 39/50\n",
      "1576/1576 [==============================] - 3s 2ms/step - loss: -3.0725 - val_loss: -3.3128\n",
      "Epoch 40/50\n",
      "1576/1576 [==============================] - 3s 2ms/step - loss: -3.0830 - val_loss: -3.2972\n",
      "Epoch 41/50\n",
      "1576/1576 [==============================] - 3s 2ms/step - loss: -3.0896 - val_loss: -3.3266\n",
      "Epoch 42/50\n",
      "1576/1576 [==============================] - 3s 2ms/step - loss: -3.0976 - val_loss: -3.3731\n",
      "Epoch 43/50\n",
      "1576/1576 [==============================] - 3s 2ms/step - loss: -3.1070 - val_loss: -3.3507\n",
      "Epoch 44/50\n",
      "1576/1576 [==============================] - 3s 2ms/step - loss: -3.1139 - val_loss: -3.3502\n",
      "Epoch 45/50\n",
      "1576/1576 [==============================] - 3s 2ms/step - loss: -3.1221 - val_loss: -3.3782\n",
      "Epoch 46/50\n",
      "1576/1576 [==============================] - 3s 2ms/step - loss: -3.1310 - val_loss: -3.3892\n",
      "Epoch 47/50\n",
      "1576/1576 [==============================] - 3s 2ms/step - loss: -3.1373 - val_loss: -3.3656\n",
      "Epoch 48/50\n",
      "1576/1576 [==============================] - 3s 2ms/step - loss: -3.1442 - val_loss: -3.3815\n",
      "Epoch 49/50\n",
      "1576/1576 [==============================] - 3s 2ms/step - loss: -3.1498 - val_loss: -3.3958\n",
      "Epoch 50/50\n",
      "1576/1576 [==============================] - 3s 2ms/step - loss: -3.1584 - val_loss: -3.3827\n",
      "exe time:  157.78533792495728\n"
     ]
    }
   ],
   "source": [
    "mcp = ModelCheckpoint('/data/Quan/tf_models/amazon/vae_model.hdf5', monitor='val_loss', \n",
    "                      save_best_only=True, save_weights_only=False)\n",
    "\n",
    "start = time.time()\n",
    "history = vae.fit(s_features, s_features, batch_size=batch_size, epochs=50, \n",
    "          validation_data=(sval_features, sval_features), callbacks=[mcp], verbose=1)\n",
    "\n",
    "exe_time = time.time() - start\n",
    "\n",
    "print('exe time: ', exe_time)\n",
    "with open('/data/Quan/tf_models/amazon/vae_history.hdf5', 'wb') as dt:\n",
    "    pickle.dump(history.history, dt)\n",
    "    "
   ]
  },
  {
   "cell_type": "code",
   "execution_count": 7,
   "metadata": {},
   "outputs": [
    {
     "data": {
      "image/png": "[encoded data removed]",
      "text/plain": [
       "<Figure size 432x288 with 1 Axes>"
      ]
     },
     "metadata": {
      "needs_background": "light"
     },
     "output_type": "display_data"
    }
   ],
   "source": [
    "plt.plot(history.history['loss'], label='loss')\n",
    "plt.plot(history.history['val_loss'], label='val_loss')\n",
    "plt.legend()\n",
    "plt.show()"
   ]
  },
  {
   "cell_type": "markdown",
   "metadata": {},
   "source": [
    "## Webcam"
   ]
  },
  {
   "cell_type": "code",
   "execution_count": 16,
   "metadata": {
    "scrolled": true
   },
   "outputs": [
    {
     "name": "stdout",
     "output_type": "stream",
     "text": [
      "Train on 444 samples, validate on 112 samples\n",
      "Epoch 1/100\n",
      "444/444 [==============================] - 1s 3ms/step - loss: 0.8699 - val_loss: 0.6652\n",
      "Epoch 2/100\n",
      "444/444 [==============================] - 1s 2ms/step - loss: 0.6555 - val_loss: 0.6290\n",
      "Epoch 3/100\n",
      "444/444 [==============================] - 1s 2ms/step - loss: 0.6202 - val_loss: 0.5526\n",
      "Epoch 4/100\n",
      "444/444 [==============================] - 1s 2ms/step - loss: 0.4931 - val_loss: 0.4043\n",
      "Epoch 5/100\n",
      "444/444 [==============================] - 1s 2ms/step - loss: 0.3830 - val_loss: 0.3347\n",
      "Epoch 6/100\n",
      "444/444 [==============================] - 1s 2ms/step - loss: 0.3364 - val_loss: 0.2913\n",
      "Epoch 7/100\n",
      "444/444 [==============================] - 1s 2ms/step - loss: 0.3106 - val_loss: 0.3137\n",
      "Epoch 8/100\n",
      "444/444 [==============================] - 1s 2ms/step - loss: 0.2996 - val_loss: 0.2715\n",
      "Epoch 9/100\n",
      "444/444 [==============================] - 1s 2ms/step - loss: 0.2838 - val_loss: 0.2532\n",
      "Epoch 10/100\n",
      "444/444 [==============================] - 1s 2ms/step - loss: 0.2784 - val_loss: 0.2336\n",
      "Epoch 11/100\n",
      "444/444 [==============================] - 1s 2ms/step - loss: 0.2511 - val_loss: 0.2010\n",
      "Epoch 12/100\n",
      "444/444 [==============================] - 1s 2ms/step - loss: 0.2071 - val_loss: 0.1481\n",
      "Epoch 13/100\n",
      "444/444 [==============================] - 1s 2ms/step - loss: 0.1554 - val_loss: 0.0991\n",
      "Epoch 14/100\n",
      "444/444 [==============================] - 1s 2ms/step - loss: 0.1041 - val_loss: 0.0455\n",
      "Epoch 15/100\n",
      "444/444 [==============================] - 1s 2ms/step - loss: 0.0476 - val_loss: 0.0105\n",
      "Epoch 16/100\n",
      "444/444 [==============================] - 1s 2ms/step - loss: -0.0075 - val_loss: -0.0499\n",
      "Epoch 17/100\n",
      "444/444 [==============================] - 1s 2ms/step - loss: -0.0533 - val_loss: -0.1225\n",
      "Epoch 18/100\n",
      "444/444 [==============================] - 1s 2ms/step - loss: -0.0974 - val_loss: -0.1580\n",
      "Epoch 19/100\n",
      "444/444 [==============================] - 1s 2ms/step - loss: -0.1396 - val_loss: -0.1922\n",
      "Epoch 20/100\n",
      "444/444 [==============================] - 1s 2ms/step - loss: -0.1743 - val_loss: -0.2127\n",
      "Epoch 21/100\n",
      "444/444 [==============================] - 1s 2ms/step - loss: -0.2130 - val_loss: -0.2643\n",
      "Epoch 22/100\n",
      "444/444 [==============================] - 1s 2ms/step - loss: -0.2487 - val_loss: -0.2843\n",
      "Epoch 23/100\n",
      "444/444 [==============================] - 1s 2ms/step - loss: -0.2851 - val_loss: -0.3381\n",
      "Epoch 24/100\n",
      "444/444 [==============================] - 1s 2ms/step - loss: -0.3198 - val_loss: -0.3779\n",
      "Epoch 25/100\n",
      "444/444 [==============================] - 1s 2ms/step - loss: -0.3609 - val_loss: -0.3985\n",
      "Epoch 26/100\n",
      "444/444 [==============================] - 1s 2ms/step - loss: -0.3929 - val_loss: -0.4512\n",
      "Epoch 27/100\n",
      "444/444 [==============================] - 1s 2ms/step - loss: -0.4232 - val_loss: -0.4633\n",
      "Epoch 28/100\n",
      "444/444 [==============================] - 1s 2ms/step - loss: -0.4644 - val_loss: -0.5137\n",
      "Epoch 29/100\n",
      "444/444 [==============================] - 1s 2ms/step - loss: -0.4987 - val_loss: -0.5405\n",
      "Epoch 30/100\n",
      "444/444 [==============================] - 1s 2ms/step - loss: -0.5388 - val_loss: -0.5841\n",
      "Epoch 31/100\n",
      "444/444 [==============================] - 1s 2ms/step - loss: -0.5770 - val_loss: -0.6190\n",
      "Epoch 32/100\n",
      "444/444 [==============================] - 1s 2ms/step - loss: -0.6141 - val_loss: -0.6415\n",
      "Epoch 33/100\n",
      "444/444 [==============================] - 1s 2ms/step - loss: -0.6499 - val_loss: -0.6907\n",
      "Epoch 34/100\n",
      "444/444 [==============================] - 1s 2ms/step - loss: -0.6843 - val_loss: -0.7180\n",
      "Epoch 35/100\n",
      "444/444 [==============================] - 1s 2ms/step - loss: -0.7141 - val_loss: -0.7601\n",
      "Epoch 36/100\n",
      "444/444 [==============================] - 1s 2ms/step - loss: -0.7532 - val_loss: -0.7636\n",
      "Epoch 37/100\n",
      "444/444 [==============================] - 1s 2ms/step - loss: -0.7757 - val_loss: -0.7955\n",
      "Epoch 38/100\n",
      "444/444 [==============================] - 1s 2ms/step - loss: -0.8059 - val_loss: -0.8207\n",
      "Epoch 39/100\n",
      "444/444 [==============================] - 1s 2ms/step - loss: -0.8329 - val_loss: -0.8464\n",
      "Epoch 40/100\n",
      "444/444 [==============================] - 1s 2ms/step - loss: -0.8575 - val_loss: -0.8743\n",
      "Epoch 41/100\n",
      "444/444 [==============================] - 1s 2ms/step - loss: -0.8821 - val_loss: -0.8959\n",
      "Epoch 42/100\n",
      "444/444 [==============================] - 1s 2ms/step - loss: -0.9080 - val_loss: -0.9332\n",
      "Epoch 43/100\n",
      "444/444 [==============================] - 1s 2ms/step - loss: -0.9219 - val_loss: -0.9517\n",
      "Epoch 44/100\n",
      "444/444 [==============================] - 1s 2ms/step - loss: -0.9553 - val_loss: -0.9626\n",
      "Epoch 45/100\n",
      "444/444 [==============================] - 1s 2ms/step - loss: -0.9756 - val_loss: -0.9616\n",
      "Epoch 46/100\n",
      "444/444 [==============================] - 1s 2ms/step - loss: -0.9908 - val_loss: -1.0202\n",
      "Epoch 47/100\n",
      "444/444 [==============================] - 1s 2ms/step - loss: -1.0172 - val_loss: -1.0303\n",
      "Epoch 48/100\n",
      "444/444 [==============================] - 1s 2ms/step - loss: -1.0393 - val_loss: -1.0670\n",
      "Epoch 49/100\n",
      "444/444 [==============================] - 1s 2ms/step - loss: -1.0595 - val_loss: -1.0713\n",
      "Epoch 50/100\n",
      "444/444 [==============================] - 1s 2ms/step - loss: -1.0778 - val_loss: -1.0851\n",
      "Epoch 51/100\n",
      "444/444 [==============================] - 1s 2ms/step - loss: -1.0943 - val_loss: -1.1265\n",
      "Epoch 52/100\n",
      "444/444 [==============================] - 1s 2ms/step - loss: -1.1166 - val_loss: -1.0839\n",
      "Epoch 53/100\n",
      "444/444 [==============================] - 1s 2ms/step - loss: -1.1283 - val_loss: -1.1351\n",
      "Epoch 54/100\n",
      "444/444 [==============================] - 1s 2ms/step - loss: -1.1481 - val_loss: -1.1506\n",
      "Epoch 55/100\n",
      "444/444 [==============================] - 1s 2ms/step - loss: -1.1665 - val_loss: -1.1859\n",
      "Epoch 56/100\n",
      "444/444 [==============================] - 1s 2ms/step - loss: -1.1759 - val_loss: -1.1959\n",
      "Epoch 57/100\n",
      "444/444 [==============================] - 1s 2ms/step - loss: -1.1965 - val_loss: -1.1911\n",
      "Epoch 58/100\n",
      "444/444 [==============================] - 1s 2ms/step - loss: -1.2119 - val_loss: -1.2076\n",
      "Epoch 59/100\n",
      "444/444 [==============================] - 1s 2ms/step - loss: -1.2174 - val_loss: -1.2247\n",
      "Epoch 60/100\n",
      "444/444 [==============================] - 1s 2ms/step - loss: -1.2426 - val_loss: -1.2484\n",
      "Epoch 61/100\n",
      "444/444 [==============================] - 1s 2ms/step - loss: -1.2478 - val_loss: -1.2317\n",
      "Epoch 62/100\n",
      "444/444 [==============================] - 1s 2ms/step - loss: -1.2626 - val_loss: -1.2693\n",
      "Epoch 63/100\n",
      "444/444 [==============================] - 1s 2ms/step - loss: -1.2695 - val_loss: -1.2563\n",
      "Epoch 64/100\n",
      "444/444 [==============================] - 1s 2ms/step - loss: -1.2896 - val_loss: -1.2669\n",
      "Epoch 65/100\n",
      "444/444 [==============================] - 1s 2ms/step - loss: -1.2929 - val_loss: -1.2788\n",
      "Epoch 66/100\n",
      "444/444 [==============================] - 1s 2ms/step - loss: -1.3111 - val_loss: -1.2999\n",
      "Epoch 67/100\n",
      "444/444 [==============================] - 1s 2ms/step - loss: -1.3163 - val_loss: -1.3005\n",
      "Epoch 68/100\n",
      "444/444 [==============================] - 1s 2ms/step - loss: -1.3273 - val_loss: -1.3431\n",
      "Epoch 69/100\n",
      "444/444 [==============================] - 1s 2ms/step - loss: -1.3345 - val_loss: -1.2776\n",
      "Epoch 70/100\n",
      "444/444 [==============================] - 1s 2ms/step - loss: -1.3461 - val_loss: -1.3112\n",
      "Epoch 71/100\n",
      "444/444 [==============================] - 1s 2ms/step - loss: -1.3548 - val_loss: -1.3407\n",
      "Epoch 72/100\n",
      "444/444 [==============================] - 1s 2ms/step - loss: -1.3661 - val_loss: -1.3485\n",
      "Epoch 73/100\n",
      "444/444 [==============================] - 1s 2ms/step - loss: -1.3714 - val_loss: -1.3590\n",
      "Epoch 74/100\n",
      "444/444 [==============================] - 1s 2ms/step - loss: -1.3888 - val_loss: -1.3681\n",
      "Epoch 75/100\n",
      "444/444 [==============================] - 1s 2ms/step - loss: -1.3848 - val_loss: -1.3614\n",
      "Epoch 76/100\n",
      "444/444 [==============================] - 1s 2ms/step - loss: -1.4040 - val_loss: -1.3865\n",
      "Epoch 77/100\n",
      "444/444 [==============================] - 1s 2ms/step - loss: -1.3940 - val_loss: -1.3807\n",
      "Epoch 78/100\n",
      "444/444 [==============================] - 1s 2ms/step - loss: -1.4189 - val_loss: -1.3798\n",
      "Epoch 79/100\n",
      "444/444 [==============================] - 1s 2ms/step - loss: -1.4150 - val_loss: -1.3875\n",
      "Epoch 80/100\n",
      "444/444 [==============================] - 1s 2ms/step - loss: -1.4247 - val_loss: -1.3993\n",
      "Epoch 81/100\n",
      "444/444 [==============================] - 1s 2ms/step - loss: -1.4340 - val_loss: -1.4178\n",
      "Epoch 82/100\n",
      "444/444 [==============================] - 1s 2ms/step - loss: -1.4349 - val_loss: -1.4155\n",
      "Epoch 83/100\n",
      "444/444 [==============================] - 1s 2ms/step - loss: -1.4450 - val_loss: -1.4285\n",
      "Epoch 84/100\n",
      "444/444 [==============================] - 1s 2ms/step - loss: -1.4494 - val_loss: -1.4502\n",
      "Epoch 85/100\n",
      "444/444 [==============================] - 1s 2ms/step - loss: -1.4583 - val_loss: -1.4638\n",
      "Epoch 86/100\n",
      "444/444 [==============================] - 1s 2ms/step - loss: -1.4648 - val_loss: -1.4529\n",
      "Epoch 87/100\n",
      "444/444 [==============================] - 1s 2ms/step - loss: -1.4663 - val_loss: -1.4308\n",
      "Epoch 88/100\n",
      "444/444 [==============================] - 1s 2ms/step - loss: -1.4756 - val_loss: -1.4520\n",
      "Epoch 89/100\n",
      "444/444 [==============================] - 1s 2ms/step - loss: -1.4763 - val_loss: -1.4754\n",
      "Epoch 90/100\n",
      "444/444 [==============================] - 1s 2ms/step - loss: -1.4850 - val_loss: -1.4766\n",
      "Epoch 91/100\n",
      "444/444 [==============================] - 1s 2ms/step - loss: -1.4848 - val_loss: -1.4726\n",
      "Epoch 92/100\n",
      "444/444 [==============================] - 1s 2ms/step - loss: -1.4915 - val_loss: -1.5007\n",
      "Epoch 93/100\n",
      "444/444 [==============================] - 1s 2ms/step - loss: -1.5011 - val_loss: -1.4633\n",
      "Epoch 94/100\n",
      "444/444 [==============================] - 1s 2ms/step - loss: -1.5011 - val_loss: -1.4747\n",
      "Epoch 95/100\n",
      "444/444 [==============================] - 1s 2ms/step - loss: -1.5048 - val_loss: -1.4951\n",
      "Epoch 96/100\n",
      "444/444 [==============================] - 1s 2ms/step - loss: -1.5105 - val_loss: -1.4835\n",
      "Epoch 97/100\n",
      "444/444 [==============================] - 1s 2ms/step - loss: -1.5184 - val_loss: -1.4989\n",
      "Epoch 98/100\n",
      "444/444 [==============================] - 1s 1ms/step - loss: -1.5198 - val_loss: -1.5060\n",
      "Epoch 99/100\n",
      "444/444 [==============================] - 1s 2ms/step - loss: -1.5190 - val_loss: -1.4922\n",
      "Epoch 100/100\n",
      "444/444 [==============================] - 1s 2ms/step - loss: -1.5293 - val_loss: -1.5352\n",
      "exe time:  78.94446206092834\n"
     ]
    }
   ],
   "source": [
    "mcp = ModelCheckpoint('/data/Quan/tf_models/webcam/vae_model.hdf5', monitor='val_loss', \n",
    "                      save_best_only=True, save_weights_only=False)\n",
    "\n",
    "start = time.time()\n",
    "history = vae.fit(s_features, s_features, batch_size=batch_size, epochs=100, \n",
    "          validation_data=(sval_features, sval_features), callbacks=[mcp], verbose=1)\n",
    "\n",
    "exe_time = time.time() - start\n",
    "\n",
    "print('exe time: ', exe_time)\n",
    "with open('/data/Quan/tf_models/webcam/vae_history.hdf5', 'wb') as dt:\n",
    "    pickle.dump(history.history, dt)\n",
    "    "
   ]
  },
  {
   "cell_type": "code",
   "execution_count": 17,
   "metadata": {},
   "outputs": [
    {
     "data": {
      "image/png": "[encoded data removed]",
      "text/plain": [
       "<Figure size 432x288 with 1 Axes>"
      ]
     },
     "metadata": {
      "needs_background": "light"
     },
     "output_type": "display_data"
    }
   ],
   "source": [
    "plt.plot(history.history['loss'], label='loss')\n",
    "plt.plot(history.history['val_loss'], label='val_loss')\n",
    "plt.legend()\n",
    "plt.show()"
   ]
  },
  {
   "cell_type": "code",
   "execution_count": 19,
   "metadata": {},
   "outputs": [],
   "source": [
    "import keras.losses\n",
    "keras.losses.vae_loss = vae_loss"
   ]
  },
  {
   "cell_type": "markdown",
   "metadata": {},
   "source": [
    "## Define combined vae (t_encoder + s_decoder)"
   ]
  },
  {
   "cell_type": "code",
   "execution_count": 33,
   "metadata": {},
   "outputs": [],
   "source": [
    "s_vae = load_model('/data/Quan/tf_models/amazon/vae_model.hdf5')\n",
    "t_vae = load_model('/data/Quan/tf_models/webcam/vae_model.hdf5')\n",
    "\n",
    "t_encoder = Model(t_vae.input, [t_vae.layers[2].output, t_vae.layers[3].output])"
   ]
  },
  {
   "cell_type": "code",
   "execution_count": 38,
   "metadata": {},
   "outputs": [],
   "source": [
    "_input_z = Input(shape=(18,18,64))\n",
    "_input_z_log_mean = Input(shape=(18,18,64))\n",
    "\n",
    "s_z = Lambda(sampling, name='lambda_sampling')([_input_z,_input_z_log_mean])\n",
    "s_h_decoded = decoder_h(s_z)\n",
    "s_x_decoded_mean = decoder_mean(s_h_decoded)\n",
    "\n",
    "s_decoder = Model([_input_z, _input_z_log_mean], s_x_decoded_mean)\n",
    "\n",
    "# set weights from amazon vae decoder\n",
    "for i in range(3, len(s_decoder.layers)):\n",
    "    s_decoder.layers[i].set_weights(s_vae.layers[i+2].get_weights())"
   ]
  },
  {
   "cell_type": "code",
   "execution_count": 39,
   "metadata": {},
   "outputs": [
    {
     "name": "stdout",
     "output_type": "stream",
     "text": [
      "__________________________________________________________________________________________________\n",
      "Layer (type)                    Output Shape         Param #     Connected to                     \n",
      "==================================================================================================\n",
      "input_15 (InputLayer)           (None, 18, 18, 736)  0                                            \n",
      "__________________________________________________________________________________________________\n",
      "model_13 (Model)                [(None, 18, 18, 64), 221568      input_15[0][0]                   \n",
      "__________________________________________________________________________________________________\n",
      "model_17 (Model)                (None, 18, 18, 736)  205792      model_13[1][0]                   \n",
      "                                                                 model_13[1][1]                   \n",
      "==================================================================================================\n",
      "Total params: 427,360\n",
      "Trainable params: 427,360\n",
      "Non-trainable params: 0\n",
      "__________________________________________________________________________________________________\n"
     ]
    }
   ],
   "source": [
    "# combine webcam encoder + amazon decoder\n",
    "\n",
    "_c_input = Input(shape=(18,18,736))\n",
    "_t_encoder = t_encoder(_c_input)\n",
    "_s_decoder = s_decoder(_t_encoder)\n",
    "\n",
    "combine_vae = Model(_c_input, _s_decoder)\n",
    "combine_vae.summary()"
   ]
  },
  {
   "cell_type": "markdown",
   "metadata": {},
   "source": [
    "## Mapping t_features to s_features using combined vae"
   ]
  },
  {
   "cell_type": "code",
   "execution_count": 41,
   "metadata": {},
   "outputs": [
    {
     "name": "stdout",
     "output_type": "stream",
     "text": [
      "444/444 [==============================] - 1s 2ms/step\n"
     ]
    },
    {
     "data": {
      "text/plain": [
       "(444, 18, 18, 736)"
      ]
     },
     "execution_count": 41,
     "metadata": {},
     "output_type": "execute_result"
    }
   ],
   "source": [
    "transformed_features = combine_vae.predict(s_features, verbose=1)\n",
    "transformed_features.shape"
   ]
  },
  {
   "cell_type": "code",
   "execution_count": 42,
   "metadata": {},
   "outputs": [
    {
     "name": "stdout",
     "output_type": "stream",
     "text": [
      "112/112 [==============================] - 0s 2ms/step\n"
     ]
    },
    {
     "data": {
      "text/plain": [
       "(112, 18, 18, 736)"
      ]
     },
     "execution_count": 42,
     "metadata": {},
     "output_type": "execute_result"
    }
   ],
   "source": [
    "val_transformed_features = combine_vae.predict(sval_features, verbose=1)\n",
    "val_transformed_features.shape"
   ]
  },
  {
   "cell_type": "code",
   "execution_count": 61,
   "metadata": {},
   "outputs": [],
   "source": [
    "with open('/data/Quan/tf_models/webcam/t_test_features.hdf5', 'rb') as dt:\n",
    "    t_test_labels, t_test_features = pickle.load(dt)\n",
    "    \n",
    "t_test_labels = [label_dict[k] for k in t_test_labels]\n",
    "t_test_labels = keras.utils.to_categorical(t_test_labels, 31)"
   ]
  },
  {
   "cell_type": "code",
   "execution_count": 62,
   "metadata": {},
   "outputs": [
    {
     "name": "stdout",
     "output_type": "stream",
     "text": [
      "239/239 [==============================] - 1s 4ms/step\n"
     ]
    },
    {
     "data": {
      "text/plain": [
       "(239, 18, 18, 736)"
      ]
     },
     "execution_count": 62,
     "metadata": {},
     "output_type": "execute_result"
    }
   ],
   "source": [
    "test_transformed_features = combine_vae.predict(t_test_features, verbose=1)\n",
    "test_transformed_features.shape"
   ]
  },
  {
   "cell_type": "code",
   "execution_count": 76,
   "metadata": {},
   "outputs": [
    {
     "name": "stdout",
     "output_type": "stream",
     "text": [
      "__________________________________________________________________________________________________\n",
      "Layer (type)                    Output Shape         Param #     Connected to                     \n",
      "==================================================================================================\n",
      "input_1 (InputLayer)            (None, 300, 300, 3)  0                                            \n",
      "__________________________________________________________________________________________________\n",
      "conv0_block0 (Conv2D)           (None, 300, 300, 32) 896         input_1[0][0]                    \n",
      "__________________________________________________________________________________________________\n",
      "batchnorm0_block0 (BatchNormali (None, 300, 300, 32) 128         conv0_block0[0][0]               \n",
      "__________________________________________________________________________________________________\n",
      "relu0_block0 (Activation)       (None, 300, 300, 32) 0           batchnorm0_block0[0][0]          \n",
      "__________________________________________________________________________________________________\n",
      "conv1_block0 (Conv2D)           (None, 300, 300, 32) 9248        relu0_block0[0][0]               \n",
      "__________________________________________________________________________________________________\n",
      "batchnorm1_block0 (BatchNormali (None, 300, 300, 32) 128         conv1_block0[0][0]               \n",
      "__________________________________________________________________________________________________\n",
      "relu1_block0 (Activation)       (None, 300, 300, 32) 0           batchnorm1_block0[0][0]          \n",
      "__________________________________________________________________________________________________\n",
      "maxpooling_block0 (MaxPooling2D (None, 150, 150, 32) 0           relu1_block0[0][0]               \n",
      "__________________________________________________________________________________________________\n",
      "conv0_block1 (Conv2D)           (None, 150, 150, 64) 18496       maxpooling_block0[0][0]          \n",
      "__________________________________________________________________________________________________\n",
      "batchnorm0_block1 (BatchNormali (None, 150, 150, 64) 256         conv0_block1[0][0]               \n",
      "__________________________________________________________________________________________________\n",
      "relu0_block1 (Activation)       (None, 150, 150, 64) 0           batchnorm0_block1[0][0]          \n",
      "__________________________________________________________________________________________________\n",
      "conv1_block1 (Conv2D)           (None, 150, 150, 64) 36928       relu0_block1[0][0]               \n",
      "__________________________________________________________________________________________________\n",
      "batchnorm1_block1 (BatchNormali (None, 150, 150, 64) 256         conv1_block1[0][0]               \n",
      "__________________________________________________________________________________________________\n",
      "relu1_block1 (Activation)       (None, 150, 150, 64) 0           batchnorm1_block1[0][0]          \n",
      "__________________________________________________________________________________________________\n",
      "maxpooling_block1 (MaxPooling2D (None, 75, 75, 64)   0           relu1_block1[0][0]               \n",
      "__________________________________________________________________________________________________\n",
      "cropping_block0_block2 (Croppin (None, 75, 75, 32)   0           maxpooling_block0[0][0]          \n",
      "__________________________________________________________________________________________________\n",
      "concatenate_1 (Concatenate)     (None, 75, 75, 96)   0           cropping_block0_block2[0][0]     \n",
      "                                                                 maxpooling_block1[0][0]          \n",
      "__________________________________________________________________________________________________\n",
      "batch_normalization_1 (BatchNor (None, 75, 75, 96)   384         concatenate_1[0][0]              \n",
      "__________________________________________________________________________________________________\n",
      "conv0_block2 (Conv2D)           (None, 75, 75, 128)  110720      batch_normalization_1[0][0]      \n",
      "__________________________________________________________________________________________________\n",
      "batchnorm0_block2 (BatchNormali (None, 75, 75, 128)  512         conv0_block2[0][0]               \n",
      "__________________________________________________________________________________________________\n",
      "relu0_block2 (Activation)       (None, 75, 75, 128)  0           batchnorm0_block2[0][0]          \n",
      "__________________________________________________________________________________________________\n",
      "conv1_block2 (Conv2D)           (None, 75, 75, 128)  147584      relu0_block2[0][0]               \n",
      "__________________________________________________________________________________________________\n",
      "batchnorm1_block2 (BatchNormali (None, 75, 75, 128)  512         conv1_block2[0][0]               \n",
      "__________________________________________________________________________________________________\n",
      "relu1_block2 (Activation)       (None, 75, 75, 128)  0           batchnorm1_block2[0][0]          \n",
      "__________________________________________________________________________________________________\n",
      "conv2_block2 (Conv2D)           (None, 75, 75, 128)  147584      relu1_block2[0][0]               \n",
      "__________________________________________________________________________________________________\n",
      "batchnorm2_block2 (BatchNormali (None, 75, 75, 128)  512         conv2_block2[0][0]               \n",
      "__________________________________________________________________________________________________\n",
      "relu2_block2 (Activation)       (None, 75, 75, 128)  0           batchnorm2_block2[0][0]          \n",
      "__________________________________________________________________________________________________\n",
      "maxpooling_block2 (MaxPooling2D (None, 37, 37, 128)  0           relu2_block2[0][0]               \n",
      "__________________________________________________________________________________________________\n",
      "cropping_block0_block3 (Croppin (None, 37, 37, 32)   0           maxpooling_block0[0][0]          \n",
      "__________________________________________________________________________________________________\n",
      "cropping_block1_block3 (Croppin (None, 37, 37, 64)   0           maxpooling_block1[0][0]          \n",
      "__________________________________________________________________________________________________\n",
      "concatenate_2 (Concatenate)     (None, 37, 37, 224)  0           cropping_block0_block3[0][0]     \n",
      "                                                                 cropping_block1_block3[0][0]     \n",
      "                                                                 maxpooling_block2[0][0]          \n",
      "__________________________________________________________________________________________________\n",
      "batch_normalization_2 (BatchNor (None, 37, 37, 224)  896         concatenate_2[0][0]              \n",
      "__________________________________________________________________________________________________\n",
      "conv0_block3 (Conv2D)           (None, 37, 37, 512)  1032704     batch_normalization_2[0][0]      \n",
      "__________________________________________________________________________________________________\n",
      "batchnorm0_block3 (BatchNormali (None, 37, 37, 512)  2048        conv0_block3[0][0]               \n",
      "__________________________________________________________________________________________________\n",
      "relu0_block3 (Activation)       (None, 37, 37, 512)  0           batchnorm0_block3[0][0]          \n",
      "__________________________________________________________________________________________________\n",
      "conv1_block3 (Conv2D)           (None, 37, 37, 512)  2359808     relu0_block3[0][0]               \n",
      "__________________________________________________________________________________________________\n",
      "batchnorm1_block3 (BatchNormali (None, 37, 37, 512)  2048        conv1_block3[0][0]               \n",
      "__________________________________________________________________________________________________\n",
      "relu1_block3 (Activation)       (None, 37, 37, 512)  0           batchnorm1_block3[0][0]          \n",
      "__________________________________________________________________________________________________\n",
      "conv2_block3 (Conv2D)           (None, 37, 37, 512)  2359808     relu1_block3[0][0]               \n",
      "__________________________________________________________________________________________________\n",
      "batchnorm2_block3 (BatchNormali (None, 37, 37, 512)  2048        conv2_block3[0][0]               \n",
      "__________________________________________________________________________________________________\n",
      "relu2_block3 (Activation)       (None, 37, 37, 512)  0           batchnorm2_block3[0][0]          \n",
      "__________________________________________________________________________________________________\n",
      "cropping_block0_block4 (Croppin (None, 18, 18, 32)   0           maxpooling_block0[0][0]          \n",
      "__________________________________________________________________________________________________\n",
      "cropping_block1_block4 (Croppin (None, 18, 18, 64)   0           maxpooling_block1[0][0]          \n",
      "__________________________________________________________________________________________________\n",
      "cropping_block2_block4 (Croppin (None, 18, 18, 128)  0           maxpooling_block2[0][0]          \n",
      "__________________________________________________________________________________________________\n",
      "maxpooling_block3 (MaxPooling2D (None, 18, 18, 512)  0           relu2_block3[0][0]               \n",
      "__________________________________________________________________________________________________\n",
      "concatenate_3 (Concatenate)     (None, 18, 18, 736)  0           cropping_block0_block4[0][0]     \n",
      "                                                                 cropping_block1_block4[0][0]     \n",
      "                                                                 cropping_block2_block4[0][0]     \n",
      "                                                                 maxpooling_block3[0][0]          \n",
      "__________________________________________________________________________________________________\n",
      "global_average_pooling2d_1 (Glo (None, 736)          0           concatenate_3[0][0]              \n",
      "__________________________________________________________________________________________________\n",
      "dropout_1 (Dropout)             (None, 736)          0           global_average_pooling2d_1[0][0] \n",
      "__________________________________________________________________________________________________\n",
      "dense_1 (Dense)                 (None, 31)           22847       dropout_1[0][0]                  \n",
      "__________________________________________________________________________________________________\n",
      "batch_normalization_3 (BatchNor (None, 31)           124         dense_1[0][0]                    \n",
      "__________________________________________________________________________________________________\n",
      "activation_1 (Activation)       (None, 31)           0           batch_normalization_3[0][0]      \n",
      "==================================================================================================\n",
      "Total params: 6,256,475\n",
      "Trainable params: 6,251,549\n",
      "Non-trainable params: 4,926\n",
      "__________________________________________________________________________________________________\n"
     ]
    },
    {
     "name": "stdout",
     "output_type": "stream",
     "text": [
      "_________________________________________________________________\n",
      "Layer (type)                 Output Shape              Param #   \n",
      "=================================================================\n",
      "input_18 (InputLayer)        (None, 18, 18, 736)       0         \n",
      "_________________________________________________________________\n",
      "global_average_pooling2d_3 ( (None, 736)               0         \n",
      "_________________________________________________________________\n",
      "dropout_3 (Dropout)          (None, 736)               0         \n",
      "_________________________________________________________________\n",
      "dense_3 (Dense)              (None, 31)                22847     \n",
      "_________________________________________________________________\n",
      "batch_normalization_3 (Batch (None, 31)                124       \n",
      "_________________________________________________________________\n",
      "activation_3 (Activation)    (None, 31)                0         \n",
      "=================================================================\n",
      "Total params: 22,971\n",
      "Trainable params: 22,909\n",
      "Non-trainable params: 62\n",
      "_________________________________________________________________\n"
     ]
    }
   ],
   "source": [
    "# Get source classififer (amazon)\n",
    "s_baseline = load_model('/data/Quan/tf_models/amazon/baseline_model.hdf5')\n",
    "s_baseline.summary()\n",
    "\n",
    "input_model = Input(shape=(18,18,736))\n",
    "x = GlobalAveragePooling2D()(input_model)\n",
    "x = Dropout(0.3)(x)\n",
    "x = Dense(31)(x)\n",
    "x = BatchNormalization()(x)\n",
    "x = Activation('softmax')(x)\n",
    "\n",
    "s_topmodel = Model(input_model, x)\n",
    "\n",
    "for i in range(-5,0):\n",
    "#     print(s_topmodel.layers[i+6].name, s_baseline.layers[i].name)\n",
    "    s_topmodel.layers[i+6].set_weights(s_baseline.layers[i].get_weights())\n",
    "\n",
    "s_topmodel.compile(loss='categorical_crossentropy', optimizer=Adam(), metrics=['accuracy'])\n",
    "s_topmodel.summary()"
   ]
  },
  {
   "cell_type": "code",
   "execution_count": 59,
   "metadata": {},
   "outputs": [],
   "source": [
    "num_s_labels = [label_dict[k] for k in s_labels]\n",
    "num_sval_labels = [label_dict[k] for k in sval_labels]\n",
    "\n",
    "num_s_labels = keras.utils.to_categorical(num_s_labels, 31)\n",
    "num_sval_labels = keras.utils.to_categorical(num_sval_labels, 31)"
   ]
  },
  {
   "cell_type": "code",
   "execution_count": 63,
   "metadata": {},
   "outputs": [
    {
     "name": "stdout",
     "output_type": "stream",
     "text": [
      "239/239 [==============================] - 1s 2ms/step\n"
     ]
    },
    {
     "data": {
      "text/plain": [
       "[3.8848912067493138, 0.016736401673640166]"
      ]
     },
     "execution_count": 63,
     "metadata": {},
     "output_type": "execute_result"
    }
   ],
   "source": [
    "s_topmodel.evaluate(test_transformed_features, t_test_labels, verbose=1)"
   ]
  },
  {
   "cell_type": "code",
   "execution_count": 77,
   "metadata": {
    "scrolled": true
   },
   "outputs": [
    {
     "name": "stdout",
     "output_type": "stream",
     "text": [
      "Train on 444 samples, validate on 112 samples\n",
      "Epoch 1/100\n",
      "444/444 [==============================] - 2s 5ms/step - loss: 4.6792 - acc: 0.0293 - val_loss: 2.9964 - val_acc: 0.1429\n",
      "Epoch 2/100\n",
      "444/444 [==============================] - 0s 452us/step - loss: 3.5329 - acc: 0.1261 - val_loss: 2.3392 - val_acc: 0.2857\n",
      "Epoch 3/100\n",
      "444/444 [==============================] - 0s 475us/step - loss: 2.8008 - acc: 0.2365 - val_loss: 1.9336 - val_acc: 0.4375\n",
      "Epoch 4/100\n",
      "444/444 [==============================] - 0s 434us/step - loss: 2.2837 - acc: 0.3288 - val_loss: 1.6886 - val_acc: 0.4911\n",
      "Epoch 5/100\n",
      "444/444 [==============================] - 0s 448us/step - loss: 2.0238 - acc: 0.4032 - val_loss: 1.5372 - val_acc: 0.5357\n",
      "Epoch 6/100\n",
      "444/444 [==============================] - 0s 455us/step - loss: 1.6969 - acc: 0.4955 - val_loss: 1.4297 - val_acc: 0.5357\n",
      "Epoch 7/100\n",
      "444/444 [==============================] - 0s 452us/step - loss: 1.4900 - acc: 0.5653 - val_loss: 1.3400 - val_acc: 0.5446\n",
      "Epoch 8/100\n",
      "444/444 [==============================] - 0s 450us/step - loss: 1.3965 - acc: 0.5901 - val_loss: 1.2644 - val_acc: 0.5714\n",
      "Epoch 9/100\n",
      "444/444 [==============================] - 0s 436us/step - loss: 1.4477 - acc: 0.5811 - val_loss: 1.1940 - val_acc: 0.6339\n",
      "Epoch 10/100\n",
      "444/444 [==============================] - 0s 434us/step - loss: 1.2698 - acc: 0.6239 - val_loss: 1.1371 - val_acc: 0.6607\n",
      "Epoch 11/100\n",
      "444/444 [==============================] - 0s 436us/step - loss: 1.1540 - acc: 0.6802 - val_loss: 1.0774 - val_acc: 0.6964\n",
      "Epoch 12/100\n",
      "444/444 [==============================] - 0s 442us/step - loss: 1.1227 - acc: 0.7072 - val_loss: 1.0325 - val_acc: 0.7321\n",
      "Epoch 13/100\n",
      "444/444 [==============================] - 0s 468us/step - loss: 1.0641 - acc: 0.7275 - val_loss: 0.9984 - val_acc: 0.7500\n",
      "Epoch 14/100\n",
      "444/444 [==============================] - 0s 435us/step - loss: 0.9699 - acc: 0.7748 - val_loss: 0.9625 - val_acc: 0.7589\n",
      "Epoch 15/100\n",
      "444/444 [==============================] - 0s 434us/step - loss: 1.0008 - acc: 0.7545 - val_loss: 0.9398 - val_acc: 0.7679\n",
      "Epoch 16/100\n",
      "444/444 [==============================] - 0s 439us/step - loss: 0.9818 - acc: 0.7410 - val_loss: 0.9074 - val_acc: 0.7857\n",
      "Epoch 17/100\n",
      "444/444 [==============================] - 0s 447us/step - loss: 0.9337 - acc: 0.7658 - val_loss: 0.8884 - val_acc: 0.7857\n",
      "Epoch 18/100\n",
      "444/444 [==============================] - 0s 447us/step - loss: 0.9137 - acc: 0.7568 - val_loss: 0.8694 - val_acc: 0.7857\n",
      "Epoch 19/100\n",
      "444/444 [==============================] - 0s 438us/step - loss: 0.8752 - acc: 0.7928 - val_loss: 0.8425 - val_acc: 0.7946\n",
      "Epoch 20/100\n",
      "444/444 [==============================] - 0s 434us/step - loss: 0.9049 - acc: 0.7748 - val_loss: 0.8202 - val_acc: 0.7946\n",
      "Epoch 21/100\n",
      "444/444 [==============================] - 0s 449us/step - loss: 0.7798 - acc: 0.8176 - val_loss: 0.8070 - val_acc: 0.7946\n",
      "Epoch 22/100\n",
      "444/444 [==============================] - 0s 437us/step - loss: 0.8596 - acc: 0.7793 - val_loss: 0.7971 - val_acc: 0.8036\n",
      "Epoch 23/100\n",
      "444/444 [==============================] - 0s 444us/step - loss: 0.7923 - acc: 0.8198 - val_loss: 0.7901 - val_acc: 0.7946\n",
      "Epoch 24/100\n",
      "444/444 [==============================] - 0s 439us/step - loss: 0.7322 - acc: 0.8378 - val_loss: 0.7815 - val_acc: 0.8036\n",
      "Epoch 25/100\n",
      "444/444 [==============================] - 0s 436us/step - loss: 0.7473 - acc: 0.8266 - val_loss: 0.7681 - val_acc: 0.7946\n",
      "Epoch 26/100\n",
      "444/444 [==============================] - 0s 433us/step - loss: 0.7102 - acc: 0.8401 - val_loss: 0.7499 - val_acc: 0.7946\n",
      "Epoch 27/100\n",
      "444/444 [==============================] - 0s 435us/step - loss: 0.7439 - acc: 0.8198 - val_loss: 0.7366 - val_acc: 0.8036\n",
      "Epoch 28/100\n",
      "444/444 [==============================] - 0s 465us/step - loss: 0.7251 - acc: 0.8604 - val_loss: 0.7283 - val_acc: 0.8036\n",
      "Epoch 29/100\n",
      "444/444 [==============================] - 0s 451us/step - loss: 0.7121 - acc: 0.8423 - val_loss: 0.7181 - val_acc: 0.8125\n",
      "Epoch 30/100\n",
      "444/444 [==============================] - 0s 450us/step - loss: 0.6796 - acc: 0.8559 - val_loss: 0.7094 - val_acc: 0.8125\n",
      "Epoch 31/100\n",
      "444/444 [==============================] - 0s 451us/step - loss: 0.6445 - acc: 0.8896 - val_loss: 0.7040 - val_acc: 0.8125\n",
      "Epoch 32/100\n",
      "444/444 [==============================] - 0s 450us/step - loss: 0.6341 - acc: 0.8649 - val_loss: 0.6978 - val_acc: 0.8214\n",
      "Epoch 33/100\n",
      "444/444 [==============================] - 0s 435us/step - loss: 0.6708 - acc: 0.8604 - val_loss: 0.6906 - val_acc: 0.8393\n",
      "Epoch 34/100\n",
      "444/444 [==============================] - 0s 434us/step - loss: 0.6528 - acc: 0.8581 - val_loss: 0.6860 - val_acc: 0.8482\n",
      "Epoch 35/100\n",
      "444/444 [==============================] - 0s 448us/step - loss: 0.6064 - acc: 0.8919 - val_loss: 0.6821 - val_acc: 0.8482\n",
      "Epoch 36/100\n",
      "444/444 [==============================] - 0s 442us/step - loss: 0.5850 - acc: 0.8896 - val_loss: 0.6800 - val_acc: 0.8482\n",
      "Epoch 37/100\n",
      "444/444 [==============================] - 0s 455us/step - loss: 0.5932 - acc: 0.8716 - val_loss: 0.6749 - val_acc: 0.8482\n",
      "Epoch 38/100\n",
      "444/444 [==============================] - 0s 520us/step - loss: 0.5736 - acc: 0.8806 - val_loss: 0.6704 - val_acc: 0.8482\n",
      "Epoch 39/100\n",
      "444/444 [==============================] - 0s 533us/step - loss: 0.6135 - acc: 0.8761 - val_loss: 0.6658 - val_acc: 0.8482\n",
      "Epoch 40/100\n",
      "444/444 [==============================] - 0s 442us/step - loss: 0.6103 - acc: 0.8694 - val_loss: 0.6627 - val_acc: 0.8571\n",
      "Epoch 41/100\n",
      "444/444 [==============================] - 0s 443us/step - loss: 0.5494 - acc: 0.9009 - val_loss: 0.6574 - val_acc: 0.8571\n",
      "Epoch 42/100\n",
      "444/444 [==============================] - 0s 461us/step - loss: 0.5355 - acc: 0.8896 - val_loss: 0.6538 - val_acc: 0.8482\n",
      "Epoch 43/100\n",
      "444/444 [==============================] - 0s 454us/step - loss: 0.5701 - acc: 0.9009 - val_loss: 0.6497 - val_acc: 0.8482\n",
      "Epoch 44/100\n",
      "444/444 [==============================] - 0s 442us/step - loss: 0.5376 - acc: 0.8964 - val_loss: 0.6477 - val_acc: 0.8482\n",
      "Epoch 45/100\n",
      "444/444 [==============================] - 0s 434us/step - loss: 0.5711 - acc: 0.8671 - val_loss: 0.6425 - val_acc: 0.8393\n",
      "Epoch 46/100\n",
      "444/444 [==============================] - 0s 433us/step - loss: 0.5184 - acc: 0.9032 - val_loss: 0.6375 - val_acc: 0.8482\n",
      "Epoch 47/100\n",
      "444/444 [==============================] - 0s 436us/step - loss: 0.5700 - acc: 0.8919 - val_loss: 0.6334 - val_acc: 0.8482\n",
      "Epoch 48/100\n",
      "444/444 [==============================] - 0s 441us/step - loss: 0.5517 - acc: 0.8761 - val_loss: 0.6288 - val_acc: 0.8482\n",
      "Epoch 49/100\n",
      "444/444 [==============================] - 0s 440us/step - loss: 0.5380 - acc: 0.8986 - val_loss: 0.6278 - val_acc: 0.8482\n",
      "Epoch 50/100\n",
      "444/444 [==============================] - 0s 443us/step - loss: 0.5227 - acc: 0.9009 - val_loss: 0.6252 - val_acc: 0.8482\n",
      "Epoch 51/100\n",
      "444/444 [==============================] - 0s 437us/step - loss: 0.4877 - acc: 0.9122 - val_loss: 0.6216 - val_acc: 0.8393\n",
      "Epoch 52/100\n",
      "444/444 [==============================] - 0s 465us/step - loss: 0.4947 - acc: 0.9122 - val_loss: 0.6216 - val_acc: 0.8393\n",
      "Epoch 53/100\n",
      "444/444 [==============================] - 0s 449us/step - loss: 0.5437 - acc: 0.8986 - val_loss: 0.6202 - val_acc: 0.8482\n",
      "Epoch 54/100\n",
      "444/444 [==============================] - 0s 435us/step - loss: 0.5051 - acc: 0.9144 - val_loss: 0.6138 - val_acc: 0.8482\n",
      "Epoch 55/100\n",
      "444/444 [==============================] - 0s 434us/step - loss: 0.4660 - acc: 0.9189 - val_loss: 0.6104 - val_acc: 0.8482\n",
      "Epoch 56/100\n",
      "444/444 [==============================] - 0s 448us/step - loss: 0.4466 - acc: 0.9324 - val_loss: 0.6019 - val_acc: 0.8482\n",
      "Epoch 57/100\n",
      "444/444 [==============================] - 0s 434us/step - loss: 0.4815 - acc: 0.9167 - val_loss: 0.5975 - val_acc: 0.8482\n",
      "Epoch 58/100\n",
      "444/444 [==============================] - 0s 436us/step - loss: 0.4529 - acc: 0.9347 - val_loss: 0.5970 - val_acc: 0.8482\n",
      "Epoch 59/100\n",
      "444/444 [==============================] - 0s 435us/step - loss: 0.4801 - acc: 0.9054 - val_loss: 0.5943 - val_acc: 0.8482\n",
      "Epoch 60/100\n",
      "444/444 [==============================] - 0s 436us/step - loss: 0.4938 - acc: 0.9054 - val_loss: 0.5903 - val_acc: 0.8482\n"
     ]
    },
    {
     "name": "stdout",
     "output_type": "stream",
     "text": [
      "Epoch 61/100\n",
      "444/444 [==============================] - 0s 434us/step - loss: 0.4434 - acc: 0.9324 - val_loss: 0.5873 - val_acc: 0.8482\n",
      "Epoch 62/100\n",
      "444/444 [==============================] - 0s 434us/step - loss: 0.4157 - acc: 0.9279 - val_loss: 0.5876 - val_acc: 0.8482\n",
      "Epoch 63/100\n",
      "444/444 [==============================] - 0s 440us/step - loss: 0.4466 - acc: 0.9212 - val_loss: 0.5855 - val_acc: 0.8482\n",
      "Epoch 64/100\n",
      "444/444 [==============================] - 0s 436us/step - loss: 0.4349 - acc: 0.9144 - val_loss: 0.5868 - val_acc: 0.8482\n",
      "Epoch 65/100\n",
      "444/444 [==============================] - 0s 434us/step - loss: 0.4757 - acc: 0.8986 - val_loss: 0.5862 - val_acc: 0.8482\n",
      "Epoch 66/100\n",
      "444/444 [==============================] - 0s 434us/step - loss: 0.4580 - acc: 0.9212 - val_loss: 0.5828 - val_acc: 0.8393\n",
      "Epoch 67/100\n",
      "444/444 [==============================] - 0s 434us/step - loss: 0.4502 - acc: 0.9212 - val_loss: 0.5852 - val_acc: 0.8393\n",
      "Epoch 68/100\n",
      "444/444 [==============================] - 0s 438us/step - loss: 0.4766 - acc: 0.9279 - val_loss: 0.5844 - val_acc: 0.8393\n",
      "Epoch 69/100\n",
      "444/444 [==============================] - 0s 434us/step - loss: 0.4517 - acc: 0.9189 - val_loss: 0.5825 - val_acc: 0.8393\n",
      "Epoch 70/100\n",
      "444/444 [==============================] - 0s 432us/step - loss: 0.4584 - acc: 0.9212 - val_loss: 0.5827 - val_acc: 0.8393\n",
      "Epoch 71/100\n",
      "444/444 [==============================] - 0s 460us/step - loss: 0.3757 - acc: 0.9572 - val_loss: 0.5810 - val_acc: 0.8393\n",
      "Epoch 72/100\n",
      "444/444 [==============================] - 0s 436us/step - loss: 0.4621 - acc: 0.9077 - val_loss: 0.5803 - val_acc: 0.8482\n",
      "Epoch 73/100\n",
      "444/444 [==============================] - 0s 442us/step - loss: 0.3905 - acc: 0.9347 - val_loss: 0.5769 - val_acc: 0.8482\n",
      "Epoch 74/100\n",
      "444/444 [==============================] - 0s 450us/step - loss: 0.4419 - acc: 0.9234 - val_loss: 0.5728 - val_acc: 0.8482\n",
      "Epoch 75/100\n",
      "444/444 [==============================] - 0s 437us/step - loss: 0.4267 - acc: 0.9189 - val_loss: 0.5697 - val_acc: 0.8482\n",
      "Epoch 76/100\n",
      "444/444 [==============================] - 0s 435us/step - loss: 0.4289 - acc: 0.9212 - val_loss: 0.5689 - val_acc: 0.8482\n",
      "Epoch 77/100\n",
      "444/444 [==============================] - 0s 434us/step - loss: 0.4719 - acc: 0.8964 - val_loss: 0.5706 - val_acc: 0.8482\n",
      "Epoch 78/100\n",
      "444/444 [==============================] - 0s 437us/step - loss: 0.3890 - acc: 0.9189 - val_loss: 0.5711 - val_acc: 0.8482\n",
      "Epoch 79/100\n",
      "444/444 [==============================] - 0s 433us/step - loss: 0.4169 - acc: 0.9189 - val_loss: 0.5627 - val_acc: 0.8393\n",
      "Epoch 80/100\n",
      "444/444 [==============================] - 0s 432us/step - loss: 0.4060 - acc: 0.9122 - val_loss: 0.5537 - val_acc: 0.8393\n",
      "Epoch 81/100\n",
      "444/444 [==============================] - 0s 434us/step - loss: 0.3584 - acc: 0.9369 - val_loss: 0.5484 - val_acc: 0.8393\n",
      "Epoch 82/100\n",
      "444/444 [==============================] - 0s 443us/step - loss: 0.3785 - acc: 0.9414 - val_loss: 0.5450 - val_acc: 0.8482\n",
      "Epoch 83/100\n",
      "444/444 [==============================] - 0s 445us/step - loss: 0.3961 - acc: 0.9234 - val_loss: 0.5470 - val_acc: 0.8482\n",
      "Epoch 84/100\n",
      "444/444 [==============================] - 0s 445us/step - loss: 0.4232 - acc: 0.9279 - val_loss: 0.5452 - val_acc: 0.8482\n",
      "Epoch 85/100\n",
      "444/444 [==============================] - 0s 452us/step - loss: 0.4167 - acc: 0.9167 - val_loss: 0.5398 - val_acc: 0.8482\n",
      "Epoch 86/100\n",
      "444/444 [==============================] - 0s 458us/step - loss: 0.3740 - acc: 0.9302 - val_loss: 0.5342 - val_acc: 0.8482\n",
      "Epoch 87/100\n",
      "444/444 [==============================] - 0s 452us/step - loss: 0.3975 - acc: 0.9369 - val_loss: 0.5348 - val_acc: 0.8482\n",
      "Epoch 88/100\n",
      "444/444 [==============================] - 0s 451us/step - loss: 0.3935 - acc: 0.9189 - val_loss: 0.5351 - val_acc: 0.8482\n",
      "Epoch 89/100\n",
      "444/444 [==============================] - 0s 438us/step - loss: 0.4274 - acc: 0.9077 - val_loss: 0.5383 - val_acc: 0.8571\n",
      "Epoch 90/100\n",
      "444/444 [==============================] - 0s 448us/step - loss: 0.3916 - acc: 0.9257 - val_loss: 0.5411 - val_acc: 0.8571\n",
      "Epoch 91/100\n",
      "444/444 [==============================] - 0s 435us/step - loss: 0.3611 - acc: 0.9369 - val_loss: 0.5405 - val_acc: 0.8571\n",
      "Epoch 92/100\n",
      "444/444 [==============================] - 0s 431us/step - loss: 0.3659 - acc: 0.9505 - val_loss: 0.5382 - val_acc: 0.8571\n",
      "Epoch 93/100\n",
      "444/444 [==============================] - 0s 432us/step - loss: 0.3410 - acc: 0.9369 - val_loss: 0.5354 - val_acc: 0.8482\n",
      "Epoch 94/100\n",
      "444/444 [==============================] - 0s 432us/step - loss: 0.3626 - acc: 0.9369 - val_loss: 0.5335 - val_acc: 0.8482\n",
      "Epoch 95/100\n",
      "444/444 [==============================] - 0s 432us/step - loss: 0.3296 - acc: 0.9392 - val_loss: 0.5312 - val_acc: 0.8482\n",
      "Epoch 96/100\n",
      "444/444 [==============================] - 0s 440us/step - loss: 0.4047 - acc: 0.9257 - val_loss: 0.5253 - val_acc: 0.8482\n",
      "Epoch 97/100\n",
      "444/444 [==============================] - 0s 447us/step - loss: 0.3688 - acc: 0.9324 - val_loss: 0.5269 - val_acc: 0.8482\n",
      "Epoch 98/100\n",
      "444/444 [==============================] - 0s 434us/step - loss: 0.3909 - acc: 0.9257 - val_loss: 0.5239 - val_acc: 0.8482\n",
      "Epoch 99/100\n",
      "444/444 [==============================] - 0s 438us/step - loss: 0.3770 - acc: 0.9302 - val_loss: 0.5236 - val_acc: 0.8482\n",
      "Epoch 100/100\n",
      "444/444 [==============================] - 0s 441us/step - loss: 0.3712 - acc: 0.9212 - val_loss: 0.5277 - val_acc: 0.8482\n",
      "exe time:  24.25758934020996\n"
     ]
    }
   ],
   "source": [
    "mcp = ModelCheckpoint('/data/Quan/tf_models/webcam/amazon_classifier_model.hdf5', monitor='val_acc', \n",
    "                      save_best_only=True, save_weights_only=False)\n",
    "\n",
    "start = time.time()\n",
    "history = s_topmodel.fit(transformed_features, num_s_labels, batch_size=32, epochs=100,\n",
    "               validation_data=(val_transformed_features, num_sval_labels), verbose=1, callbacks=[mcp])\n",
    "\n",
    "with open('/data/Quan/tf_models/webcam/amazon_classifier_history.hdf5', 'wb') as dt:\n",
    "    pickle.dump(history, dt)\n",
    "    \n",
    "exe_time = time.time() - start\n",
    "\n",
    "print('exe time: ', exe_time)"
   ]
  },
  {
   "cell_type": "code",
   "execution_count": 74,
   "metadata": {},
   "outputs": [
    {
     "data": {
      "image/png": "[encoded data removed]",
      "text/plain": [
       "<Figure size 432x288 with 1 Axes>"
      ]
     },
     "metadata": {
      "needs_background": "light"
     },
     "output_type": "display_data"
    },
    {
     "data": {
      "image/png": "[encoded data removed]",
      "text/plain": [
       "<Figure size 432x288 with 1 Axes>"
      ]
     },
     "metadata": {
      "needs_background": "light"
     },
     "output_type": "display_data"
    }
   ],
   "source": [
    "%matplotlib inline\n",
    "plt.plot(history.history['acc'], label='acc')\n",
    "plt.plot(history.history['val_acc'], label='val_acc')\n",
    "plt.legend()\n",
    "plt.show()\n",
    "\n",
    "plt.plot(history.history['loss'], label='loss')\n",
    "plt.plot(history.history['val_loss'], label='val_loss')\n",
    "plt.legend()\n",
    "plt.show()"
   ]
  },
  {
   "cell_type": "code",
   "execution_count": 75,
   "metadata": {},
   "outputs": [
    {
     "name": "stdout",
     "output_type": "stream",
     "text": [
      "239/239 [==============================] - 1s 3ms/step\n"
     ]
    },
    {
     "data": {
      "text/plain": [
       "[0.6694457146911941, 0.8284518833439719]"
      ]
     },
     "execution_count": 75,
     "metadata": {},
     "output_type": "execute_result"
    }
   ],
   "source": [
    "test_topmodel = load_model('/data/Quan/tf_models/webcam/amazon_classifier_model.hdf5')\n",
    "test_topmodel.evaluate(test_transformed_features, t_test_labels, verbose=1)"
   ]
  },
  {
   "cell_type": "markdown",
   "metadata": {},
   "source": [
    "## Define VAE with GAP"
   ]
  },
  {
   "cell_type": "code",
   "execution_count": 11,
   "metadata": {
    "scrolled": true
   },
   "outputs": [
    {
     "name": "stdout",
     "output_type": "stream",
     "text": [
      "__________________________________________________________________________________________________\n",
      "Layer (type)                    Output Shape         Param #     Connected to                     \n",
      "==================================================================================================\n",
      "input (InputLayer)              (None, 18, 18, 736)  0                                            \n",
      "__________________________________________________________________________________________________\n",
      "global_average_pooling (GlobalA (None, 736)          0           input[0][0]                      \n",
      "__________________________________________________________________________________________________\n",
      "h (Dense)                       (None, 256)          188672      global_average_pooling[0][0]     \n",
      "__________________________________________________________________________________________________\n",
      "z_mean (Dense)                  (None, 64)           16448       h[0][0]                          \n",
      "__________________________________________________________________________________________________\n",
      "z_log_sigma (Dense)             (None, 64)           16448       h[0][0]                          \n",
      "__________________________________________________________________________________________________\n",
      "lambda_sampling (Lambda)        (None, 64)           0           z_mean[0][0]                     \n",
      "                                                                 z_log_sigma[0][0]                \n",
      "__________________________________________________________________________________________________\n",
      "decoder_h (Dense)               (None, 256)          16640       lambda_sampling[0][0]            \n",
      "__________________________________________________________________________________________________\n",
      "decoder_mean (Dense)            (None, 736)          189152      decoder_h[0][0]                  \n",
      "==================================================================================================\n",
      "Total params: 427,360\n",
      "Trainable params: 427,360\n",
      "Non-trainable params: 0\n",
      "__________________________________________________________________________________________________\n"
     ]
    }
   ],
   "source": [
    "def sampling(args):\n",
    "    z_mean, z_log_sigma = args\n",
    "    epsilon = K.random_normal(shape=((64,)))\n",
    "    out = z_mean + K.exp(z_log_sigma) * epsilon\n",
    "    return out\n",
    "\n",
    "def vae_loss(x, x_decoded_mean):\n",
    "    xent_loss = binary_crossentropy(x, x_decoded_mean)\n",
    "    kl_loss = -0.5 * K.mean(1 + z_log_sigma - K.square(z_mean) - K.exp(z_log_sigma), axis=-1)\n",
    "    return xent_loss + kl_loss\n",
    "\n",
    "\n",
    "latent_dim=64\n",
    "input_shape=(18,18,736)\n",
    "batch_size=32\n",
    "\n",
    "x = Input(shape=(input_shape), name='input')\n",
    "h = GlobalAveragePooling2D(name='global_average_pooling')(x)\n",
    "h = Dense(256, activation='relu', name='h')(h)\n",
    "\n",
    "z_mean = Dense(latent_dim, name='z_mean')(h)\n",
    "z_log_sigma = Dense(latent_dim, name='z_log_sigma')(h)\n",
    "\n",
    "z = Lambda(sampling, name='lambda_sampling')([z_mean,z_log_sigma])\n",
    "\n",
    "decoder_h = Dense(256, activation='relu', name='decoder_h')\n",
    "decoder_mean = Dense(736, activation='sigmoid', name='decoder_mean')\n",
    "\n",
    "h_decoded = decoder_h(z)\n",
    "x_decoded_mean = decoder_mean(h_decoded)\n",
    "\n",
    "vae = Model(x, x_decoded_mean)\n",
    "encoder = Model(x, z_mean)\n",
    "# print(encoder.summary())\n",
    "\n",
    "decoder_input = Input(shape=(64,))\n",
    "_h_decoded = decoder_h(decoder_input)\n",
    "_x_decoded_mean = decoder_mean(_h_decoded)\n",
    "generator = Model(decoder_input, _x_decoded_mean)\n",
    "\n",
    "vae.compile(optimizer='rmsprop', loss=vae_loss)\n",
    "vae.summary()"
   ]
  },
  {
   "cell_type": "markdown",
   "metadata": {},
   "source": [
    "## Webcam"
   ]
  },
  {
   "cell_type": "code",
   "execution_count": 10,
   "metadata": {},
   "outputs": [
    {
     "data": {
      "text/plain": [
       "((444, 736), (112, 736))"
      ]
     },
     "execution_count": 10,
     "metadata": {},
     "output_type": "execute_result"
    }
   ],
   "source": [
    "in_g = Input(shape=(18,18,736))\n",
    "g = GlobalAveragePooling2D()(in_g)\n",
    "util_gap = Model(in_g, g)\n",
    "util_gap.compile(optimizer='adam', loss=binary_crossentropy)\n",
    "\n",
    "s_gap_features = util_gap.predict(s_features)\n",
    "sval_gap_features = util_gap.predict(sval_features)\n",
    "\n",
    "s_gap_features.shape, sval_gap_features.shape"
   ]
  },
  {
   "cell_type": "code",
   "execution_count": 12,
   "metadata": {
    "scrolled": true
   },
   "outputs": [
    {
     "name": "stdout",
     "output_type": "stream",
     "text": [
      "Train on 444 samples, validate on 112 samples\n",
      "Epoch 1/100\n",
      "444/444 [==============================] - 1s 2ms/step - loss: 0.7517 - val_loss: 0.6484\n",
      "Epoch 2/100\n",
      "444/444 [==============================] - 0s 679us/step - loss: 0.6476 - val_loss: 0.6263\n",
      "Epoch 3/100\n",
      "444/444 [==============================] - 0s 675us/step - loss: 0.6378 - val_loss: 0.6234\n",
      "Epoch 4/100\n",
      "444/444 [==============================] - 0s 676us/step - loss: 0.6372 - val_loss: 0.6205\n",
      "Epoch 5/100\n",
      "444/444 [==============================] - 0s 674us/step - loss: 0.6332 - val_loss: 0.6158\n",
      "Epoch 6/100\n",
      "444/444 [==============================] - 0s 675us/step - loss: 0.6311 - val_loss: 0.6089\n",
      "Epoch 7/100\n",
      "444/444 [==============================] - 0s 680us/step - loss: 0.6315 - val_loss: 0.6142\n",
      "Epoch 8/100\n",
      "444/444 [==============================] - 0s 675us/step - loss: 0.6287 - val_loss: 0.6077\n",
      "Epoch 9/100\n",
      "444/444 [==============================] - 0s 673us/step - loss: 0.6285 - val_loss: 0.6090\n",
      "Epoch 10/100\n",
      "444/444 [==============================] - 0s 676us/step - loss: 0.6228 - val_loss: 0.5985\n",
      "Epoch 11/100\n",
      "444/444 [==============================] - 0s 671us/step - loss: 0.6213 - val_loss: 0.5927\n",
      "Epoch 12/100\n",
      "444/444 [==============================] - 0s 674us/step - loss: 0.6115 - val_loss: 0.6003\n",
      "Epoch 13/100\n",
      "444/444 [==============================] - 0s 678us/step - loss: 0.6056 - val_loss: 0.5915\n",
      "Epoch 14/100\n",
      "444/444 [==============================] - 0s 678us/step - loss: 0.5951 - val_loss: 0.5894\n",
      "Epoch 15/100\n",
      "444/444 [==============================] - 0s 670us/step - loss: 0.5833 - val_loss: 0.5402\n",
      "Epoch 16/100\n",
      "444/444 [==============================] - 0s 670us/step - loss: 0.5748 - val_loss: 0.5234\n",
      "Epoch 17/100\n",
      "444/444 [==============================] - 0s 672us/step - loss: 0.5622 - val_loss: 0.5174\n",
      "Epoch 18/100\n",
      "444/444 [==============================] - 0s 681us/step - loss: 0.5445 - val_loss: 0.5118\n",
      "Epoch 19/100\n",
      "444/444 [==============================] - 0s 676us/step - loss: 0.5408 - val_loss: 0.4721\n",
      "Epoch 20/100\n",
      "444/444 [==============================] - 0s 683us/step - loss: 0.5440 - val_loss: 0.5134\n",
      "Epoch 21/100\n",
      "444/444 [==============================] - 0s 676us/step - loss: 0.5402 - val_loss: 0.4782\n",
      "Epoch 22/100\n",
      "444/444 [==============================] - 0s 669us/step - loss: 0.5211 - val_loss: 0.4582\n",
      "Epoch 23/100\n",
      "444/444 [==============================] - 0s 669us/step - loss: 0.5430 - val_loss: 0.4636\n",
      "Epoch 24/100\n",
      "444/444 [==============================] - 0s 670us/step - loss: 0.5199 - val_loss: 0.5123\n",
      "Epoch 25/100\n",
      "444/444 [==============================] - 0s 671us/step - loss: 0.5151 - val_loss: 0.4752\n",
      "Epoch 26/100\n",
      "444/444 [==============================] - 0s 678us/step - loss: 0.5024 - val_loss: 0.4848\n",
      "Epoch 27/100\n",
      "444/444 [==============================] - 0s 674us/step - loss: 0.5176 - val_loss: 0.4586\n",
      "Epoch 28/100\n",
      "444/444 [==============================] - 0s 674us/step - loss: 0.5027 - val_loss: 0.4581\n",
      "Epoch 29/100\n",
      "444/444 [==============================] - 0s 668us/step - loss: 0.5213 - val_loss: 0.4666\n",
      "Epoch 30/100\n",
      "444/444 [==============================] - 0s 671us/step - loss: 0.5136 - val_loss: 0.5333\n",
      "Epoch 31/100\n",
      "444/444 [==============================] - 0s 676us/step - loss: 0.4917 - val_loss: 0.4501\n",
      "Epoch 32/100\n",
      "444/444 [==============================] - 0s 674us/step - loss: 0.4989 - val_loss: 0.4939\n",
      "Epoch 33/100\n",
      "444/444 [==============================] - 0s 673us/step - loss: 0.4969 - val_loss: 0.5766\n",
      "Epoch 34/100\n",
      "444/444 [==============================] - 0s 674us/step - loss: 0.5143 - val_loss: 0.4442\n",
      "Epoch 35/100\n",
      "444/444 [==============================] - 0s 674us/step - loss: 0.5250 - val_loss: 0.4912\n",
      "Epoch 36/100\n",
      "444/444 [==============================] - 0s 676us/step - loss: 0.5060 - val_loss: 0.4476\n",
      "Epoch 37/100\n",
      "444/444 [==============================] - 0s 682us/step - loss: 0.5124 - val_loss: 0.4784\n",
      "Epoch 38/100\n",
      "444/444 [==============================] - 0s 673us/step - loss: 0.5106 - val_loss: 0.4503\n",
      "Epoch 39/100\n",
      "444/444 [==============================] - 0s 671us/step - loss: 0.4974 - val_loss: 0.5133\n",
      "Epoch 40/100\n",
      "444/444 [==============================] - 0s 673us/step - loss: 0.4917 - val_loss: 0.4809\n",
      "Epoch 41/100\n",
      "444/444 [==============================] - 0s 671us/step - loss: 0.5112 - val_loss: 0.5081\n",
      "Epoch 42/100\n",
      "444/444 [==============================] - 0s 671us/step - loss: 0.5319 - val_loss: 0.4429\n",
      "Epoch 43/100\n",
      "444/444 [==============================] - 0s 678us/step - loss: 0.5199 - val_loss: 0.4266\n",
      "Epoch 44/100\n",
      "444/444 [==============================] - 0s 676us/step - loss: 0.4956 - val_loss: 0.4411\n",
      "Epoch 45/100\n",
      "444/444 [==============================] - 0s 674us/step - loss: 0.5555 - val_loss: 0.4481\n",
      "Epoch 46/100\n",
      "444/444 [==============================] - 0s 674us/step - loss: 0.4905 - val_loss: 0.4312\n",
      "Epoch 47/100\n",
      "444/444 [==============================] - 0s 670us/step - loss: 0.4965 - val_loss: 0.4507\n",
      "Epoch 48/100\n",
      "444/444 [==============================] - 0s 668us/step - loss: 0.4961 - val_loss: 0.4611\n",
      "Epoch 49/100\n",
      "444/444 [==============================] - 0s 668us/step - loss: 0.5159 - val_loss: 0.4216\n",
      "Epoch 50/100\n",
      "444/444 [==============================] - 0s 678us/step - loss: 0.4917 - val_loss: 0.4391\n",
      "Epoch 51/100\n",
      "444/444 [==============================] - 0s 675us/step - loss: 0.5229 - val_loss: 0.4314\n",
      "Epoch 52/100\n",
      "444/444 [==============================] - 0s 674us/step - loss: 0.4917 - val_loss: 0.4225\n",
      "Epoch 53/100\n",
      "444/444 [==============================] - 0s 675us/step - loss: 0.5066 - val_loss: 0.4537\n",
      "Epoch 54/100\n",
      "444/444 [==============================] - 0s 670us/step - loss: 0.5213 - val_loss: 0.4150\n",
      "Epoch 55/100\n",
      "444/444 [==============================] - 0s 672us/step - loss: 0.5005 - val_loss: 0.4492\n",
      "Epoch 56/100\n",
      "444/444 [==============================] - 0s 677us/step - loss: 0.5001 - val_loss: 0.4621\n",
      "Epoch 57/100\n",
      "444/444 [==============================] - 0s 673us/step - loss: 0.4758 - val_loss: 0.4663\n",
      "Epoch 58/100\n",
      "444/444 [==============================] - 0s 672us/step - loss: 0.5207 - val_loss: 0.4501\n",
      "Epoch 59/100\n",
      "444/444 [==============================] - 0s 673us/step - loss: 0.5244 - val_loss: 0.4222\n",
      "Epoch 60/100\n",
      "444/444 [==============================] - 0s 676us/step - loss: 0.4866 - val_loss: 0.4290\n",
      "Epoch 61/100\n",
      "444/444 [==============================] - 0s 680us/step - loss: 0.5084 - val_loss: 0.4229\n",
      "Epoch 62/100\n",
      "444/444 [==============================] - 0s 673us/step - loss: 0.4920 - val_loss: 0.4309\n",
      "Epoch 63/100\n",
      "444/444 [==============================] - 0s 675us/step - loss: 0.5096 - val_loss: 0.4338\n",
      "Epoch 64/100\n",
      "444/444 [==============================] - 0s 679us/step - loss: 0.4915 - val_loss: 0.4423\n",
      "Epoch 65/100\n",
      "444/444 [==============================] - 0s 674us/step - loss: 0.5059 - val_loss: 0.4700\n",
      "Epoch 66/100\n",
      "444/444 [==============================] - 0s 678us/step - loss: 0.4956 - val_loss: 0.4146\n",
      "Epoch 67/100\n",
      "444/444 [==============================] - 0s 676us/step - loss: 0.5015 - val_loss: 0.4382\n",
      "Epoch 68/100\n",
      "444/444 [==============================] - 0s 676us/step - loss: 0.4972 - val_loss: 0.4220\n",
      "Epoch 69/100\n",
      "444/444 [==============================] - 0s 680us/step - loss: 0.5000 - val_loss: 0.4184\n",
      "Epoch 70/100\n",
      "444/444 [==============================] - 0s 679us/step - loss: 0.4953 - val_loss: 0.5154\n",
      "Epoch 71/100\n",
      "444/444 [==============================] - 0s 672us/step - loss: 0.5075 - val_loss: 0.4810\n",
      "Epoch 72/100\n",
      "444/444 [==============================] - 0s 678us/step - loss: 0.5163 - val_loss: 0.4676\n",
      "Epoch 73/100\n",
      "444/444 [==============================] - 0s 681us/step - loss: 0.4949 - val_loss: 0.4256\n",
      "Epoch 74/100\n",
      "444/444 [==============================] - 0s 678us/step - loss: 0.5070 - val_loss: 0.4277\n",
      "Epoch 75/100\n",
      "444/444 [==============================] - 0s 673us/step - loss: 0.5208 - val_loss: 0.4500\n",
      "Epoch 76/100\n",
      "444/444 [==============================] - 0s 672us/step - loss: 0.4816 - val_loss: 0.4523\n",
      "Epoch 77/100\n",
      "444/444 [==============================] - 0s 668us/step - loss: 0.4867 - val_loss: 0.4310\n",
      "Epoch 78/100\n",
      "444/444 [==============================] - 0s 672us/step - loss: 0.5216 - val_loss: 0.4395\n",
      "Epoch 79/100\n",
      "444/444 [==============================] - 0s 668us/step - loss: 0.5147 - val_loss: 0.4414\n",
      "Epoch 80/100\n",
      "444/444 [==============================] - 0s 673us/step - loss: 0.5029 - val_loss: 0.4498\n",
      "Epoch 81/100\n",
      "444/444 [==============================] - 0s 669us/step - loss: 0.5001 - val_loss: 0.3967\n",
      "Epoch 82/100\n",
      "444/444 [==============================] - 0s 680us/step - loss: 0.4777 - val_loss: 0.3958\n",
      "Epoch 83/100\n",
      "444/444 [==============================] - 0s 675us/step - loss: 0.4892 - val_loss: 0.4534\n",
      "Epoch 84/100\n",
      "444/444 [==============================] - 0s 671us/step - loss: 0.4851 - val_loss: 0.4238\n",
      "Epoch 85/100\n",
      "444/444 [==============================] - 0s 671us/step - loss: 0.4819 - val_loss: 0.4366\n",
      "Epoch 86/100\n",
      "444/444 [==============================] - 0s 674us/step - loss: 0.5019 - val_loss: 0.4146\n",
      "Epoch 87/100\n",
      "444/444 [==============================] - 0s 676us/step - loss: 0.4807 - val_loss: 0.4332\n",
      "Epoch 88/100\n",
      "444/444 [==============================] - 0s 680us/step - loss: 0.4956 - val_loss: 0.3932\n",
      "Epoch 89/100\n",
      "444/444 [==============================] - 0s 679us/step - loss: 0.4973 - val_loss: 0.4130\n",
      "Epoch 90/100\n",
      "444/444 [==============================] - 0s 673us/step - loss: 0.4729 - val_loss: 0.4480\n",
      "Epoch 91/100\n",
      "444/444 [==============================] - 0s 673us/step - loss: 0.4743 - val_loss: 0.4205\n",
      "Epoch 92/100\n",
      "444/444 [==============================] - 0s 673us/step - loss: 0.5085 - val_loss: 0.4045\n",
      "Epoch 93/100\n",
      "444/444 [==============================] - 0s 679us/step - loss: 0.4660 - val_loss: 0.4342\n",
      "Epoch 94/100\n",
      "444/444 [==============================] - 0s 674us/step - loss: 0.5055 - val_loss: 0.4176\n",
      "Epoch 95/100\n",
      "444/444 [==============================] - 0s 672us/step - loss: 0.4780 - val_loss: 0.3870\n",
      "Epoch 96/100\n",
      "444/444 [==============================] - 0s 672us/step - loss: 0.4999 - val_loss: 0.4350\n",
      "Epoch 97/100\n",
      "444/444 [==============================] - 0s 676us/step - loss: 0.4863 - val_loss: 0.4195\n",
      "Epoch 98/100\n",
      "444/444 [==============================] - 0s 673us/step - loss: 0.4636 - val_loss: 0.4038\n",
      "Epoch 99/100\n",
      "444/444 [==============================] - 0s 673us/step - loss: 0.4724 - val_loss: 0.4626\n",
      "Epoch 100/100\n",
      "444/444 [==============================] - 0s 683us/step - loss: 0.4987 - val_loss: 0.4331\n",
      "exe time:  31.25436282157898\n"
     ]
    }
   ],
   "source": [
    "mcp = ModelCheckpoint('/data/Quan/tf_models/webcam/vae_gap_model.hdf5', monitor='val_loss', \n",
    "                      save_best_only=True, save_weights_only=False)\n",
    "\n",
    "start = time.time()\n",
    "history = vae.fit(s_features, s_gap_features, batch_size=batch_size, epochs=100, \n",
    "          validation_data=(sval_features, sval_gap_features), callbacks=[mcp], verbose=1)\n",
    "\n",
    "exe_time = time.time() - start\n",
    "\n",
    "print('exe time: ', exe_time)\n",
    "with open('/data/Quan/tf_models/webcam/vae_gap_history.hdf5', 'wb') as dt:\n",
    "    pickle.dump(history.history, dt)\n",
    "    "
   ]
  },
  {
   "cell_type": "code",
   "execution_count": 13,
   "metadata": {
    "scrolled": true
   },
   "outputs": [
    {
     "data": {
      "image/png": "[encoded data removed]",
      "text/plain": [
       "<Figure size 432x288 with 1 Axes>"
      ]
     },
     "metadata": {
      "needs_background": "light"
     },
     "output_type": "display_data"
    }
   ],
   "source": [
    "plt.plot(history.history['loss'], label='loss')\n",
    "plt.plot(history.history['val_loss'], label='val_loss')\n",
    "plt.legend()\n",
    "plt.show()"
   ]
  },
  {
   "cell_type": "markdown",
   "metadata": {},
   "source": [
    "## Amazon"
   ]
  },
  {
   "cell_type": "code",
   "execution_count": 15,
   "metadata": {},
   "outputs": [
    {
     "data": {
      "text/plain": [
       "((1576, 736), (395, 736))"
      ]
     },
     "execution_count": 15,
     "metadata": {},
     "output_type": "execute_result"
    }
   ],
   "source": [
    "in_g = Input(shape=(18,18,736))\n",
    "g = GlobalAveragePooling2D()(in_g)\n",
    "util_gap = Model(in_g, g)\n",
    "util_gap.compile(optimizer='adam', loss=binary_crossentropy)\n",
    "\n",
    "s_gap_features = util_gap.predict(s_features)\n",
    "sval_gap_features = util_gap.predict(sval_features)\n",
    "\n",
    "s_gap_features.shape, sval_gap_features.shape"
   ]
  },
  {
   "cell_type": "code",
   "execution_count": 16,
   "metadata": {
    "scrolled": true
   },
   "outputs": [
    {
     "name": "stdout",
     "output_type": "stream",
     "text": [
      "Train on 1576 samples, validate on 395 samples\n",
      "Epoch 1/100\n",
      "1576/1576 [==============================] - 1s 736us/step - loss: -0.2846 - val_loss: -0.5483\n",
      "Epoch 2/100\n",
      "1576/1576 [==============================] - 1s 731us/step - loss: -0.4076 - val_loss: -0.5796\n",
      "Epoch 3/100\n",
      "1576/1576 [==============================] - 1s 734us/step - loss: -0.4509 - val_loss: -0.6638\n",
      "Epoch 4/100\n",
      "1576/1576 [==============================] - 1s 736us/step - loss: -0.5077 - val_loss: -0.5312\n",
      "Epoch 5/100\n",
      "1576/1576 [==============================] - 1s 737us/step - loss: -0.5620 - val_loss: -0.6930\n",
      "Epoch 6/100\n",
      "1576/1576 [==============================] - 1s 731us/step - loss: -0.6301 - val_loss: -0.8055\n",
      "Epoch 7/100\n",
      "1576/1576 [==============================] - 1s 734us/step - loss: -0.6404 - val_loss: -0.8663\n",
      "Epoch 8/100\n",
      "1576/1576 [==============================] - 1s 733us/step - loss: -0.6988 - val_loss: -0.9146\n",
      "Epoch 9/100\n",
      "1576/1576 [==============================] - 1s 739us/step - loss: -0.7127 - val_loss: -0.9417\n",
      "Epoch 10/100\n",
      "1576/1576 [==============================] - 1s 730us/step - loss: -0.7285 - val_loss: -0.9262\n",
      "Epoch 11/100\n",
      "1576/1576 [==============================] - 1s 731us/step - loss: -0.7073 - val_loss: -0.9330\n",
      "Epoch 12/100\n",
      "1576/1576 [==============================] - 1s 737us/step - loss: -0.7477 - val_loss: -0.9384\n",
      "Epoch 13/100\n",
      "1576/1576 [==============================] - 1s 734us/step - loss: -0.7528 - val_loss: -0.9540\n",
      "Epoch 14/100\n",
      "1576/1576 [==============================] - 1s 740us/step - loss: -0.7559 - val_loss: -0.9472\n",
      "Epoch 15/100\n",
      "1576/1576 [==============================] - 1s 742us/step - loss: -0.7943 - val_loss: -0.9679\n",
      "Epoch 16/100\n",
      "1576/1576 [==============================] - 1s 742us/step - loss: -0.7810 - val_loss: -0.8531\n",
      "Epoch 17/100\n",
      "1576/1576 [==============================] - 1s 739us/step - loss: -0.8059 - val_loss: -1.0018\n",
      "Epoch 18/100\n",
      "1576/1576 [==============================] - 1s 735us/step - loss: -0.8078 - val_loss: -0.9827\n",
      "Epoch 19/100\n",
      "1576/1576 [==============================] - 1s 735us/step - loss: -0.8110 - val_loss: -1.0272\n",
      "Epoch 20/100\n",
      "1576/1576 [==============================] - 1s 735us/step - loss: -0.8273 - val_loss: -1.0053\n",
      "Epoch 21/100\n",
      "1576/1576 [==============================] - 1s 736us/step - loss: -0.8326 - val_loss: -1.0501\n",
      "Epoch 22/100\n",
      "1576/1576 [==============================] - 1s 739us/step - loss: -0.8412 - val_loss: -1.0331\n",
      "Epoch 23/100\n",
      "1576/1576 [==============================] - 1s 737us/step - loss: -0.8552 - val_loss: -1.0600\n",
      "Epoch 24/100\n",
      "1576/1576 [==============================] - 1s 734us/step - loss: -0.8623 - val_loss: -1.0706\n",
      "Epoch 25/100\n",
      "1576/1576 [==============================] - 1s 735us/step - loss: -0.8661 - val_loss: -1.0718\n",
      "Epoch 26/100\n",
      "1576/1576 [==============================] - 1s 740us/step - loss: -0.8677 - val_loss: -1.0668\n",
      "Epoch 27/100\n",
      "1576/1576 [==============================] - 1s 736us/step - loss: -0.8618 - val_loss: -1.0934\n",
      "Epoch 28/100\n",
      "1576/1576 [==============================] - 1s 733us/step - loss: -0.8892 - val_loss: -1.0504\n",
      "Epoch 29/100\n",
      "1576/1576 [==============================] - 1s 738us/step - loss: -0.9030 - val_loss: -1.0515\n",
      "Epoch 30/100\n",
      "1576/1576 [==============================] - 1s 742us/step - loss: -0.9039 - val_loss: -1.0730\n",
      "Epoch 31/100\n",
      "1576/1576 [==============================] - 1s 735us/step - loss: -0.9241 - val_loss: -1.1479\n",
      "Epoch 32/100\n",
      "1576/1576 [==============================] - 1s 729us/step - loss: -0.9105 - val_loss: -1.0868\n",
      "Epoch 33/100\n",
      "1576/1576 [==============================] - 1s 737us/step - loss: -0.9442 - val_loss: -1.0892\n",
      "Epoch 34/100\n",
      "1576/1576 [==============================] - 1s 737us/step - loss: -0.9341 - val_loss: -1.1477\n",
      "Epoch 35/100\n",
      "1576/1576 [==============================] - 1s 730us/step - loss: -0.9493 - val_loss: -1.0794\n",
      "Epoch 36/100\n",
      "1576/1576 [==============================] - 1s 731us/step - loss: -0.9445 - val_loss: -1.1179\n",
      "Epoch 37/100\n",
      "1576/1576 [==============================] - 1s 734us/step - loss: -0.9438 - val_loss: -1.1695\n",
      "Epoch 38/100\n",
      "1576/1576 [==============================] - 1s 740us/step - loss: -0.9704 - val_loss: -1.1758\n",
      "Epoch 39/100\n",
      "1576/1576 [==============================] - 1s 729us/step - loss: -0.9663 - val_loss: -1.1591\n",
      "Epoch 40/100\n",
      "1576/1576 [==============================] - 1s 736us/step - loss: -0.9727 - val_loss: -1.2023\n",
      "Epoch 41/100\n",
      "1576/1576 [==============================] - 1s 732us/step - loss: -0.9782 - val_loss: -1.2140\n",
      "Epoch 42/100\n",
      "1576/1576 [==============================] - 1s 734us/step - loss: -0.9972 - val_loss: -1.1624\n",
      "Epoch 43/100\n",
      "1576/1576 [==============================] - 1s 738us/step - loss: -0.9976 - val_loss: -1.2157\n",
      "Epoch 44/100\n",
      "1576/1576 [==============================] - 1s 733us/step - loss: -0.9943 - val_loss: -1.1399\n",
      "Epoch 45/100\n",
      "1576/1576 [==============================] - 1s 736us/step - loss: -0.9968 - val_loss: -1.2396\n",
      "Epoch 46/100\n",
      "1576/1576 [==============================] - 1s 737us/step - loss: -1.0124 - val_loss: -1.2105\n",
      "Epoch 47/100\n",
      "1576/1576 [==============================] - 1s 733us/step - loss: -1.0242 - val_loss: -1.2123\n",
      "Epoch 48/100\n",
      "1576/1576 [==============================] - 1s 735us/step - loss: -1.0221 - val_loss: -1.1842\n",
      "Epoch 49/100\n",
      "1576/1576 [==============================] - 1s 739us/step - loss: -1.0233 - val_loss: -1.2415\n",
      "Epoch 50/100\n",
      "1576/1576 [==============================] - 1s 736us/step - loss: -1.0344 - val_loss: -1.2305\n",
      "Epoch 51/100\n",
      "1576/1576 [==============================] - 1s 735us/step - loss: -1.0404 - val_loss: -1.2530\n",
      "Epoch 52/100\n",
      "1576/1576 [==============================] - 1s 735us/step - loss: -1.0450 - val_loss: -1.2072\n",
      "Epoch 53/100\n",
      "1576/1576 [==============================] - 1s 739us/step - loss: -1.0568 - val_loss: -1.2128\n",
      "Epoch 54/100\n",
      "1576/1576 [==============================] - 1s 736us/step - loss: -1.0349 - val_loss: -1.2354\n",
      "Epoch 55/100\n",
      "1576/1576 [==============================] - 1s 737us/step - loss: -1.0527 - val_loss: -1.1925\n",
      "Epoch 56/100\n",
      "1576/1576 [==============================] - 1s 736us/step - loss: -1.0584 - val_loss: -1.2560\n",
      "Epoch 57/100\n",
      "1576/1576 [==============================] - 1s 737us/step - loss: -1.0537 - val_loss: -1.2572\n",
      "Epoch 58/100\n",
      "1576/1576 [==============================] - 1s 733us/step - loss: -1.0667 - val_loss: -1.2408\n",
      "Epoch 59/100\n",
      "1576/1576 [==============================] - 1s 733us/step - loss: -1.0560 - val_loss: -1.2610\n",
      "Epoch 60/100\n",
      "1576/1576 [==============================] - 1s 734us/step - loss: -1.0596 - val_loss: -1.2559\n",
      "Epoch 61/100\n",
      "1576/1576 [==============================] - 1s 731us/step - loss: -1.0662 - val_loss: -1.2867\n",
      "Epoch 62/100\n",
      "1576/1576 [==============================] - 1s 730us/step - loss: -1.0592 - val_loss: -1.2864\n",
      "Epoch 63/100\n",
      "1576/1576 [==============================] - 1s 729us/step - loss: -1.0850 - val_loss: -1.2755\n",
      "Epoch 64/100\n",
      "1576/1576 [==============================] - 1s 740us/step - loss: -1.0909 - val_loss: -1.2488\n",
      "Epoch 65/100\n",
      "1576/1576 [==============================] - 1s 738us/step - loss: -1.0739 - val_loss: -1.2849\n",
      "Epoch 66/100\n",
      "1576/1576 [==============================] - 1s 733us/step - loss: -1.0822 - val_loss: -1.2767\n",
      "Epoch 67/100\n",
      "1576/1576 [==============================] - 1s 733us/step - loss: -1.0902 - val_loss: -1.2690\n",
      "Epoch 68/100\n",
      "1576/1576 [==============================] - 1s 738us/step - loss: -1.1043 - val_loss: -1.2884\n",
      "Epoch 69/100\n",
      "1576/1576 [==============================] - 1s 730us/step - loss: -1.1102 - val_loss: -1.2489\n",
      "Epoch 70/100\n",
      "1576/1576 [==============================] - 1s 734us/step - loss: -1.1131 - val_loss: -1.3098\n",
      "Epoch 71/100\n",
      "1576/1576 [==============================] - 1s 737us/step - loss: -1.1068 - val_loss: -1.3181\n",
      "Epoch 72/100\n",
      "1576/1576 [==============================] - 1s 736us/step - loss: -1.1218 - val_loss: -1.3114\n",
      "Epoch 73/100\n",
      "1576/1576 [==============================] - 1s 736us/step - loss: -1.1131 - val_loss: -1.3238\n",
      "Epoch 74/100\n",
      "1576/1576 [==============================] - 1s 738us/step - loss: -1.1234 - val_loss: -1.3041\n",
      "Epoch 75/100\n",
      "1576/1576 [==============================] - 1s 734us/step - loss: -1.1135 - val_loss: -1.3394\n",
      "Epoch 76/100\n",
      "1576/1576 [==============================] - 1s 737us/step - loss: -1.1315 - val_loss: -1.3393\n",
      "Epoch 77/100\n",
      "1576/1576 [==============================] - 1s 741us/step - loss: -1.1333 - val_loss: -1.3145\n",
      "Epoch 78/100\n",
      "1576/1576 [==============================] - 1s 737us/step - loss: -1.1258 - val_loss: -1.3032\n",
      "Epoch 79/100\n",
      "1576/1576 [==============================] - 1s 739us/step - loss: -1.1294 - val_loss: -1.2980\n",
      "Epoch 80/100\n",
      "1576/1576 [==============================] - 1s 738us/step - loss: -1.1255 - val_loss: -1.3295\n",
      "Epoch 81/100\n",
      "1576/1576 [==============================] - 1s 734us/step - loss: -1.1361 - val_loss: -1.3424\n",
      "Epoch 82/100\n",
      "1576/1576 [==============================] - 1s 738us/step - loss: -1.1423 - val_loss: -1.3581\n",
      "Epoch 83/100\n",
      "1576/1576 [==============================] - 1s 737us/step - loss: -1.1474 - val_loss: -1.3071\n",
      "Epoch 84/100\n",
      "1576/1576 [==============================] - 1s 731us/step - loss: -1.1545 - val_loss: -1.3270\n",
      "Epoch 85/100\n",
      "1576/1576 [==============================] - 1s 735us/step - loss: -1.1503 - val_loss: -1.3510\n",
      "Epoch 86/100\n",
      "1576/1576 [==============================] - 1s 738us/step - loss: -1.1528 - val_loss: -1.3638\n",
      "Epoch 87/100\n",
      "1576/1576 [==============================] - 1s 740us/step - loss: -1.1554 - val_loss: -1.3279\n",
      "Epoch 88/100\n",
      "1576/1576 [==============================] - 1s 736us/step - loss: -1.1543 - val_loss: -1.3455\n",
      "Epoch 89/100\n",
      "1576/1576 [==============================] - 1s 735us/step - loss: -1.1815 - val_loss: -1.3531\n",
      "Epoch 90/100\n",
      "1576/1576 [==============================] - 1s 740us/step - loss: -1.1512 - val_loss: -1.3235\n",
      "Epoch 91/100\n",
      "1576/1576 [==============================] - 1s 736us/step - loss: -1.1736 - val_loss: -1.3452\n",
      "Epoch 92/100\n",
      "1576/1576 [==============================] - 1s 734us/step - loss: -1.1647 - val_loss: -1.3605\n",
      "Epoch 93/100\n",
      "1576/1576 [==============================] - 1s 730us/step - loss: -1.1735 - val_loss: -1.3781\n",
      "Epoch 94/100\n",
      "1576/1576 [==============================] - 1s 739us/step - loss: -1.1763 - val_loss: -1.3449\n",
      "Epoch 95/100\n",
      "1576/1576 [==============================] - 1s 736us/step - loss: -1.1724 - val_loss: -1.3741\n",
      "Epoch 96/100\n",
      "1576/1576 [==============================] - 1s 741us/step - loss: -1.1817 - val_loss: -1.3790\n",
      "Epoch 97/100\n",
      "1576/1576 [==============================] - 1s 741us/step - loss: -1.1781 - val_loss: -1.3398\n",
      "Epoch 98/100\n",
      "1576/1576 [==============================] - 1s 736us/step - loss: -1.1862 - val_loss: -1.3727\n",
      "Epoch 99/100\n",
      "1576/1576 [==============================] - 1s 738us/step - loss: -1.1822 - val_loss: -1.3611\n",
      "Epoch 100/100\n",
      "1576/1576 [==============================] - 1s 742us/step - loss: -1.1899 - val_loss: -1.3680\n",
      "exe time:  116.67321681976318\n"
     ]
    }
   ],
   "source": [
    "mcp = ModelCheckpoint('/data/Quan/tf_models/amazon/vae_gap_model.hdf5', monitor='val_loss', \n",
    "                      save_best_only=True, save_weights_only=False)\n",
    "\n",
    "start = time.time()\n",
    "history = vae.fit(s_features, s_gap_features, batch_size=batch_size, epochs=100, \n",
    "          validation_data=(sval_features, sval_gap_features), callbacks=[mcp], verbose=1)\n",
    "\n",
    "exe_time = time.time() - start\n",
    "\n",
    "print('exe time: ', exe_time)\n",
    "with open('/data/Quan/tf_models/amazon/vae_gap_history.hdf5', 'wb') as dt:\n",
    "    pickle.dump(history.history, dt)\n",
    "    "
   ]
  },
  {
   "cell_type": "code",
   "execution_count": 17,
   "metadata": {
    "scrolled": true
   },
   "outputs": [
    {
     "data": {
      "image/png": "[encoded data removed]",
      "text/plain": [
       "<Figure size 432x288 with 1 Axes>"
      ]
     },
     "metadata": {
      "needs_background": "light"
     },
     "output_type": "display_data"
    }
   ],
   "source": [
    "plt.plot(history.history['loss'], label='loss')\n",
    "plt.plot(history.history['val_loss'], label='val_loss')\n",
    "plt.legend()\n",
    "plt.show()"
   ]
  },
  {
   "cell_type": "markdown",
   "metadata": {},
   "source": [
    "## Define combined vae (t_encoder + s_decoder)"
   ]
  },
  {
   "cell_type": "code",
   "execution_count": 25,
   "metadata": {},
   "outputs": [],
   "source": [
    "s_vae = load_model('/data/Quan/tf_models/amazon/vae_gap_model.hdf5')\n",
    "t_vae = load_model('/data/Quan/tf_models/webcam/vae_gap_model.hdf5')\n",
    "\n",
    "t_encoder = Model(t_vae.input, [t_vae.layers[3].output, t_vae.layers[4].output])"
   ]
  },
  {
   "cell_type": "code",
   "execution_count": 27,
   "metadata": {},
   "outputs": [],
   "source": [
    "_input_z = Input(shape=(64,))\n",
    "_input_z_log_mean = Input(shape=(64,))\n",
    "\n",
    "s_z = Lambda(sampling, name='lambda_sampling')([_input_z,_input_z_log_mean])\n",
    "s_h_decoded = decoder_h(s_z)\n",
    "s_x_decoded_mean = decoder_mean(s_h_decoded)\n",
    "\n",
    "s_decoder = Model([_input_z, _input_z_log_mean], s_x_decoded_mean)\n",
    "\n",
    "# set weights from amazon vae decoder\n",
    "for i in range(-2, 0):\n",
    "    s_decoder.layers[i].set_weights(s_vae.layers[i].get_weights())"
   ]
  },
  {
   "cell_type": "code",
   "execution_count": 28,
   "metadata": {},
   "outputs": [
    {
     "name": "stdout",
     "output_type": "stream",
     "text": [
      "__________________________________________________________________________________________________\n",
      "Layer (type)                    Output Shape         Param #     Connected to                     \n",
      "==================================================================================================\n",
      "input_14 (InputLayer)           (None, 18, 18, 736)  0                                            \n",
      "__________________________________________________________________________________________________\n",
      "model_20 (Model)                [(None, 64), (None,  221568      input_14[0][0]                   \n",
      "__________________________________________________________________________________________________\n",
      "model_21 (Model)                (None, 736)          205792      model_20[1][0]                   \n",
      "                                                                 model_20[1][1]                   \n",
      "==================================================================================================\n",
      "Total params: 427,360\n",
      "Trainable params: 427,360\n",
      "Non-trainable params: 0\n",
      "__________________________________________________________________________________________________\n"
     ]
    }
   ],
   "source": [
    "# combine webcam encoder + amazon decoder\n",
    "\n",
    "_c_input = Input(shape=(18,18,736))\n",
    "_t_encoder = t_encoder(_c_input)\n",
    "_s_decoder = s_decoder(_t_encoder)\n",
    "\n",
    "combine_vae = Model(_c_input, _s_decoder)\n",
    "combine_vae.summary()"
   ]
  },
  {
   "cell_type": "markdown",
   "metadata": {},
   "source": [
    "## Mapping t_features to s_features using combined vae"
   ]
  },
  {
   "cell_type": "code",
   "execution_count": 33,
   "metadata": {},
   "outputs": [
    {
     "name": "stdout",
     "output_type": "stream",
     "text": [
      "444/444 [==============================] - 0s 773us/step\n"
     ]
    },
    {
     "data": {
      "text/plain": [
       "(444, 736)"
      ]
     },
     "execution_count": 33,
     "metadata": {},
     "output_type": "execute_result"
    }
   ],
   "source": [
    "transformed_features = combine_vae.predict(s_features, verbose=1)\n",
    "transformed_features.shape"
   ]
  },
  {
   "cell_type": "code",
   "execution_count": 34,
   "metadata": {},
   "outputs": [
    {
     "name": "stdout",
     "output_type": "stream",
     "text": [
      "112/112 [==============================] - 0s 456us/step\n"
     ]
    },
    {
     "data": {
      "text/plain": [
       "(112, 736)"
      ]
     },
     "execution_count": 34,
     "metadata": {},
     "output_type": "execute_result"
    }
   ],
   "source": [
    "val_transformed_features = combine_vae.predict(sval_features, verbose=1)\n",
    "val_transformed_features.shape"
   ]
  },
  {
   "cell_type": "code",
   "execution_count": 37,
   "metadata": {},
   "outputs": [],
   "source": [
    "label_dict = test_generator.class_indices\n",
    "\n",
    "with open('/data/Quan/tf_models/webcam/t_test_features.hdf5', 'rb') as dt:\n",
    "    t_test_labels, t_test_features = pickle.load(dt)\n",
    "    \n",
    "t_test_labels = [label_dict[k] for k in t_test_labels]\n",
    "t_test_labels = keras.utils.to_categorical(t_test_labels, 31)"
   ]
  },
  {
   "cell_type": "code",
   "execution_count": 38,
   "metadata": {},
   "outputs": [
    {
     "name": "stdout",
     "output_type": "stream",
     "text": [
      "239/239 [==============================] - 0s 921us/step\n"
     ]
    },
    {
     "data": {
      "text/plain": [
       "(239, 736)"
      ]
     },
     "execution_count": 38,
     "metadata": {},
     "output_type": "execute_result"
    }
   ],
   "source": [
    "test_transformed_features = combine_vae.predict(t_test_features, verbose=1)\n",
    "test_transformed_features.shape"
   ]
  },
  {
   "cell_type": "code",
   "execution_count": 41,
   "metadata": {},
   "outputs": [
    {
     "name": "stdout",
     "output_type": "stream",
     "text": [
      "__________________________________________________________________________________________________\n",
      "Layer (type)                    Output Shape         Param #     Connected to                     \n",
      "==================================================================================================\n",
      "input_1 (InputLayer)            (None, 300, 300, 3)  0                                            \n",
      "__________________________________________________________________________________________________\n",
      "conv0_block0 (Conv2D)           (None, 300, 300, 32) 896         input_1[0][0]                    \n",
      "__________________________________________________________________________________________________\n",
      "batchnorm0_block0 (BatchNormali (None, 300, 300, 32) 128         conv0_block0[0][0]               \n",
      "__________________________________________________________________________________________________\n",
      "relu0_block0 (Activation)       (None, 300, 300, 32) 0           batchnorm0_block0[0][0]          \n",
      "__________________________________________________________________________________________________\n",
      "conv1_block0 (Conv2D)           (None, 300, 300, 32) 9248        relu0_block0[0][0]               \n",
      "__________________________________________________________________________________________________\n",
      "batchnorm1_block0 (BatchNormali (None, 300, 300, 32) 128         conv1_block0[0][0]               \n",
      "__________________________________________________________________________________________________\n",
      "relu1_block0 (Activation)       (None, 300, 300, 32) 0           batchnorm1_block0[0][0]          \n",
      "__________________________________________________________________________________________________\n",
      "maxpooling_block0 (MaxPooling2D (None, 150, 150, 32) 0           relu1_block0[0][0]               \n",
      "__________________________________________________________________________________________________\n",
      "conv0_block1 (Conv2D)           (None, 150, 150, 64) 18496       maxpooling_block0[0][0]          \n",
      "__________________________________________________________________________________________________\n",
      "batchnorm0_block1 (BatchNormali (None, 150, 150, 64) 256         conv0_block1[0][0]               \n",
      "__________________________________________________________________________________________________\n",
      "relu0_block1 (Activation)       (None, 150, 150, 64) 0           batchnorm0_block1[0][0]          \n",
      "__________________________________________________________________________________________________\n",
      "conv1_block1 (Conv2D)           (None, 150, 150, 64) 36928       relu0_block1[0][0]               \n",
      "__________________________________________________________________________________________________\n",
      "batchnorm1_block1 (BatchNormali (None, 150, 150, 64) 256         conv1_block1[0][0]               \n",
      "__________________________________________________________________________________________________\n",
      "relu1_block1 (Activation)       (None, 150, 150, 64) 0           batchnorm1_block1[0][0]          \n",
      "__________________________________________________________________________________________________\n",
      "maxpooling_block1 (MaxPooling2D (None, 75, 75, 64)   0           relu1_block1[0][0]               \n",
      "__________________________________________________________________________________________________\n",
      "cropping_block0_block2 (Croppin (None, 75, 75, 32)   0           maxpooling_block0[0][0]          \n",
      "__________________________________________________________________________________________________\n",
      "concatenate_1 (Concatenate)     (None, 75, 75, 96)   0           cropping_block0_block2[0][0]     \n",
      "                                                                 maxpooling_block1[0][0]          \n",
      "__________________________________________________________________________________________________\n",
      "batch_normalization_1 (BatchNor (None, 75, 75, 96)   384         concatenate_1[0][0]              \n",
      "__________________________________________________________________________________________________\n",
      "conv0_block2 (Conv2D)           (None, 75, 75, 128)  110720      batch_normalization_1[0][0]      \n",
      "__________________________________________________________________________________________________\n",
      "batchnorm0_block2 (BatchNormali (None, 75, 75, 128)  512         conv0_block2[0][0]               \n",
      "__________________________________________________________________________________________________\n",
      "relu0_block2 (Activation)       (None, 75, 75, 128)  0           batchnorm0_block2[0][0]          \n",
      "__________________________________________________________________________________________________\n",
      "conv1_block2 (Conv2D)           (None, 75, 75, 128)  147584      relu0_block2[0][0]               \n",
      "__________________________________________________________________________________________________\n",
      "batchnorm1_block2 (BatchNormali (None, 75, 75, 128)  512         conv1_block2[0][0]               \n",
      "__________________________________________________________________________________________________\n",
      "relu1_block2 (Activation)       (None, 75, 75, 128)  0           batchnorm1_block2[0][0]          \n",
      "__________________________________________________________________________________________________\n",
      "conv2_block2 (Conv2D)           (None, 75, 75, 128)  147584      relu1_block2[0][0]               \n",
      "__________________________________________________________________________________________________\n",
      "batchnorm2_block2 (BatchNormali (None, 75, 75, 128)  512         conv2_block2[0][0]               \n",
      "__________________________________________________________________________________________________\n",
      "relu2_block2 (Activation)       (None, 75, 75, 128)  0           batchnorm2_block2[0][0]          \n",
      "__________________________________________________________________________________________________\n",
      "maxpooling_block2 (MaxPooling2D (None, 37, 37, 128)  0           relu2_block2[0][0]               \n",
      "__________________________________________________________________________________________________\n",
      "cropping_block0_block3 (Croppin (None, 37, 37, 32)   0           maxpooling_block0[0][0]          \n",
      "__________________________________________________________________________________________________\n",
      "cropping_block1_block3 (Croppin (None, 37, 37, 64)   0           maxpooling_block1[0][0]          \n",
      "__________________________________________________________________________________________________\n",
      "concatenate_2 (Concatenate)     (None, 37, 37, 224)  0           cropping_block0_block3[0][0]     \n",
      "                                                                 cropping_block1_block3[0][0]     \n",
      "                                                                 maxpooling_block2[0][0]          \n",
      "__________________________________________________________________________________________________\n",
      "batch_normalization_2 (BatchNor (None, 37, 37, 224)  896         concatenate_2[0][0]              \n",
      "__________________________________________________________________________________________________\n",
      "conv0_block3 (Conv2D)           (None, 37, 37, 512)  1032704     batch_normalization_2[0][0]      \n",
      "__________________________________________________________________________________________________\n",
      "batchnorm0_block3 (BatchNormali (None, 37, 37, 512)  2048        conv0_block3[0][0]               \n",
      "__________________________________________________________________________________________________\n",
      "relu0_block3 (Activation)       (None, 37, 37, 512)  0           batchnorm0_block3[0][0]          \n",
      "__________________________________________________________________________________________________\n",
      "conv1_block3 (Conv2D)           (None, 37, 37, 512)  2359808     relu0_block3[0][0]               \n",
      "__________________________________________________________________________________________________\n",
      "batchnorm1_block3 (BatchNormali (None, 37, 37, 512)  2048        conv1_block3[0][0]               \n",
      "__________________________________________________________________________________________________\n",
      "relu1_block3 (Activation)       (None, 37, 37, 512)  0           batchnorm1_block3[0][0]          \n",
      "__________________________________________________________________________________________________\n",
      "conv2_block3 (Conv2D)           (None, 37, 37, 512)  2359808     relu1_block3[0][0]               \n",
      "__________________________________________________________________________________________________\n",
      "batchnorm2_block3 (BatchNormali (None, 37, 37, 512)  2048        conv2_block3[0][0]               \n",
      "__________________________________________________________________________________________________\n",
      "relu2_block3 (Activation)       (None, 37, 37, 512)  0           batchnorm2_block3[0][0]          \n",
      "__________________________________________________________________________________________________\n",
      "cropping_block0_block4 (Croppin (None, 18, 18, 32)   0           maxpooling_block0[0][0]          \n",
      "__________________________________________________________________________________________________\n",
      "cropping_block1_block4 (Croppin (None, 18, 18, 64)   0           maxpooling_block1[0][0]          \n",
      "__________________________________________________________________________________________________\n",
      "cropping_block2_block4 (Croppin (None, 18, 18, 128)  0           maxpooling_block2[0][0]          \n",
      "__________________________________________________________________________________________________\n",
      "maxpooling_block3 (MaxPooling2D (None, 18, 18, 512)  0           relu2_block3[0][0]               \n",
      "__________________________________________________________________________________________________\n",
      "concatenate_3 (Concatenate)     (None, 18, 18, 736)  0           cropping_block0_block4[0][0]     \n",
      "                                                                 cropping_block1_block4[0][0]     \n",
      "                                                                 cropping_block2_block4[0][0]     \n",
      "                                                                 maxpooling_block3[0][0]          \n",
      "__________________________________________________________________________________________________\n",
      "global_average_pooling2d_1 (Glo (None, 736)          0           concatenate_3[0][0]              \n",
      "__________________________________________________________________________________________________\n",
      "dropout_1 (Dropout)             (None, 736)          0           global_average_pooling2d_1[0][0] \n",
      "__________________________________________________________________________________________________\n",
      "dense_1 (Dense)                 (None, 31)           22847       dropout_1[0][0]                  \n",
      "__________________________________________________________________________________________________\n",
      "batch_normalization_3 (BatchNor (None, 31)           124         dense_1[0][0]                    \n",
      "__________________________________________________________________________________________________\n",
      "activation_1 (Activation)       (None, 31)           0           batch_normalization_3[0][0]      \n",
      "==================================================================================================\n",
      "Total params: 6,256,475\n",
      "Trainable params: 6,251,549\n",
      "Non-trainable params: 4,926\n",
      "__________________________________________________________________________________________________\n"
     ]
    },
    {
     "name": "stdout",
     "output_type": "stream",
     "text": [
      "_________________________________________________________________\n",
      "Layer (type)                 Output Shape              Param #   \n",
      "=================================================================\n",
      "input_16 (InputLayer)        (None, 736)               0         \n",
      "_________________________________________________________________\n",
      "dropout_2 (Dropout)          (None, 736)               0         \n",
      "_________________________________________________________________\n",
      "dense_2 (Dense)              (None, 31)                22847     \n",
      "_________________________________________________________________\n",
      "batch_normalization_2 (Batch (None, 31)                124       \n",
      "_________________________________________________________________\n",
      "activation_2 (Activation)    (None, 31)                0         \n",
      "=================================================================\n",
      "Total params: 22,971\n",
      "Trainable params: 22,909\n",
      "Non-trainable params: 62\n",
      "_________________________________________________________________\n"
     ]
    }
   ],
   "source": [
    "# Get source classififer (amazon)\n",
    "s_baseline = load_model('/data/Quan/tf_models/amazon/baseline_model.hdf5')\n",
    "s_baseline.summary()\n",
    "\n",
    "input_model = Input(shape=(736,))\n",
    "x = Dropout(0.3)(input_model)\n",
    "x = Dense(31)(x)\n",
    "x = BatchNormalization()(x)\n",
    "x = Activation('softmax')(x)\n",
    "\n",
    "s_topmodel = Model(input_model, x)\n",
    "\n",
    "for i in range(-4,0):\n",
    "#     print(s_topmodel.layers[i+6].name, s_baseline.layers[i].name)\n",
    "    s_topmodel.layers[i+5].set_weights(s_baseline.layers[i].get_weights())\n",
    "\n",
    "s_topmodel.compile(loss='categorical_crossentropy', optimizer=Adam(), metrics=['accuracy'])\n",
    "s_topmodel.summary()"
   ]
  },
  {
   "cell_type": "code",
   "execution_count": 42,
   "metadata": {},
   "outputs": [],
   "source": [
    "num_s_labels = [label_dict[k] for k in s_labels]\n",
    "num_sval_labels = [label_dict[k] for k in sval_labels]\n",
    "\n",
    "num_s_labels = keras.utils.to_categorical(num_s_labels, 31)\n",
    "num_sval_labels = keras.utils.to_categorical(num_sval_labels, 31)"
   ]
  },
  {
   "cell_type": "code",
   "execution_count": 43,
   "metadata": {},
   "outputs": [
    {
     "name": "stdout",
     "output_type": "stream",
     "text": [
      "239/239 [==============================] - 1s 4ms/step\n"
     ]
    },
    {
     "data": {
      "text/plain": [
       "[4.356281603729376, 0.02092050209205021]"
      ]
     },
     "execution_count": 43,
     "metadata": {},
     "output_type": "execute_result"
    }
   ],
   "source": [
    "s_topmodel.evaluate(test_transformed_features, t_test_labels, verbose=1)"
   ]
  },
  {
   "cell_type": "code",
   "execution_count": 44,
   "metadata": {
    "scrolled": true
   },
   "outputs": [
    {
     "name": "stdout",
     "output_type": "stream",
     "text": [
      "Train on 444 samples, validate on 112 samples\n",
      "Epoch 1/100\n",
      "444/444 [==============================] - 1s 3ms/step - loss: 4.5042 - acc: 0.0338 - val_loss: 3.6164 - val_acc: 0.0268\n",
      "Epoch 2/100\n",
      "444/444 [==============================] - 0s 83us/step - loss: 3.2948 - acc: 0.1532 - val_loss: 3.6839 - val_acc: 0.0446\n",
      "Epoch 3/100\n",
      "444/444 [==============================] - 0s 80us/step - loss: 2.5867 - acc: 0.2252 - val_loss: 3.7371 - val_acc: 0.0625\n",
      "Epoch 4/100\n",
      "444/444 [==============================] - 0s 81us/step - loss: 2.1544 - acc: 0.3288 - val_loss: 3.7696 - val_acc: 0.0714\n",
      "Epoch 5/100\n",
      "444/444 [==============================] - 0s 81us/step - loss: 1.9385 - acc: 0.3806 - val_loss: 3.7702 - val_acc: 0.0714\n",
      "Epoch 6/100\n",
      "444/444 [==============================] - 0s 80us/step - loss: 1.7624 - acc: 0.4550 - val_loss: 3.7504 - val_acc: 0.0804\n",
      "Epoch 7/100\n",
      "444/444 [==============================] - 0s 81us/step - loss: 1.7050 - acc: 0.4527 - val_loss: 3.7449 - val_acc: 0.1071\n",
      "Epoch 8/100\n",
      "444/444 [==============================] - 0s 80us/step - loss: 1.5513 - acc: 0.5360 - val_loss: 3.7373 - val_acc: 0.1071\n",
      "Epoch 9/100\n",
      "444/444 [==============================] - 0s 79us/step - loss: 1.4870 - acc: 0.5428 - val_loss: 3.7060 - val_acc: 0.1071\n",
      "Epoch 10/100\n",
      "444/444 [==============================] - 0s 79us/step - loss: 1.3959 - acc: 0.5608 - val_loss: 3.7167 - val_acc: 0.1071\n",
      "Epoch 11/100\n",
      "444/444 [==============================] - 0s 78us/step - loss: 1.4355 - acc: 0.5586 - val_loss: 3.6895 - val_acc: 0.1071\n",
      "Epoch 12/100\n",
      "444/444 [==============================] - 0s 79us/step - loss: 1.3119 - acc: 0.5968 - val_loss: 3.6643 - val_acc: 0.1071\n",
      "Epoch 13/100\n",
      "444/444 [==============================] - 0s 79us/step - loss: 1.3338 - acc: 0.5608 - val_loss: 3.6744 - val_acc: 0.1071\n",
      "Epoch 14/100\n",
      "444/444 [==============================] - 0s 79us/step - loss: 1.2331 - acc: 0.6396 - val_loss: 3.6686 - val_acc: 0.0893\n",
      "Epoch 15/100\n",
      "444/444 [==============================] - 0s 79us/step - loss: 1.2574 - acc: 0.6036 - val_loss: 3.6875 - val_acc: 0.0804\n",
      "Epoch 16/100\n",
      "444/444 [==============================] - 0s 80us/step - loss: 1.2839 - acc: 0.5833 - val_loss: 3.6952 - val_acc: 0.0804\n",
      "Epoch 17/100\n",
      "444/444 [==============================] - 0s 80us/step - loss: 1.2144 - acc: 0.6149 - val_loss: 3.6984 - val_acc: 0.0893\n",
      "Epoch 18/100\n",
      "444/444 [==============================] - 0s 78us/step - loss: 1.2079 - acc: 0.6194 - val_loss: 3.6897 - val_acc: 0.0982\n",
      "Epoch 19/100\n",
      "444/444 [==============================] - 0s 79us/step - loss: 1.1862 - acc: 0.6532 - val_loss: 3.6638 - val_acc: 0.0982\n",
      "Epoch 20/100\n",
      "444/444 [==============================] - 0s 80us/step - loss: 1.0898 - acc: 0.6509 - val_loss: 3.6483 - val_acc: 0.0982\n",
      "Epoch 21/100\n",
      "444/444 [==============================] - 0s 79us/step - loss: 1.1350 - acc: 0.6329 - val_loss: 3.6405 - val_acc: 0.0982\n",
      "Epoch 22/100\n",
      "444/444 [==============================] - 0s 78us/step - loss: 1.1003 - acc: 0.6554 - val_loss: 3.6407 - val_acc: 0.0982\n",
      "Epoch 23/100\n",
      "444/444 [==============================] - 0s 81us/step - loss: 1.0255 - acc: 0.6847 - val_loss: 3.6231 - val_acc: 0.1071\n",
      "Epoch 24/100\n",
      "444/444 [==============================] - 0s 79us/step - loss: 1.0293 - acc: 0.7027 - val_loss: 3.6461 - val_acc: 0.1071\n",
      "Epoch 25/100\n",
      "444/444 [==============================] - 0s 79us/step - loss: 1.0117 - acc: 0.6824 - val_loss: 3.6551 - val_acc: 0.1071\n",
      "Epoch 26/100\n",
      "444/444 [==============================] - 0s 80us/step - loss: 1.0136 - acc: 0.6847 - val_loss: 3.6464 - val_acc: 0.1071\n",
      "Epoch 27/100\n",
      "444/444 [==============================] - 0s 81us/step - loss: 0.9603 - acc: 0.6802 - val_loss: 3.6426 - val_acc: 0.1071\n",
      "Epoch 28/100\n",
      "444/444 [==============================] - 0s 79us/step - loss: 1.0157 - acc: 0.6779 - val_loss: 3.6681 - val_acc: 0.1071\n",
      "Epoch 29/100\n",
      "444/444 [==============================] - 0s 80us/step - loss: 0.9982 - acc: 0.6757 - val_loss: 3.6950 - val_acc: 0.1161\n",
      "Epoch 30/100\n",
      "444/444 [==============================] - 0s 79us/step - loss: 0.9141 - acc: 0.7432 - val_loss: 3.7105 - val_acc: 0.1161\n",
      "Epoch 31/100\n",
      "444/444 [==============================] - 0s 79us/step - loss: 0.9083 - acc: 0.6914 - val_loss: 3.7453 - val_acc: 0.1071\n",
      "Epoch 32/100\n",
      "444/444 [==============================] - 0s 79us/step - loss: 0.9250 - acc: 0.7162 - val_loss: 3.7607 - val_acc: 0.1071\n",
      "Epoch 33/100\n",
      "444/444 [==============================] - 0s 78us/step - loss: 0.9338 - acc: 0.6824 - val_loss: 3.7522 - val_acc: 0.1071\n",
      "Epoch 34/100\n",
      "444/444 [==============================] - 0s 81us/step - loss: 0.9119 - acc: 0.6847 - val_loss: 3.7054 - val_acc: 0.1161\n",
      "Epoch 35/100\n",
      "444/444 [==============================] - 0s 78us/step - loss: 0.8493 - acc: 0.7342 - val_loss: 3.7044 - val_acc: 0.1339\n",
      "Epoch 36/100\n",
      "444/444 [==============================] - 0s 81us/step - loss: 0.8996 - acc: 0.7230 - val_loss: 3.7015 - val_acc: 0.1339\n",
      "Epoch 37/100\n",
      "444/444 [==============================] - 0s 79us/step - loss: 0.8838 - acc: 0.7162 - val_loss: 3.7113 - val_acc: 0.1161\n",
      "Epoch 38/100\n",
      "444/444 [==============================] - 0s 79us/step - loss: 0.8978 - acc: 0.7297 - val_loss: 3.7504 - val_acc: 0.1071\n",
      "Epoch 39/100\n",
      "444/444 [==============================] - 0s 79us/step - loss: 0.8173 - acc: 0.7252 - val_loss: 3.7451 - val_acc: 0.1071\n",
      "Epoch 40/100\n",
      "444/444 [==============================] - 0s 79us/step - loss: 0.9101 - acc: 0.6802 - val_loss: 3.7520 - val_acc: 0.1071\n",
      "Epoch 41/100\n",
      "444/444 [==============================] - 0s 78us/step - loss: 0.8552 - acc: 0.7275 - val_loss: 3.7595 - val_acc: 0.1071\n",
      "Epoch 42/100\n",
      "444/444 [==============================] - 0s 81us/step - loss: 0.8633 - acc: 0.7230 - val_loss: 3.7729 - val_acc: 0.1071\n",
      "Epoch 43/100\n",
      "444/444 [==============================] - 0s 80us/step - loss: 0.8742 - acc: 0.7185 - val_loss: 3.7988 - val_acc: 0.1071\n",
      "Epoch 44/100\n",
      "444/444 [==============================] - 0s 79us/step - loss: 0.8489 - acc: 0.7545 - val_loss: 3.7990 - val_acc: 0.1250\n",
      "Epoch 45/100\n",
      "444/444 [==============================] - 0s 80us/step - loss: 0.8746 - acc: 0.7275 - val_loss: 3.7990 - val_acc: 0.1071\n",
      "Epoch 46/100\n",
      "444/444 [==============================] - 0s 80us/step - loss: 0.8351 - acc: 0.7387 - val_loss: 3.8182 - val_acc: 0.1339\n",
      "Epoch 47/100\n",
      "444/444 [==============================] - 0s 80us/step - loss: 0.8579 - acc: 0.7297 - val_loss: 3.8432 - val_acc: 0.1429\n",
      "Epoch 48/100\n",
      "444/444 [==============================] - 0s 79us/step - loss: 0.8565 - acc: 0.7230 - val_loss: 3.8906 - val_acc: 0.1071\n",
      "Epoch 49/100\n",
      "444/444 [==============================] - 0s 77us/step - loss: 0.8377 - acc: 0.7252 - val_loss: 3.9047 - val_acc: 0.1071\n",
      "Epoch 50/100\n",
      "444/444 [==============================] - 0s 79us/step - loss: 0.8597 - acc: 0.7365 - val_loss: 3.9241 - val_acc: 0.1071\n",
      "Epoch 51/100\n",
      "444/444 [==============================] - 0s 80us/step - loss: 0.8453 - acc: 0.7387 - val_loss: 3.9119 - val_acc: 0.1071\n",
      "Epoch 52/100\n",
      "444/444 [==============================] - 0s 79us/step - loss: 0.8577 - acc: 0.7342 - val_loss: 3.9111 - val_acc: 0.1161\n",
      "Epoch 53/100\n",
      "444/444 [==============================] - 0s 80us/step - loss: 0.7948 - acc: 0.7568 - val_loss: 3.8932 - val_acc: 0.1161\n",
      "Epoch 54/100\n",
      "444/444 [==============================] - 0s 81us/step - loss: 0.8207 - acc: 0.7365 - val_loss: 3.8737 - val_acc: 0.1161\n",
      "Epoch 55/100\n",
      "444/444 [==============================] - 0s 80us/step - loss: 0.8072 - acc: 0.7342 - val_loss: 3.8500 - val_acc: 0.1429\n",
      "Epoch 56/100\n",
      "444/444 [==============================] - 0s 80us/step - loss: 0.8288 - acc: 0.7477 - val_loss: 3.8798 - val_acc: 0.1250\n",
      "Epoch 57/100\n",
      "444/444 [==============================] - 0s 79us/step - loss: 0.7817 - acc: 0.7387 - val_loss: 3.8729 - val_acc: 0.1339\n",
      "Epoch 58/100\n",
      "444/444 [==============================] - 0s 79us/step - loss: 0.7862 - acc: 0.7680 - val_loss: 3.8885 - val_acc: 0.1429\n",
      "Epoch 59/100\n",
      "444/444 [==============================] - 0s 80us/step - loss: 0.7622 - acc: 0.7680 - val_loss: 3.8817 - val_acc: 0.1429\n",
      "Epoch 60/100\n",
      "444/444 [==============================] - 0s 81us/step - loss: 0.7351 - acc: 0.7590 - val_loss: 3.8874 - val_acc: 0.1429\n",
      "Epoch 61/100\n",
      "444/444 [==============================] - 0s 78us/step - loss: 0.7885 - acc: 0.7342 - val_loss: 3.8963 - val_acc: 0.1518\n",
      "Epoch 62/100\n",
      "444/444 [==============================] - 0s 79us/step - loss: 0.7423 - acc: 0.7680 - val_loss: 3.9225 - val_acc: 0.1518\n",
      "Epoch 63/100\n",
      "444/444 [==============================] - 0s 80us/step - loss: 0.7805 - acc: 0.7568 - val_loss: 3.9281 - val_acc: 0.1429\n",
      "Epoch 64/100\n",
      "444/444 [==============================] - 0s 82us/step - loss: 0.7828 - acc: 0.7455 - val_loss: 3.9708 - val_acc: 0.1161\n",
      "Epoch 65/100\n",
      "444/444 [==============================] - 0s 79us/step - loss: 0.7256 - acc: 0.7477 - val_loss: 4.0125 - val_acc: 0.1250\n",
      "Epoch 66/100\n",
      "444/444 [==============================] - 0s 80us/step - loss: 0.7723 - acc: 0.7477 - val_loss: 4.0414 - val_acc: 0.1161\n",
      "Epoch 67/100\n",
      "444/444 [==============================] - 0s 80us/step - loss: 0.7737 - acc: 0.7500 - val_loss: 4.0691 - val_acc: 0.1250\n",
      "Epoch 68/100\n",
      "444/444 [==============================] - 0s 78us/step - loss: 0.7441 - acc: 0.7680 - val_loss: 4.0725 - val_acc: 0.1161\n",
      "Epoch 69/100\n",
      "444/444 [==============================] - 0s 81us/step - loss: 0.7396 - acc: 0.7500 - val_loss: 4.0611 - val_acc: 0.1161\n",
      "Epoch 70/100\n",
      "444/444 [==============================] - 0s 77us/step - loss: 0.7017 - acc: 0.7680 - val_loss: 4.0523 - val_acc: 0.1161\n",
      "Epoch 71/100\n",
      "444/444 [==============================] - 0s 79us/step - loss: 0.7220 - acc: 0.7680 - val_loss: 4.0493 - val_acc: 0.1250\n",
      "Epoch 72/100\n",
      "444/444 [==============================] - 0s 79us/step - loss: 0.7264 - acc: 0.7860 - val_loss: 4.0724 - val_acc: 0.1161\n",
      "Epoch 73/100\n",
      "444/444 [==============================] - 0s 79us/step - loss: 0.7260 - acc: 0.7568 - val_loss: 4.0859 - val_acc: 0.1250\n",
      "Epoch 74/100\n",
      "444/444 [==============================] - 0s 80us/step - loss: 0.7130 - acc: 0.7545 - val_loss: 4.0674 - val_acc: 0.1250\n",
      "Epoch 75/100\n",
      "444/444 [==============================] - 0s 80us/step - loss: 0.7700 - acc: 0.7365 - val_loss: 4.0356 - val_acc: 0.1250\n",
      "Epoch 76/100\n",
      "444/444 [==============================] - 0s 79us/step - loss: 0.7064 - acc: 0.7658 - val_loss: 4.0342 - val_acc: 0.1250\n",
      "Epoch 77/100\n",
      "444/444 [==============================] - 0s 79us/step - loss: 0.7197 - acc: 0.7477 - val_loss: 4.0282 - val_acc: 0.1250\n",
      "Epoch 78/100\n",
      "444/444 [==============================] - 0s 79us/step - loss: 0.7352 - acc: 0.7500 - val_loss: 4.0316 - val_acc: 0.1250\n",
      "Epoch 79/100\n",
      "444/444 [==============================] - 0s 79us/step - loss: 0.7111 - acc: 0.7725 - val_loss: 3.9925 - val_acc: 0.1518\n",
      "Epoch 80/100\n",
      "444/444 [==============================] - 0s 79us/step - loss: 0.7154 - acc: 0.7477 - val_loss: 3.9784 - val_acc: 0.1429\n",
      "Epoch 81/100\n",
      "444/444 [==============================] - 0s 79us/step - loss: 0.7346 - acc: 0.7455 - val_loss: 3.9769 - val_acc: 0.1429\n",
      "Epoch 82/100\n",
      "444/444 [==============================] - 0s 79us/step - loss: 0.7594 - acc: 0.7658 - val_loss: 3.9700 - val_acc: 0.1161\n",
      "Epoch 83/100\n",
      "444/444 [==============================] - 0s 81us/step - loss: 0.6976 - acc: 0.7635 - val_loss: 3.9903 - val_acc: 0.1250\n",
      "Epoch 84/100\n",
      "444/444 [==============================] - 0s 79us/step - loss: 0.7036 - acc: 0.7523 - val_loss: 4.0102 - val_acc: 0.1518\n",
      "Epoch 85/100\n",
      "444/444 [==============================] - 0s 79us/step - loss: 0.7004 - acc: 0.7815 - val_loss: 4.0252 - val_acc: 0.1518\n",
      "Epoch 86/100\n",
      "444/444 [==============================] - 0s 81us/step - loss: 0.6999 - acc: 0.7658 - val_loss: 4.0598 - val_acc: 0.1250\n",
      "Epoch 87/100\n",
      "444/444 [==============================] - 0s 78us/step - loss: 0.6882 - acc: 0.7703 - val_loss: 4.1105 - val_acc: 0.1250\n",
      "Epoch 88/100\n",
      "444/444 [==============================] - 0s 77us/step - loss: 0.6734 - acc: 0.7748 - val_loss: 4.1210 - val_acc: 0.1250\n",
      "Epoch 89/100\n",
      "444/444 [==============================] - 0s 79us/step - loss: 0.7102 - acc: 0.7815 - val_loss: 4.1141 - val_acc: 0.1161\n",
      "Epoch 90/100\n",
      "444/444 [==============================] - 0s 79us/step - loss: 0.7021 - acc: 0.7770 - val_loss: 4.0896 - val_acc: 0.1161\n",
      "Epoch 91/100\n",
      "444/444 [==============================] - 0s 80us/step - loss: 0.7118 - acc: 0.7770 - val_loss: 4.0915 - val_acc: 0.1161\n",
      "Epoch 92/100\n",
      "444/444 [==============================] - 0s 78us/step - loss: 0.6898 - acc: 0.7793 - val_loss: 4.0962 - val_acc: 0.1071\n",
      "Epoch 93/100\n",
      "444/444 [==============================] - 0s 79us/step - loss: 0.6961 - acc: 0.7613 - val_loss: 4.0821 - val_acc: 0.1161\n",
      "Epoch 94/100\n",
      "444/444 [==============================] - 0s 78us/step - loss: 0.6712 - acc: 0.7725 - val_loss: 4.0198 - val_acc: 0.1250\n",
      "Epoch 95/100\n",
      "444/444 [==============================] - 0s 80us/step - loss: 0.6731 - acc: 0.7883 - val_loss: 3.9876 - val_acc: 0.1250\n",
      "Epoch 96/100\n",
      "444/444 [==============================] - 0s 79us/step - loss: 0.7059 - acc: 0.7725 - val_loss: 4.0319 - val_acc: 0.1161\n",
      "Epoch 97/100\n",
      "444/444 [==============================] - 0s 78us/step - loss: 0.6549 - acc: 0.7725 - val_loss: 4.0567 - val_acc: 0.1161\n",
      "Epoch 98/100\n",
      "444/444 [==============================] - 0s 79us/step - loss: 0.6741 - acc: 0.7725 - val_loss: 4.0583 - val_acc: 0.1071\n",
      "Epoch 99/100\n",
      "444/444 [==============================] - 0s 81us/step - loss: 0.6347 - acc: 0.7928 - val_loss: 4.0729 - val_acc: 0.1339\n",
      "Epoch 100/100\n",
      "444/444 [==============================] - 0s 80us/step - loss: 0.6626 - acc: 0.7770 - val_loss: 4.0937 - val_acc: 0.1339\n",
      "exe time:  5.631371974945068\n"
     ]
    }
   ],
   "source": [
    "mcp = ModelCheckpoint('/data/Quan/tf_models/webcam/amazon_gap_classifier_model.hdf5', monitor='val_acc', \n",
    "                      save_best_only=True, save_weights_only=False)\n",
    "\n",
    "start = time.time()\n",
    "history = s_topmodel.fit(transformed_features, num_s_labels, batch_size=32, epochs=100,\n",
    "               validation_data=(val_transformed_features, num_sval_labels), verbose=1, callbacks=[mcp])\n",
    "\n",
    "with open('/data/Quan/tf_models/webcam/amazon_gap_classifier_history.hdf5', 'wb') as dt:\n",
    "    pickle.dump(history, dt)\n",
    "    \n",
    "exe_time = time.time() - start\n",
    "\n",
    "print('exe time: ', exe_time)"
   ]
  },
  {
   "cell_type": "code",
   "execution_count": 45,
   "metadata": {},
   "outputs": [
    {
     "data": {
      "image/png": "[encoded data removed]",
      "text/plain": [
       "<Figure size 432x288 with 1 Axes>"
      ]
     },
     "metadata": {
      "needs_background": "light"
     },
     "output_type": "display_data"
    },
    {
     "data": {
      "image/png": "[encoded data removed]",
      "text/plain": [
       "<Figure size 432x288 with 1 Axes>"
      ]
     },
     "metadata": {
      "needs_background": "light"
     },
     "output_type": "display_data"
    }
   ],
   "source": [
    "%matplotlib inline\n",
    "plt.plot(history.history['acc'], label='acc')\n",
    "plt.plot(history.history['val_acc'], label='val_acc')\n",
    "plt.legend()\n",
    "plt.show()\n",
    "\n",
    "plt.plot(history.history['loss'], label='loss')\n",
    "plt.plot(history.history['val_loss'], label='val_loss')\n",
    "plt.legend()\n",
    "plt.show()"
   ]
  },
  {
   "cell_type": "code",
   "execution_count": 46,
   "metadata": {},
   "outputs": [
    {
     "name": "stdout",
     "output_type": "stream",
     "text": [
      "239/239 [==============================] - 0s 2ms/step\n"
     ]
    },
    {
     "data": {
      "text/plain": [
       "[4.492340698401798, 0.04602510460251046]"
      ]
     },
     "execution_count": 46,
     "metadata": {},
     "output_type": "execute_result"
    }
   ],
   "source": [
    "test_topmodel = load_model('/data/Quan/tf_models/webcam/amazon_gap_classifier_model.hdf5')\n",
    "test_topmodel.evaluate(test_transformed_features, t_test_labels, verbose=1)"
   ]
  },
  {
   "cell_type": "markdown",
   "metadata": {},
   "source": [
    "## Subtract the latent space for s data and t data"
   ]
  },
  {
   "cell_type": "code",
   "execution_count": 71,
   "metadata": {},
   "outputs": [],
   "source": [
    "s_vae = load_model('/data/Quan/tf_models/amazon/vae_model.hdf5')\n",
    "t_vae = load_model('/data/Quan/tf_models/webcam/vae_model.hdf5')\n",
    "\n",
    "t_encoder = Model(t_vae.input, [t_vae.layers[2].output, t_vae.layers[3].output])\n",
    "s_encoder = Model(s_vae.input, [s_vae.layers[2].output, s_vae.layers[3].output])"
   ]
  },
  {
   "cell_type": "code",
   "execution_count": 62,
   "metadata": {},
   "outputs": [
    {
     "name": "stdout",
     "output_type": "stream",
     "text": [
      "__________________________________________________________________________________________________\n",
      "Layer (type)                    Output Shape         Param #     Connected to                     \n",
      "==================================================================================================\n",
      "input (InputLayer)              (None, 18, 18, 736)  0                                            \n",
      "__________________________________________________________________________________________________\n",
      "global_average_pooling (GlobalA (None, 736)          0           input[0][0]                      \n",
      "__________________________________________________________________________________________________\n",
      "h (Dense)                       (None, 256)          188672      global_average_pooling[0][0]     \n",
      "__________________________________________________________________________________________________\n",
      "z_mean (Dense)                  (None, 64)           16448       h[0][0]                          \n",
      "__________________________________________________________________________________________________\n",
      "z_log_sigma (Dense)             (None, 64)           16448       h[0][0]                          \n",
      "__________________________________________________________________________________________________\n",
      "lambda_sampling (Lambda)        (None, 64)           0           z_mean[0][0]                     \n",
      "                                                                 z_log_sigma[0][0]                \n",
      "__________________________________________________________________________________________________\n",
      "decoder_h (Dense)               (None, 256)          16640       lambda_sampling[0][0]            \n",
      "__________________________________________________________________________________________________\n",
      "decoder_mean (Dense)            (None, 736)          189152      decoder_h[0][0]                  \n",
      "==================================================================================================\n",
      "Total params: 427,360\n",
      "Trainable params: 427,360\n",
      "Non-trainable params: 0\n",
      "__________________________________________________________________________________________________\n"
     ]
    }
   ],
   "source": [
    "s_vae.summary()"
   ]
  },
  {
   "cell_type": "code",
   "execution_count": 61,
   "metadata": {},
   "outputs": [
    {
     "name": "stdout",
     "output_type": "stream",
     "text": [
      "__________________________________________________________________________________________________\n",
      "Layer (type)                    Output Shape         Param #     Connected to                     \n",
      "==================================================================================================\n",
      "input_51 (InputLayer)           (None, 18, 18, 64)   0                                            \n",
      "__________________________________________________________________________________________________\n",
      "input_52 (InputLayer)           (None, 18, 18, 64)   0                                            \n",
      "__________________________________________________________________________________________________\n",
      "input_49 (InputLayer)           (None, 18, 18, 64)   0                                            \n",
      "__________________________________________________________________________________________________\n",
      "input_50 (InputLayer)           (None, 18, 18, 64)   0                                            \n",
      "__________________________________________________________________________________________________\n",
      "t_lambda_sampling (Lambda)      (None, 18, 18, 64)   0           input_51[0][0]                   \n",
      "                                                                 input_52[0][0]                   \n",
      "__________________________________________________________________________________________________\n",
      "s_lambda_sampling (Lambda)      (None, 18, 18, 64)   0           input_49[0][0]                   \n",
      "                                                                 input_50[0][0]                   \n",
      "__________________________________________________________________________________________________\n",
      "subtract_9 (Subtract)           (None, 18, 18, 64)   0           s_lambda_sampling[0][0]          \n",
      "                                                                 t_lambda_sampling[0][0]          \n",
      "__________________________________________________________________________________________________\n",
      "s_decoder_h (Dense)             (None, 18, 18, 256)  16640       t_lambda_sampling[0][0]          \n",
      "__________________________________________________________________________________________________\n",
      "s_decoder_subtract_h (Dense)    (None, 18, 18, 256)  16640       subtract_9[0][0]                 \n",
      "__________________________________________________________________________________________________\n",
      "t_decoder_subtract_h (Dense)    (None, 18, 18, 256)  16640       subtract_9[0][0]                 \n",
      "__________________________________________________________________________________________________\n",
      "s_decoder_mean (Dense)          (None, 18, 18, 736)  189152      s_decoder_h[0][0]                \n",
      "__________________________________________________________________________________________________\n",
      "s_decoder_subtract_mean (Dense) (None, 18, 18, 736)  189152      s_decoder_subtract_h[0][0]       \n",
      "__________________________________________________________________________________________________\n",
      "t_decoder_subtract_mean (Dense) (None, 18, 18, 736)  189152      t_decoder_subtract_h[0][0]       \n",
      "==================================================================================================\n",
      "Total params: 617,376\n",
      "Trainable params: 617,376\n",
      "Non-trainable params: 0\n",
      "__________________________________________________________________________________________________\n"
     ]
    }
   ],
   "source": [
    "s_input_z = Input(shape=(18,18,64))\n",
    "s_input_z_log_mean = Input(shape=(18,18,64))\n",
    "t_input_z = Input(shape=(18,18,64))\n",
    "t_input_z_log_mean = Input(shape=(18,18,64))\n",
    "\n",
    "s_z = Lambda(sampling, name='s_lambda_sampling')([s_input_z,s_input_z_log_mean])\n",
    "t_z = Lambda(sampling, name='t_lambda_sampling')([t_input_z,t_input_z_log_mean])\n",
    "\n",
    "subtract_z = Subtract()([s_z, t_z])\n",
    "# subtract_z = Activation('sigmoid')\n",
    "\n",
    "s_subtract_h_decoded = Dense(256, activation='relu', name='s_decoder_subtract_h')(subtract_z)\n",
    "s_subtract_x_decoded_mean = Dense(736, activation='sigmoid', name='s_decoder_subtract_mean')(s_subtract_h_decoded) #output\n",
    "\n",
    "t_subtract_h_decoded = Dense(256, activation='relu', name='t_decoder_subtract_h')(subtract_z)\n",
    "t_subtract_x_decoded_mean = Dense(736, activation='sigmoid', name='t_decoder_subtract_mean')(t_subtract_h_decoded) #output\n",
    "\n",
    "s_h_decoded = Dense(256, activation='relu', name='s_decoder_h')(t_z)\n",
    "s_x_decoded_mean = Dense(736, activation='sigmoid', name='s_decoder_mean')(s_h_decoded) #output\n",
    "\n",
    "combined_decoder = Model([s_input_z, s_input_z_log_mean, t_input_z, t_input_z_log_mean], [s_x_decoded_mean, s_subtract_x_decoded_mean, t_subtract_x_decoded_mean])\n",
    "combined_decoder.summary()\n",
    "# set weights from amazon vae decoder\n",
    "# for i in range(3, len(s_decoder.layers)):\n",
    "#     s_decoder.layers[i].set_weights(s_vae.layers[i+2].get_weights())"
   ]
  },
  {
   "cell_type": "code",
   "execution_count": 68,
   "metadata": {},
   "outputs": [],
   "source": [
    "i = -4\n",
    "k = -2\n",
    "combined_decoder.layers[i].set_weights(t_vae.layers[k].get_weights())"
   ]
  },
  {
   "cell_type": "code",
   "execution_count": null,
   "metadata": {},
   "outputs": [],
   "source": []
  },
  {
   "cell_type": "code",
   "execution_count": 87,
   "metadata": {
    "scrolled": true
   },
   "outputs": [
    {
     "name": "stdout",
     "output_type": "stream",
     "text": [
      "__________________________________________________________________________________________________\n",
      "Layer (type)                    Output Shape         Param #     Connected to                     \n",
      "==================================================================================================\n",
      "input_72 (InputLayer)           (None, 18, 18, 736)  0                                            \n",
      "__________________________________________________________________________________________________\n",
      "input_73 (InputLayer)           (None, 18, 18, 736)  0                                            \n",
      "__________________________________________________________________________________________________\n",
      "model_31 (Model)                [(None, 18, 18, 64), 221568      input_72[0][0]                   \n",
      "__________________________________________________________________________________________________\n",
      "model_30 (Model)                [(None, 18, 18, 64), 221568      input_73[0][0]                   \n",
      "__________________________________________________________________________________________________\n",
      "model_29 (Model)                [(None, 18, 18, 736) 617376      model_31[9][0]                   \n",
      "                                                                 model_31[9][1]                   \n",
      "                                                                 model_30[9][0]                   \n",
      "                                                                 model_30[9][1]                   \n",
      "__________________________________________________________________________________________________\n",
      "concatenate_1 (Concatenate)     (None, 18, 18, 2208) 0           model_29[5][0]                   \n",
      "                                                                 model_29[5][1]                   \n",
      "                                                                 model_29[5][2]                   \n",
      "==================================================================================================\n",
      "Total params: 1,060,512\n",
      "Trainable params: 1,060,512\n",
      "Non-trainable params: 0\n",
      "__________________________________________________________________________________________________\n"
     ]
    }
   ],
   "source": [
    "# combine webcam encoder + amazon decoder\n",
    "\n",
    "_s_c_input = Input(shape=(18,18,736))\n",
    "_t_c_input = Input(shape=(18,18,736))\n",
    "\n",
    "_t_encoder = t_encoder(_t_c_input)\n",
    "_s_encoder = s_encoder(_s_c_input)\n",
    "\n",
    "_s_decoded_mean, s_subtract_mean, t_subtract_mean = combined_decoder([_s_encoder[0],_s_encoder[1], \n",
    "                                                                      _t_encoder[0], _t_encoder[1]])\n",
    "concat = concatenate([_s_decoded_mean, s_subtract_mean, t_subtract_mean])\n",
    "\n",
    "combine_vae = Model([_s_c_input, _t_c_input], concat)\n",
    "combine_vae.summary()"
   ]
  },
  {
   "cell_type": "markdown",
   "metadata": {},
   "source": [
    "## Mapping using combined vae"
   ]
  },
  {
   "cell_type": "code",
   "execution_count": 88,
   "metadata": {},
   "outputs": [
    {
     "name": "stdout",
     "output_type": "stream",
     "text": [
      "444/444 [==============================] - 2s 5ms/step\n"
     ]
    },
    {
     "data": {
      "text/plain": [
       "((444, 18, 18, 2208), (444, 18, 18, 736), (444, 18, 18, 736))"
      ]
     },
     "execution_count": 88,
     "metadata": {},
     "output_type": "execute_result"
    }
   ],
   "source": [
    "transformed_features, s_subtract, t_subtract = combine_vae.predict([s_features[:444], t_features], verbose=1)\n",
    "transformed_features.shape, s_subtract.shape, t_subtract.shape"
   ]
  },
  {
   "cell_type": "code",
   "execution_count": 89,
   "metadata": {},
   "outputs": [
    {
     "name": "stdout",
     "output_type": "stream",
     "text": [
      "112/112 [==============================] - 0s 3ms/step\n"
     ]
    },
    {
     "data": {
      "text/plain": [
       "(112, 18, 18, 2208)"
      ]
     },
     "execution_count": 89,
     "metadata": {},
     "output_type": "execute_result"
    }
   ],
   "source": [
    "val_transformed_features = combine_vae.predict([sval_features[:112], tval_features], verbose=1)\n",
    "val_transformed_features.shape"
   ]
  },
  {
   "cell_type": "code",
   "execution_count": 93,
   "metadata": {},
   "outputs": [],
   "source": [
    "label_dict = test_generator.class_indices\n",
    "\n",
    "with open('/data/Quan/tf_models/webcam/t_test_features.hdf5', 'rb') as dt:\n",
    "    t_test_labels, t_test_features = pickle.load(dt)\n",
    "    \n",
    "t_test_labels = [label_dict[k] for k in t_test_labels]\n",
    "t_test_labels = keras.utils.to_categorical(t_test_labels, 31)"
   ]
  },
  {
   "cell_type": "code",
   "execution_count": 95,
   "metadata": {
    "collapsed": true
   },
   "outputs": [
    {
     "ename": "ValueError",
     "evalue": "Error when checking model input: the list of Numpy arrays that you are passing to your model is not the size the model expected. Expected to see 2 array(s), but instead got the following list of 1 arrays: [array([[[[5.81216216e-01, 2.03334764e-01, 3.85966659e-01, ...,\n          1.37898469e+00, 2.18067765e+00, 2.43087721e+00],\n         [7.76952386e-01, 0.00000000e+00, 1.08271100e-01, ...,\n          1.74...",
     "output_type": "error",
     "traceback": [
      "\u001b[0;31m---------------------------------------------------------------------------\u001b[0m",
      "\u001b[0;31mValueError\u001b[0m                                Traceback (most recent call last)",
      "\u001b[0;32m<ipython-input-95-4d87193680b6>\u001b[0m in \u001b[0;36m<module>\u001b[0;34m\u001b[0m\n\u001b[0;32m----> 1\u001b[0;31m \u001b[0mtest_transformed_features\u001b[0m \u001b[0;34m=\u001b[0m \u001b[0mcombine_vae\u001b[0m\u001b[0;34m.\u001b[0m\u001b[0mpredict\u001b[0m\u001b[0;34m(\u001b[0m\u001b[0mt_test_features\u001b[0m\u001b[0;34m,\u001b[0m \u001b[0mverbose\u001b[0m\u001b[0;34m=\u001b[0m\u001b[0;36m1\u001b[0m\u001b[0;34m)\u001b[0m\u001b[0;34m\u001b[0m\u001b[0m\n\u001b[0m\u001b[1;32m      2\u001b[0m \u001b[0mtest_transformed_features\u001b[0m\u001b[0;34m.\u001b[0m\u001b[0mshape\u001b[0m\u001b[0;34m\u001b[0m\u001b[0m\n",
      "\u001b[0;32m/usr/local/lib/python3.5/dist-packages/keras/engine/training.py\u001b[0m in \u001b[0;36mpredict\u001b[0;34m(self, x, batch_size, verbose, steps)\u001b[0m\n\u001b[1;32m   1147\u001b[0m                              'argument.')\n\u001b[1;32m   1148\u001b[0m         \u001b[0;31m# Validate user data.\u001b[0m\u001b[0;34m\u001b[0m\u001b[0;34m\u001b[0m\u001b[0m\n\u001b[0;32m-> 1149\u001b[0;31m         \u001b[0mx\u001b[0m\u001b[0;34m,\u001b[0m \u001b[0m_\u001b[0m\u001b[0;34m,\u001b[0m \u001b[0m_\u001b[0m \u001b[0;34m=\u001b[0m \u001b[0mself\u001b[0m\u001b[0;34m.\u001b[0m\u001b[0m_standardize_user_data\u001b[0m\u001b[0;34m(\u001b[0m\u001b[0mx\u001b[0m\u001b[0;34m)\u001b[0m\u001b[0;34m\u001b[0m\u001b[0m\n\u001b[0m\u001b[1;32m   1150\u001b[0m         \u001b[0;32mif\u001b[0m \u001b[0mself\u001b[0m\u001b[0;34m.\u001b[0m\u001b[0mstateful\u001b[0m\u001b[0;34m:\u001b[0m\u001b[0;34m\u001b[0m\u001b[0m\n\u001b[1;32m   1151\u001b[0m             \u001b[0;32mif\u001b[0m \u001b[0mx\u001b[0m\u001b[0;34m[\u001b[0m\u001b[0;36m0\u001b[0m\u001b[0;34m]\u001b[0m\u001b[0;34m.\u001b[0m\u001b[0mshape\u001b[0m\u001b[0;34m[\u001b[0m\u001b[0;36m0\u001b[0m\u001b[0;34m]\u001b[0m \u001b[0;34m>\u001b[0m \u001b[0mbatch_size\u001b[0m \u001b[0;32mand\u001b[0m \u001b[0mx\u001b[0m\u001b[0;34m[\u001b[0m\u001b[0;36m0\u001b[0m\u001b[0;34m]\u001b[0m\u001b[0;34m.\u001b[0m\u001b[0mshape\u001b[0m\u001b[0;34m[\u001b[0m\u001b[0;36m0\u001b[0m\u001b[0;34m]\u001b[0m \u001b[0;34m%\u001b[0m \u001b[0mbatch_size\u001b[0m \u001b[0;34m!=\u001b[0m \u001b[0;36m0\u001b[0m\u001b[0;34m:\u001b[0m\u001b[0;34m\u001b[0m\u001b[0m\n",
      "\u001b[0;32m/usr/local/lib/python3.5/dist-packages/keras/engine/training.py\u001b[0m in \u001b[0;36m_standardize_user_data\u001b[0;34m(self, x, y, sample_weight, class_weight, check_array_lengths, batch_size)\u001b[0m\n\u001b[1;32m    749\u001b[0m             \u001b[0mfeed_input_shapes\u001b[0m\u001b[0;34m,\u001b[0m\u001b[0;34m\u001b[0m\u001b[0m\n\u001b[1;32m    750\u001b[0m             \u001b[0mcheck_batch_axis\u001b[0m\u001b[0;34m=\u001b[0m\u001b[0;32mFalse\u001b[0m\u001b[0;34m,\u001b[0m  \u001b[0;31m# Don't enforce the batch size.\u001b[0m\u001b[0;34m\u001b[0m\u001b[0m\n\u001b[0;32m--> 751\u001b[0;31m             exception_prefix='input')\n\u001b[0m\u001b[1;32m    752\u001b[0m \u001b[0;34m\u001b[0m\u001b[0m\n\u001b[1;32m    753\u001b[0m         \u001b[0;32mif\u001b[0m \u001b[0my\u001b[0m \u001b[0;32mis\u001b[0m \u001b[0;32mnot\u001b[0m \u001b[0;32mNone\u001b[0m\u001b[0;34m:\u001b[0m\u001b[0;34m\u001b[0m\u001b[0m\n",
      "\u001b[0;32m/usr/local/lib/python3.5/dist-packages/keras/engine/training_utils.py\u001b[0m in \u001b[0;36mstandardize_input_data\u001b[0;34m(data, names, shapes, check_batch_axis, exception_prefix)\u001b[0m\n\u001b[1;32m    100\u001b[0m                 \u001b[0;34m'Expected to see '\u001b[0m \u001b[0;34m+\u001b[0m \u001b[0mstr\u001b[0m\u001b[0;34m(\u001b[0m\u001b[0mlen\u001b[0m\u001b[0;34m(\u001b[0m\u001b[0mnames\u001b[0m\u001b[0;34m)\u001b[0m\u001b[0;34m)\u001b[0m \u001b[0;34m+\u001b[0m \u001b[0;34m' array(s), '\u001b[0m\u001b[0;34m\u001b[0m\u001b[0m\n\u001b[1;32m    101\u001b[0m                 \u001b[0;34m'but instead got the following list of '\u001b[0m \u001b[0;34m+\u001b[0m\u001b[0;34m\u001b[0m\u001b[0m\n\u001b[0;32m--> 102\u001b[0;31m                 str(len(data)) + ' arrays: ' + str(data)[:200] + '...')\n\u001b[0m\u001b[1;32m    103\u001b[0m         \u001b[0;32melif\u001b[0m \u001b[0mlen\u001b[0m\u001b[0;34m(\u001b[0m\u001b[0mnames\u001b[0m\u001b[0;34m)\u001b[0m \u001b[0;34m>\u001b[0m \u001b[0;36m1\u001b[0m\u001b[0;34m:\u001b[0m\u001b[0;34m\u001b[0m\u001b[0m\n\u001b[1;32m    104\u001b[0m             raise ValueError(\n",
      "\u001b[0;31mValueError\u001b[0m: Error when checking model input: the list of Numpy arrays that you are passing to your model is not the size the model expected. Expected to see 2 array(s), but instead got the following list of 1 arrays: [array([[[[5.81216216e-01, 2.03334764e-01, 3.85966659e-01, ...,\n          1.37898469e+00, 2.18067765e+00, 2.43087721e+00],\n         [7.76952386e-01, 0.00000000e+00, 1.08271100e-01, ...,\n          1.74..."
     ]
    }
   ],
   "source": [
    "test_transformed_features = combine_vae.predict(t_test_features, verbose=1)\n",
    "test_transformed_features.shape"
   ]
  },
  {
   "cell_type": "code",
   "execution_count": 101,
   "metadata": {},
   "outputs": [
    {
     "name": "stdout",
     "output_type": "stream",
     "text": [
      "__________________________________________________________________________________________________\n",
      "Layer (type)                    Output Shape         Param #     Connected to                     \n",
      "==================================================================================================\n",
      "input_1 (InputLayer)            (None, 300, 300, 3)  0                                            \n",
      "__________________________________________________________________________________________________\n",
      "conv0_block0 (Conv2D)           (None, 300, 300, 32) 896         input_1[0][0]                    \n",
      "__________________________________________________________________________________________________\n",
      "batchnorm0_block0 (BatchNormali (None, 300, 300, 32) 128         conv0_block0[0][0]               \n",
      "__________________________________________________________________________________________________\n",
      "relu0_block0 (Activation)       (None, 300, 300, 32) 0           batchnorm0_block0[0][0]          \n",
      "__________________________________________________________________________________________________\n",
      "conv1_block0 (Conv2D)           (None, 300, 300, 32) 9248        relu0_block0[0][0]               \n",
      "__________________________________________________________________________________________________\n",
      "batchnorm1_block0 (BatchNormali (None, 300, 300, 32) 128         conv1_block0[0][0]               \n",
      "__________________________________________________________________________________________________\n",
      "relu1_block0 (Activation)       (None, 300, 300, 32) 0           batchnorm1_block0[0][0]          \n",
      "__________________________________________________________________________________________________\n",
      "maxpooling_block0 (MaxPooling2D (None, 150, 150, 32) 0           relu1_block0[0][0]               \n",
      "__________________________________________________________________________________________________\n",
      "conv0_block1 (Conv2D)           (None, 150, 150, 64) 18496       maxpooling_block0[0][0]          \n",
      "__________________________________________________________________________________________________\n",
      "batchnorm0_block1 (BatchNormali (None, 150, 150, 64) 256         conv0_block1[0][0]               \n",
      "__________________________________________________________________________________________________\n",
      "relu0_block1 (Activation)       (None, 150, 150, 64) 0           batchnorm0_block1[0][0]          \n",
      "__________________________________________________________________________________________________\n",
      "conv1_block1 (Conv2D)           (None, 150, 150, 64) 36928       relu0_block1[0][0]               \n",
      "__________________________________________________________________________________________________\n",
      "batchnorm1_block1 (BatchNormali (None, 150, 150, 64) 256         conv1_block1[0][0]               \n",
      "__________________________________________________________________________________________________\n",
      "relu1_block1 (Activation)       (None, 150, 150, 64) 0           batchnorm1_block1[0][0]          \n",
      "__________________________________________________________________________________________________\n",
      "maxpooling_block1 (MaxPooling2D (None, 75, 75, 64)   0           relu1_block1[0][0]               \n",
      "__________________________________________________________________________________________________\n",
      "cropping_block0_block2 (Croppin (None, 75, 75, 32)   0           maxpooling_block0[0][0]          \n",
      "__________________________________________________________________________________________________\n",
      "concatenate_1 (Concatenate)     (None, 75, 75, 96)   0           cropping_block0_block2[0][0]     \n",
      "                                                                 maxpooling_block1[0][0]          \n",
      "__________________________________________________________________________________________________\n",
      "batch_normalization_1 (BatchNor (None, 75, 75, 96)   384         concatenate_1[0][0]              \n",
      "__________________________________________________________________________________________________\n",
      "conv0_block2 (Conv2D)           (None, 75, 75, 128)  110720      batch_normalization_1[0][0]      \n",
      "__________________________________________________________________________________________________\n",
      "batchnorm0_block2 (BatchNormali (None, 75, 75, 128)  512         conv0_block2[0][0]               \n",
      "__________________________________________________________________________________________________\n",
      "relu0_block2 (Activation)       (None, 75, 75, 128)  0           batchnorm0_block2[0][0]          \n",
      "__________________________________________________________________________________________________\n",
      "conv1_block2 (Conv2D)           (None, 75, 75, 128)  147584      relu0_block2[0][0]               \n",
      "__________________________________________________________________________________________________\n",
      "batchnorm1_block2 (BatchNormali (None, 75, 75, 128)  512         conv1_block2[0][0]               \n",
      "__________________________________________________________________________________________________\n",
      "relu1_block2 (Activation)       (None, 75, 75, 128)  0           batchnorm1_block2[0][0]          \n",
      "__________________________________________________________________________________________________\n",
      "conv2_block2 (Conv2D)           (None, 75, 75, 128)  147584      relu1_block2[0][0]               \n",
      "__________________________________________________________________________________________________\n",
      "batchnorm2_block2 (BatchNormali (None, 75, 75, 128)  512         conv2_block2[0][0]               \n",
      "__________________________________________________________________________________________________\n",
      "relu2_block2 (Activation)       (None, 75, 75, 128)  0           batchnorm2_block2[0][0]          \n",
      "__________________________________________________________________________________________________\n",
      "maxpooling_block2 (MaxPooling2D (None, 37, 37, 128)  0           relu2_block2[0][0]               \n",
      "__________________________________________________________________________________________________\n",
      "cropping_block0_block3 (Croppin (None, 37, 37, 32)   0           maxpooling_block0[0][0]          \n",
      "__________________________________________________________________________________________________\n",
      "cropping_block1_block3 (Croppin (None, 37, 37, 64)   0           maxpooling_block1[0][0]          \n",
      "__________________________________________________________________________________________________\n",
      "concatenate_2 (Concatenate)     (None, 37, 37, 224)  0           cropping_block0_block3[0][0]     \n",
      "                                                                 cropping_block1_block3[0][0]     \n",
      "                                                                 maxpooling_block2[0][0]          \n",
      "__________________________________________________________________________________________________\n",
      "batch_normalization_2 (BatchNor (None, 37, 37, 224)  896         concatenate_2[0][0]              \n",
      "__________________________________________________________________________________________________\n",
      "conv0_block3 (Conv2D)           (None, 37, 37, 512)  1032704     batch_normalization_2[0][0]      \n",
      "__________________________________________________________________________________________________\n",
      "batchnorm0_block3 (BatchNormali (None, 37, 37, 512)  2048        conv0_block3[0][0]               \n",
      "__________________________________________________________________________________________________\n",
      "relu0_block3 (Activation)       (None, 37, 37, 512)  0           batchnorm0_block3[0][0]          \n",
      "__________________________________________________________________________________________________\n",
      "conv1_block3 (Conv2D)           (None, 37, 37, 512)  2359808     relu0_block3[0][0]               \n",
      "__________________________________________________________________________________________________\n",
      "batchnorm1_block3 (BatchNormali (None, 37, 37, 512)  2048        conv1_block3[0][0]               \n",
      "__________________________________________________________________________________________________\n",
      "relu1_block3 (Activation)       (None, 37, 37, 512)  0           batchnorm1_block3[0][0]          \n",
      "__________________________________________________________________________________________________\n",
      "conv2_block3 (Conv2D)           (None, 37, 37, 512)  2359808     relu1_block3[0][0]               \n",
      "__________________________________________________________________________________________________\n",
      "batchnorm2_block3 (BatchNormali (None, 37, 37, 512)  2048        conv2_block3[0][0]               \n",
      "__________________________________________________________________________________________________\n",
      "relu2_block3 (Activation)       (None, 37, 37, 512)  0           batchnorm2_block3[0][0]          \n",
      "__________________________________________________________________________________________________\n",
      "cropping_block0_block4 (Croppin (None, 18, 18, 32)   0           maxpooling_block0[0][0]          \n",
      "__________________________________________________________________________________________________\n",
      "cropping_block1_block4 (Croppin (None, 18, 18, 64)   0           maxpooling_block1[0][0]          \n",
      "__________________________________________________________________________________________________\n",
      "cropping_block2_block4 (Croppin (None, 18, 18, 128)  0           maxpooling_block2[0][0]          \n",
      "__________________________________________________________________________________________________\n",
      "maxpooling_block3 (MaxPooling2D (None, 18, 18, 512)  0           relu2_block3[0][0]               \n",
      "__________________________________________________________________________________________________\n",
      "concatenate_3 (Concatenate)     (None, 18, 18, 736)  0           cropping_block0_block4[0][0]     \n",
      "                                                                 cropping_block1_block4[0][0]     \n",
      "                                                                 cropping_block2_block4[0][0]     \n",
      "                                                                 maxpooling_block3[0][0]          \n",
      "__________________________________________________________________________________________________\n",
      "global_average_pooling2d_1 (Glo (None, 736)          0           concatenate_3[0][0]              \n",
      "__________________________________________________________________________________________________\n",
      "dropout_1 (Dropout)             (None, 736)          0           global_average_pooling2d_1[0][0] \n",
      "__________________________________________________________________________________________________\n",
      "dense_1 (Dense)                 (None, 31)           22847       dropout_1[0][0]                  \n",
      "__________________________________________________________________________________________________\n",
      "batch_normalization_3 (BatchNor (None, 31)           124         dense_1[0][0]                    \n",
      "__________________________________________________________________________________________________\n",
      "activation_1 (Activation)       (None, 31)           0           batch_normalization_3[0][0]      \n",
      "==================================================================================================\n",
      "Total params: 6,256,475\n",
      "Trainable params: 6,251,549\n",
      "Non-trainable params: 4,926\n",
      "__________________________________________________________________________________________________\n",
      "_________________________________________________________________\n",
      "Layer (type)                 Output Shape              Param #   \n",
      "=================================================================\n",
      "input_78 (InputLayer)        (None, 18, 18, 2208)      0         \n",
      "_________________________________________________________________\n",
      "global_average_pooling2d_9 ( (None, 2208)              0         \n",
      "_________________________________________________________________\n",
      "dropout_7 (Dropout)          (None, 2208)              0         \n",
      "_________________________________________________________________\n",
      "dense_7 (Dense)              (None, 31)                68479     \n",
      "_________________________________________________________________\n",
      "batch_normalization_7 (Batch (None, 31)                124       \n",
      "_________________________________________________________________\n",
      "activation_11 (Activation)   (None, 31)                0         \n",
      "=================================================================\n",
      "Total params: 68,603\n",
      "Trainable params: 68,541\n",
      "Non-trainable params: 62\n",
      "_________________________________________________________________\n"
     ]
    }
   ],
   "source": [
    "# Get source classififer (amazon)\n",
    "s_baseline = load_model('/data/Quan/tf_models/amazon/baseline_model.hdf5')\n",
    "s_baseline.summary()\n",
    "\n",
    "input_model = Input(shape=(18,18,2208))\n",
    "x = GlobalAveragePooling2D()(input_model)\n",
    "x = Dropout(0.3)(x)\n",
    "x = Dense(31)(x)\n",
    "x = BatchNormalization()(x)\n",
    "x = Activation('softmax')(x)\n",
    "\n",
    "s_topmodel = Model(input_model, x)\n",
    "\n",
    "# for i in range(-3,-1):\n",
    "# #     print(s_topmodel.layers[i+6].name, s_baseline.layers[i].name)\n",
    "#     s_topmodel.layers[i].set_weights(s_baseline.layers[i].get_weights())\n",
    "\n",
    "s_topmodel.compile(loss='categorical_crossentropy', optimizer=Adam(), metrics=['accuracy'])\n",
    "s_topmodel.summary()"
   ]
  },
  {
   "cell_type": "code",
   "execution_count": null,
   "metadata": {},
   "outputs": [],
   "source": [
    "s_s_baseline.predict(s_features, verbose=1)"
   ]
  },
  {
   "cell_type": "code",
   "execution_count": 97,
   "metadata": {},
   "outputs": [],
   "source": [
    "num_s_labels = [label_dict[k] for k in s_labels]\n",
    "num_sval_labels = [label_dict[k] for k in sval_labels]\n",
    "\n",
    "num_s_labels = keras.utils.to_categorical(num_s_labels, 31)\n",
    "num_sval_labels = keras.utils.to_categorical(num_sval_labels, 31)"
   ]
  },
  {
   "cell_type": "code",
   "execution_count": 63,
   "metadata": {},
   "outputs": [
    {
     "name": "stdout",
     "output_type": "stream",
     "text": [
      "239/239 [==============================] - 1s 2ms/step\n"
     ]
    },
    {
     "data": {
      "text/plain": [
       "[3.8848912067493138, 0.016736401673640166]"
      ]
     },
     "execution_count": 63,
     "metadata": {},
     "output_type": "execute_result"
    }
   ],
   "source": [
    "s_topmodel.evaluate(test_transformed_features, t_test_labels, verbose=1)"
   ]
  },
  {
   "cell_type": "code",
   "execution_count": 103,
   "metadata": {
    "scrolled": true
   },
   "outputs": [
    {
     "name": "stdout",
     "output_type": "stream",
     "text": [
      "Train on 444 samples, validate on 112 samples\n",
      "Epoch 1/100\n",
      "444/444 [==============================] - 5s 11ms/step - loss: 3.4720 - acc: 0.0766 - val_loss: 3.4648 - val_acc: 0.1964\n",
      "Epoch 2/100\n",
      "444/444 [==============================] - 1s 3ms/step - loss: 2.7700 - acc: 0.2635 - val_loss: 3.4457 - val_acc: 0.1875\n",
      "Epoch 3/100\n",
      "444/444 [==============================] - 1s 3ms/step - loss: 2.3718 - acc: 0.4775 - val_loss: 3.4148 - val_acc: 0.1786\n",
      "Epoch 4/100\n",
      "444/444 [==============================] - 1s 3ms/step - loss: 2.2357 - acc: 0.5811 - val_loss: 3.3853 - val_acc: 0.1607\n",
      "Epoch 5/100\n",
      "444/444 [==============================] - 1s 3ms/step - loss: 2.1100 - acc: 0.6194 - val_loss: 3.3777 - val_acc: 0.1518\n",
      "Epoch 6/100\n",
      "444/444 [==============================] - 1s 3ms/step - loss: 2.0194 - acc: 0.6847 - val_loss: 3.3709 - val_acc: 0.1607\n",
      "Epoch 7/100\n",
      "444/444 [==============================] - 1s 3ms/step - loss: 1.9245 - acc: 0.6824 - val_loss: 3.3714 - val_acc: 0.1607\n",
      "Epoch 8/100\n",
      "444/444 [==============================] - 1s 3ms/step - loss: 1.8698 - acc: 0.7162 - val_loss: 3.3756 - val_acc: 0.1518\n",
      "Epoch 9/100\n",
      "444/444 [==============================] - 1s 3ms/step - loss: 1.8268 - acc: 0.7162 - val_loss: 3.3415 - val_acc: 0.1339\n",
      "Epoch 10/100\n",
      "444/444 [==============================] - 1s 3ms/step - loss: 1.7599 - acc: 0.7523 - val_loss: 3.3380 - val_acc: 0.1339\n",
      "Epoch 11/100\n",
      "444/444 [==============================] - 1s 3ms/step - loss: 1.7134 - acc: 0.7545 - val_loss: 3.3471 - val_acc: 0.1429\n",
      "Epoch 12/100\n",
      "444/444 [==============================] - 1s 3ms/step - loss: 1.6676 - acc: 0.7590 - val_loss: 3.3660 - val_acc: 0.1339\n",
      "Epoch 13/100\n",
      "444/444 [==============================] - 1s 3ms/step - loss: 1.6457 - acc: 0.7658 - val_loss: 3.3742 - val_acc: 0.1250\n",
      "Epoch 14/100\n",
      "444/444 [==============================] - 1s 3ms/step - loss: 1.5612 - acc: 0.8243 - val_loss: 3.3702 - val_acc: 0.1161\n",
      "Epoch 15/100\n",
      "444/444 [==============================] - 1s 3ms/step - loss: 1.5591 - acc: 0.7703 - val_loss: 3.3754 - val_acc: 0.1071\n",
      "Epoch 16/100\n",
      "444/444 [==============================] - 1s 3ms/step - loss: 1.5063 - acc: 0.7973 - val_loss: 3.3655 - val_acc: 0.1071\n",
      "Epoch 17/100\n",
      "444/444 [==============================] - 1s 3ms/step - loss: 1.4494 - acc: 0.8356 - val_loss: 3.3654 - val_acc: 0.0982\n",
      "Epoch 18/100\n",
      "444/444 [==============================] - 1s 3ms/step - loss: 1.3948 - acc: 0.8356 - val_loss: 3.3490 - val_acc: 0.1161\n",
      "Epoch 19/100\n",
      "444/444 [==============================] - 1s 3ms/step - loss: 1.3741 - acc: 0.8176 - val_loss: 3.3400 - val_acc: 0.1250\n",
      "Epoch 20/100\n",
      "444/444 [==============================] - 1s 3ms/step - loss: 1.3626 - acc: 0.8198 - val_loss: 3.3329 - val_acc: 0.1518\n",
      "Epoch 21/100\n",
      "444/444 [==============================] - 1s 3ms/step - loss: 1.3463 - acc: 0.7883 - val_loss: 3.3163 - val_acc: 0.1429\n",
      "Epoch 22/100\n",
      "444/444 [==============================] - 1s 3ms/step - loss: 1.3113 - acc: 0.8063 - val_loss: 3.3102 - val_acc: 0.1518\n",
      "Epoch 23/100\n",
      "444/444 [==============================] - 1s 3ms/step - loss: 1.2738 - acc: 0.8311 - val_loss: 3.3142 - val_acc: 0.1518\n",
      "Epoch 24/100\n",
      "444/444 [==============================] - 1s 3ms/step - loss: 1.2416 - acc: 0.8243 - val_loss: 3.3039 - val_acc: 0.1518\n",
      "Epoch 25/100\n",
      "444/444 [==============================] - 1s 3ms/step - loss: 1.2076 - acc: 0.8311 - val_loss: 3.2859 - val_acc: 0.1518\n",
      "Epoch 26/100\n",
      "444/444 [==============================] - 1s 3ms/step - loss: 1.1926 - acc: 0.8401 - val_loss: 3.2864 - val_acc: 0.1607\n",
      "Epoch 27/100\n",
      "444/444 [==============================] - 1s 3ms/step - loss: 1.1842 - acc: 0.8333 - val_loss: 3.2725 - val_acc: 0.1518\n",
      "Epoch 28/100\n",
      "444/444 [==============================] - 1s 3ms/step - loss: 1.1922 - acc: 0.8176 - val_loss: 3.2603 - val_acc: 0.1696\n",
      "Epoch 29/100\n",
      "444/444 [==============================] - 1s 3ms/step - loss: 1.1013 - acc: 0.8311 - val_loss: 3.2361 - val_acc: 0.1429\n",
      "Epoch 30/100\n",
      "444/444 [==============================] - 1s 3ms/step - loss: 1.0724 - acc: 0.8491 - val_loss: 3.2552 - val_acc: 0.1696\n",
      "Epoch 31/100\n",
      "444/444 [==============================] - 1s 3ms/step - loss: 1.0816 - acc: 0.8446 - val_loss: 3.2424 - val_acc: 0.1696\n",
      "Epoch 32/100\n",
      "444/444 [==============================] - 1s 3ms/step - loss: 1.0238 - acc: 0.8694 - val_loss: 3.2355 - val_acc: 0.1875\n",
      "Epoch 33/100\n",
      "444/444 [==============================] - 1s 3ms/step - loss: 1.0376 - acc: 0.8604 - val_loss: 3.2444 - val_acc: 0.1786\n",
      "Epoch 34/100\n",
      "444/444 [==============================] - 1s 3ms/step - loss: 1.0093 - acc: 0.8649 - val_loss: 3.2462 - val_acc: 0.1518\n",
      "Epoch 35/100\n",
      "444/444 [==============================] - 1s 3ms/step - loss: 1.0045 - acc: 0.8581 - val_loss: 3.2563 - val_acc: 0.1607\n",
      "Epoch 36/100\n",
      "444/444 [==============================] - 1s 3ms/step - loss: 0.9957 - acc: 0.8423 - val_loss: 3.2447 - val_acc: 0.1875\n",
      "Epoch 37/100\n",
      "444/444 [==============================] - 1s 3ms/step - loss: 0.9731 - acc: 0.8536 - val_loss: 3.2499 - val_acc: 0.1696\n",
      "Epoch 38/100\n",
      "444/444 [==============================] - 1s 3ms/step - loss: 0.9402 - acc: 0.8581 - val_loss: 3.2338 - val_acc: 0.1696\n",
      "Epoch 39/100\n",
      "444/444 [==============================] - 1s 3ms/step - loss: 0.9284 - acc: 0.8581 - val_loss: 3.2091 - val_acc: 0.1429\n",
      "Epoch 40/100\n",
      "444/444 [==============================] - 1s 3ms/step - loss: 0.9368 - acc: 0.8514 - val_loss: 3.1710 - val_acc: 0.1429\n",
      "Epoch 41/100\n",
      "444/444 [==============================] - 1s 3ms/step - loss: 0.8924 - acc: 0.8806 - val_loss: 3.1503 - val_acc: 0.1518\n",
      "Epoch 42/100\n",
      "444/444 [==============================] - 1s 3ms/step - loss: 0.8865 - acc: 0.8694 - val_loss: 3.1462 - val_acc: 0.1339\n",
      "Epoch 43/100\n",
      "444/444 [==============================] - 1s 3ms/step - loss: 0.8568 - acc: 0.8851 - val_loss: 3.1513 - val_acc: 0.1518\n",
      "Epoch 44/100\n",
      "444/444 [==============================] - 1s 3ms/step - loss: 0.8869 - acc: 0.8649 - val_loss: 3.1470 - val_acc: 0.1518\n",
      "Epoch 45/100\n",
      "444/444 [==============================] - 1s 3ms/step - loss: 0.8418 - acc: 0.8806 - val_loss: 3.1602 - val_acc: 0.1429\n",
      "Epoch 46/100\n",
      "444/444 [==============================] - 1s 3ms/step - loss: 0.8707 - acc: 0.8514 - val_loss: 3.1281 - val_acc: 0.1429\n",
      "Epoch 47/100\n",
      "444/444 [==============================] - 1s 3ms/step - loss: 0.8778 - acc: 0.8536 - val_loss: 3.1248 - val_acc: 0.1250\n",
      "Epoch 48/100\n",
      "444/444 [==============================] - 1s 3ms/step - loss: 0.8054 - acc: 0.8761 - val_loss: 3.1220 - val_acc: 0.1339\n",
      "Epoch 49/100\n",
      "444/444 [==============================] - 1s 3ms/step - loss: 0.7669 - acc: 0.8784 - val_loss: 3.1310 - val_acc: 0.1518\n",
      "Epoch 50/100\n",
      "444/444 [==============================] - 1s 3ms/step - loss: 0.8351 - acc: 0.8491 - val_loss: 3.1530 - val_acc: 0.1429\n",
      "Epoch 51/100\n",
      "444/444 [==============================] - 1s 3ms/step - loss: 0.7891 - acc: 0.8964 - val_loss: 3.1400 - val_acc: 0.1607\n",
      "Epoch 52/100\n",
      "444/444 [==============================] - 1s 3ms/step - loss: 0.7703 - acc: 0.8739 - val_loss: 3.1186 - val_acc: 0.1339\n",
      "Epoch 53/100\n",
      "444/444 [==============================] - 1s 3ms/step - loss: 0.8004 - acc: 0.8671 - val_loss: 3.1254 - val_acc: 0.1250\n",
      "Epoch 54/100\n",
      "444/444 [==============================] - 1s 3ms/step - loss: 0.7546 - acc: 0.8694 - val_loss: 3.1483 - val_acc: 0.1339\n",
      "Epoch 55/100\n",
      "444/444 [==============================] - 1s 3ms/step - loss: 0.7532 - acc: 0.8649 - val_loss: 3.1572 - val_acc: 0.1429\n",
      "Epoch 56/100\n",
      "444/444 [==============================] - 1s 3ms/step - loss: 0.7013 - acc: 0.8874 - val_loss: 3.1667 - val_acc: 0.1696\n",
      "Epoch 57/100\n",
      "444/444 [==============================] - 1s 3ms/step - loss: 0.7195 - acc: 0.8851 - val_loss: 3.1855 - val_acc: 0.1696\n",
      "Epoch 58/100\n",
      "444/444 [==============================] - 1s 3ms/step - loss: 0.7233 - acc: 0.8761 - val_loss: 3.1445 - val_acc: 0.1518\n",
      "Epoch 59/100\n",
      "444/444 [==============================] - 1s 3ms/step - loss: 0.6782 - acc: 0.8986 - val_loss: 3.1436 - val_acc: 0.1696\n",
      "Epoch 60/100\n",
      "444/444 [==============================] - 1s 3ms/step - loss: 0.7403 - acc: 0.8649 - val_loss: 3.1322 - val_acc: 0.1786\n",
      "Epoch 61/100\n",
      "444/444 [==============================] - 1s 3ms/step - loss: 0.7082 - acc: 0.8694 - val_loss: 3.1274 - val_acc: 0.1696\n"
     ]
    },
    {
     "name": "stdout",
     "output_type": "stream",
     "text": [
      "Epoch 62/100\n",
      "444/444 [==============================] - 1s 3ms/step - loss: 0.6539 - acc: 0.9009 - val_loss: 3.1480 - val_acc: 0.1607\n",
      "Epoch 63/100\n",
      "444/444 [==============================] - 1s 3ms/step - loss: 0.6890 - acc: 0.8716 - val_loss: 3.1516 - val_acc: 0.1607\n",
      "Epoch 64/100\n",
      "444/444 [==============================] - 1s 3ms/step - loss: 0.6625 - acc: 0.8896 - val_loss: 3.1376 - val_acc: 0.1696\n",
      "Epoch 65/100\n",
      "444/444 [==============================] - 1s 3ms/step - loss: 0.6753 - acc: 0.8851 - val_loss: 3.1416 - val_acc: 0.1786\n",
      "Epoch 66/100\n",
      "444/444 [==============================] - 1s 3ms/step - loss: 0.6461 - acc: 0.8851 - val_loss: 3.1453 - val_acc: 0.1696\n",
      "Epoch 67/100\n",
      "444/444 [==============================] - 1s 3ms/step - loss: 0.6426 - acc: 0.8874 - val_loss: 3.1065 - val_acc: 0.1696\n",
      "Epoch 68/100\n",
      "444/444 [==============================] - 1s 3ms/step - loss: 0.6559 - acc: 0.8716 - val_loss: 3.1150 - val_acc: 0.1250\n",
      "Epoch 69/100\n",
      "444/444 [==============================] - 1s 3ms/step - loss: 0.6367 - acc: 0.9077 - val_loss: 3.1476 - val_acc: 0.1696\n",
      "Epoch 70/100\n",
      "444/444 [==============================] - 1s 3ms/step - loss: 0.6292 - acc: 0.8784 - val_loss: 3.1632 - val_acc: 0.1786\n",
      "Epoch 71/100\n",
      "444/444 [==============================] - 1s 3ms/step - loss: 0.6172 - acc: 0.8919 - val_loss: 3.1526 - val_acc: 0.1696\n",
      "Epoch 72/100\n",
      "444/444 [==============================] - 1s 3ms/step - loss: 0.6150 - acc: 0.8829 - val_loss: 3.1224 - val_acc: 0.1429\n",
      "Epoch 73/100\n",
      "444/444 [==============================] - 1s 3ms/step - loss: 0.6213 - acc: 0.8941 - val_loss: 3.0990 - val_acc: 0.1518\n",
      "Epoch 74/100\n",
      "444/444 [==============================] - 1s 3ms/step - loss: 0.5955 - acc: 0.9099 - val_loss: 3.1076 - val_acc: 0.1696\n",
      "Epoch 75/100\n",
      "444/444 [==============================] - 1s 3ms/step - loss: 0.5651 - acc: 0.9032 - val_loss: 3.0917 - val_acc: 0.1696\n",
      "Epoch 76/100\n",
      "444/444 [==============================] - 1s 3ms/step - loss: 0.6235 - acc: 0.8739 - val_loss: 3.1048 - val_acc: 0.1607\n",
      "Epoch 77/100\n",
      "444/444 [==============================] - 1s 3ms/step - loss: 0.6119 - acc: 0.8694 - val_loss: 3.1493 - val_acc: 0.1696\n",
      "Epoch 78/100\n",
      "444/444 [==============================] - 1s 3ms/step - loss: 0.5837 - acc: 0.9099 - val_loss: 3.1555 - val_acc: 0.1607\n",
      "Epoch 79/100\n",
      "444/444 [==============================] - 1s 3ms/step - loss: 0.5364 - acc: 0.9122 - val_loss: 3.1480 - val_acc: 0.1518\n",
      "Epoch 80/100\n",
      "444/444 [==============================] - 1s 3ms/step - loss: 0.5842 - acc: 0.8874 - val_loss: 3.1542 - val_acc: 0.1429\n",
      "Epoch 81/100\n",
      "444/444 [==============================] - 1s 3ms/step - loss: 0.5606 - acc: 0.9032 - val_loss: 3.1557 - val_acc: 0.1518\n",
      "Epoch 82/100\n",
      "444/444 [==============================] - 1s 3ms/step - loss: 0.6137 - acc: 0.8671 - val_loss: 3.1386 - val_acc: 0.1786\n",
      "Epoch 83/100\n",
      "444/444 [==============================] - 1s 3ms/step - loss: 0.5665 - acc: 0.8986 - val_loss: 3.1372 - val_acc: 0.1696\n",
      "Epoch 84/100\n",
      "444/444 [==============================] - 1s 3ms/step - loss: 0.5382 - acc: 0.8964 - val_loss: 3.1304 - val_acc: 0.1964\n",
      "Epoch 85/100\n",
      "444/444 [==============================] - 1s 3ms/step - loss: 0.5426 - acc: 0.9009 - val_loss: 3.1498 - val_acc: 0.1964\n",
      "Epoch 86/100\n",
      "444/444 [==============================] - 1s 3ms/step - loss: 0.5832 - acc: 0.8874 - val_loss: 3.1375 - val_acc: 0.1696\n",
      "Epoch 87/100\n",
      "444/444 [==============================] - 1s 3ms/step - loss: 0.5588 - acc: 0.8851 - val_loss: 3.1260 - val_acc: 0.1875\n",
      "Epoch 88/100\n",
      "444/444 [==============================] - 1s 3ms/step - loss: 0.5612 - acc: 0.8851 - val_loss: 3.1636 - val_acc: 0.1875\n",
      "Epoch 89/100\n",
      "444/444 [==============================] - 1s 3ms/step - loss: 0.5220 - acc: 0.8919 - val_loss: 3.1449 - val_acc: 0.1696\n",
      "Epoch 90/100\n",
      "444/444 [==============================] - 1s 3ms/step - loss: 0.5680 - acc: 0.8964 - val_loss: 3.1212 - val_acc: 0.1518\n",
      "Epoch 91/100\n",
      "444/444 [==============================] - 1s 3ms/step - loss: 0.5277 - acc: 0.8806 - val_loss: 3.1214 - val_acc: 0.1339\n",
      "Epoch 92/100\n",
      "444/444 [==============================] - 1s 3ms/step - loss: 0.5525 - acc: 0.9032 - val_loss: 3.1480 - val_acc: 0.1518\n",
      "Epoch 93/100\n",
      "444/444 [==============================] - 1s 3ms/step - loss: 0.5298 - acc: 0.9009 - val_loss: 3.1661 - val_acc: 0.1607\n",
      "Epoch 94/100\n",
      "444/444 [==============================] - 1s 3ms/step - loss: 0.5437 - acc: 0.8896 - val_loss: 3.1457 - val_acc: 0.1339\n",
      "Epoch 95/100\n",
      "444/444 [==============================] - 1s 3ms/step - loss: 0.5297 - acc: 0.8829 - val_loss: 3.1620 - val_acc: 0.1429\n",
      "Epoch 96/100\n",
      "444/444 [==============================] - 1s 3ms/step - loss: 0.5088 - acc: 0.9122 - val_loss: 3.1728 - val_acc: 0.1518\n",
      "Epoch 97/100\n",
      "444/444 [==============================] - 1s 3ms/step - loss: 0.5481 - acc: 0.8851 - val_loss: 3.1242 - val_acc: 0.1339\n",
      "Epoch 98/100\n",
      "444/444 [==============================] - 1s 3ms/step - loss: 0.5192 - acc: 0.9009 - val_loss: 3.1065 - val_acc: 0.1339\n",
      "Epoch 99/100\n",
      "444/444 [==============================] - 1s 3ms/step - loss: 0.4896 - acc: 0.9009 - val_loss: 3.1405 - val_acc: 0.1250\n",
      "Epoch 100/100\n",
      "444/444 [==============================] - 1s 3ms/step - loss: 0.5087 - acc: 0.8874 - val_loss: 3.1374 - val_acc: 0.1161\n",
      "exe time:  149.4117968082428\n"
     ]
    }
   ],
   "source": [
    "mcp = ModelCheckpoint('/data/Quan/tf_models/webcam/amazon_2inputs_classifier_model.hdf5', monitor='val_acc', \n",
    "                      save_best_only=True, save_weights_only=False)\n",
    "\n",
    "start = time.time()\n",
    "history = s_topmodel.fit(transformed_features, num_s_labels[:444], batch_size=32, epochs=100,\n",
    "               validation_data=(val_transformed_features, num_sval_labels[:112]), verbose=1, callbacks=[mcp])\n",
    "\n",
    "with open('/data/Quan/tf_models/webcam/amazon_2inputs_classifier_history.hdf5', 'wb') as dt:\n",
    "    pickle.dump(history, dt)\n",
    "    \n",
    "exe_time = time.time() - start\n",
    "\n",
    "print('exe time: ', exe_time)"
   ]
  },
  {
   "cell_type": "code",
   "execution_count": 104,
   "metadata": {},
   "outputs": [
    {
     "data": {
      "image/png": "[encoded data removed]",
      "text/plain": [
       "<Figure size 432x288 with 1 Axes>"
      ]
     },
     "metadata": {
      "needs_background": "light"
     },
     "output_type": "display_data"
    },
    {
     "data": {
      "image/png": "[encoded data removed]",
      "text/plain": [
       "<Figure size 432x288 with 1 Axes>"
      ]
     },
     "metadata": {
      "needs_background": "light"
     },
     "output_type": "display_data"
    }
   ],
   "source": [
    "%matplotlib inline\n",
    "plt.plot(history.history['acc'], label='acc')\n",
    "plt.plot(history.history['val_acc'], label='val_acc')\n",
    "plt.legend()\n",
    "plt.show()\n",
    "\n",
    "plt.plot(history.history['loss'], label='loss')\n",
    "plt.plot(history.history['val_loss'], label='val_loss')\n",
    "plt.legend()\n",
    "plt.show()"
   ]
  },
  {
   "cell_type": "code",
   "execution_count": null,
   "metadata": {},
   "outputs": [],
   "source": []
  }
 ],
 "metadata": {
  "kernelspec": {
   "display_name": "Python 3",
   "language": "python",
   "name": "python3"
  },
  "language_info": {
   "codemirror_mode": {
    "name": "ipython",
    "version": 3
   },
   "file_extension": ".py",
   "mimetype": "text/x-python",
   "name": "python",
   "nbconvert_exporter": "python",
   "pygments_lexer": "ipython3",
   "version": "3.5.2"
  }
 },
 "nbformat": 4,
 "nbformat_minor": 2
}
