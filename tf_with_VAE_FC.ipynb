{
 "cells": [
  {
   "cell_type": "code",
   "execution_count": 1,
   "metadata": {},
   "outputs": [
    {
     "name": "stdout",
     "output_type": "stream",
     "text": [
      "[[22. 28.]\n",
      " [49. 64.]]\n"
     ]
    }
   ],
   "source": [
    "import zipfile\n",
    "import tensorflow as tf\n",
    "import os\n",
    "\n",
    "os.environ[\"CUDA_VISIBLE_DEVICES\"]=\"0\"\n",
    "with tf.device('/gpu:0'):\n",
    "    a = tf.constant([1.0, 2.0, 3.0, 4.0, 5.0, 6.0], shape=[2, 3], name='a')\n",
    "    b = tf.constant([1.0, 2.0, 3.0, 4.0, 5.0, 6.0], shape=[3, 2], name='b')\n",
    "    c = tf.matmul(a, b)\n",
    "config = tf.ConfigProto()\n",
    "config.gpu_options.allow_growth = True\n",
    "session = tf.Session(config=config)\n",
    "print (session.run(c))"
   ]
  },
  {
   "cell_type": "code",
   "execution_count": 2,
   "metadata": {},
   "outputs": [
    {
     "name": "stderr",
     "output_type": "stream",
     "text": [
      "Using TensorFlow backend.\n"
     ]
    }
   ],
   "source": [
    "from keras.layers import *\n",
    "from keras.models import *\n",
    "from keras.preprocessing.image import ImageDataGenerator\n",
    "from keras.losses import *\n",
    "from keras.optimizers import *\n",
    "from keras.callbacks import *\n",
    "from keras.regularizers import *\n",
    "import time\n",
    "import pickle\n",
    "import matplotlib.pyplot as plt\n",
    "import keras.backend as K\n",
    "from skimage.io import imread\n",
    "from skimage.transform import resize\n",
    "\n",
    "from keras.applications.densenet import DenseNet201, preprocess_input"
   ]
  },
  {
   "cell_type": "code",
   "execution_count": 19,
   "metadata": {},
   "outputs": [
    {
     "ename": "NameError",
     "evalue": "name 'decoder' is not defined",
     "output_type": "error",
     "traceback": [
      "\u001b[0;31m---------------------------------------------------------------------------\u001b[0m",
      "\u001b[0;31mNameError\u001b[0m                                 Traceback (most recent call last)",
      "\u001b[0;32m<ipython-input-19-d462cecbd81f>\u001b[0m in \u001b[0;36m<module>\u001b[0;34m\u001b[0m\n\u001b[1;32m      1\u001b[0m \u001b[0;32mdel\u001b[0m\u001b[0;34m(\u001b[0m\u001b[0mencoder\u001b[0m\u001b[0;34m)\u001b[0m\u001b[0;34m\u001b[0m\u001b[0m\n\u001b[0;32m----> 2\u001b[0;31m \u001b[0;32mdel\u001b[0m\u001b[0;34m(\u001b[0m\u001b[0mdecoder\u001b[0m\u001b[0;34m)\u001b[0m\u001b[0;34m\u001b[0m\u001b[0m\n\u001b[0m\u001b[1;32m      3\u001b[0m \u001b[0;32mdel\u001b[0m\u001b[0;34m(\u001b[0m\u001b[0mvae\u001b[0m\u001b[0;34m)\u001b[0m\u001b[0;34m\u001b[0m\u001b[0m\n",
      "\u001b[0;31mNameError\u001b[0m: name 'decoder' is not defined"
     ]
    }
   ],
   "source": [
    "del(encoder)\n",
    "del(decoder)\n",
    "del(vae)"
   ]
  },
  {
   "cell_type": "code",
   "execution_count": 10,
   "metadata": {},
   "outputs": [
    {
     "data": {
      "text/plain": [
       "<tf.Tensor 'Mean:0' shape=(?,) dtype=float32>"
      ]
     },
     "execution_count": 10,
     "metadata": {},
     "output_type": "execute_result"
    }
   ],
   "source": [
    "binary_crossentropy(x, x_decoded_mean)"
   ]
  },
  {
   "cell_type": "code",
   "execution_count": 14,
   "metadata": {},
   "outputs": [
    {
     "data": {
      "text/plain": [
       "<tf.Tensor 'sub_9:0' shape=(?, 64) dtype=float32>"
      ]
     },
     "execution_count": 14,
     "metadata": {},
     "output_type": "execute_result"
    }
   ],
   "source": [
    "1 + z_log_sigma - K.square(z_mean) - K.exp(z_log_sigma)"
   ]
  },
  {
   "cell_type": "code",
   "execution_count": 11,
   "metadata": {
    "scrolled": true
   },
   "outputs": [
    {
     "name": "stdout",
     "output_type": "stream",
     "text": [
      "__________________________________________________________________________________________________\n",
      "Layer (type)                    Output Shape         Param #     Connected to                     \n",
      "==================================================================================================\n",
      "input (InputLayer)              (None, 238464)       0                                            \n",
      "__________________________________________________________________________________________________\n",
      "h (Dense)                       (None, 256)          61047040    input[0][0]                      \n",
      "__________________________________________________________________________________________________\n",
      "z_mean (Dense)                  (None, 64)           16448       h[0][0]                          \n",
      "__________________________________________________________________________________________________\n",
      "z_log_sigma (Dense)             (None, 64)           16448       h[0][0]                          \n",
      "__________________________________________________________________________________________________\n",
      "lambda_sampling (Lambda)        (None, 64)           0           z_mean[0][0]                     \n",
      "                                                                 z_log_sigma[0][0]                \n",
      "__________________________________________________________________________________________________\n",
      "decoder_h (Dense)               (None, 256)          16640       lambda_sampling[0][0]            \n",
      "__________________________________________________________________________________________________\n",
      "decoder_mean (Dense)            (None, 238464)       61285248    decoder_h[0][0]                  \n",
      "==================================================================================================\n",
      "Total params: 122,381,824\n",
      "Trainable params: 122,381,824\n",
      "Non-trainable params: 0\n",
      "__________________________________________________________________________________________________\n"
     ]
    }
   ],
   "source": [
    "def sampling(args):\n",
    "    z_mean, z_log_sigma = args\n",
    "    epsilon = K.random_normal(shape=(64,))\n",
    "    out = z_mean + K.exp(z_log_sigma) * epsilon\n",
    "    return out\n",
    "\n",
    "def vae_loss(x, x_decoded_mean):\n",
    "    xent_loss = binary_crossentropy(x, x_decoded_mean)\n",
    "    kl_loss = -0.5 * K.mean(1 + z_log_sigma - K.square(z_mean) - K.exp(z_log_sigma), axis=-1)\n",
    "    return xent_loss + kl_loss\n",
    "\n",
    "\n",
    "latent_dim=64\n",
    "input_shape= 18*18*736\n",
    "batch_size=32\n",
    "\n",
    "x = Input(shape=(input_shape,), name='input')\n",
    "\n",
    "h = Dense(256, activation='relu', name='h')(x)\n",
    "\n",
    "z_mean = Dense(latent_dim, name='z_mean')(h)\n",
    "z_log_sigma = Dense(latent_dim, name='z_log_sigma')(h)\n",
    "\n",
    "z = Lambda(sampling, name='lambda_sampling')([z_mean,z_log_sigma])\n",
    "\n",
    "decoder_h = Dense(256, activation='relu', name='decoder_h')\n",
    "decoder_mean = Dense(18*18*736, activation='sigmoid', name='decoder_mean')\n",
    "\n",
    "h_decoded = decoder_h(z)\n",
    "x_decoded_mean = decoder_mean(h_decoded)\n",
    "\n",
    "vae = Model(x, x_decoded_mean)\n",
    "encoder = Model(x, z_mean)\n",
    "\n",
    "decoder_input = Input(shape=(64,))\n",
    "_h_decoded = decoder_h(decoder_input)\n",
    "_x_decoded_mean = decoder_mean(_h_decoded)\n",
    "generator = Model(decoder_input, _x_decoded_mean)\n",
    "\n",
    "vae.compile(optimizer='rmsprop', loss=vae_loss)\n",
    "vae.summary()"
   ]
  },
  {
   "cell_type": "code",
   "execution_count": 8,
   "metadata": {},
   "outputs": [
    {
     "name": "stdout",
     "output_type": "stream",
     "text": [
      "Found 444 images belonging to 31 classes.\n",
      "Found 112 images belonging to 31 classes.\n",
      "Found 239 images belonging to 31 classes.\n"
     ]
    }
   ],
   "source": [
    "import os\n",
    "from keras.preprocessing.image import ImageDataGenerator\n",
    "\n",
    "batch_size = 32\n",
    "\n",
    "train_datagen = ImageDataGenerator(rescale=1./255)\n",
    "test_datagen = ImageDataGenerator(rescale=1./255)\n",
    "\n",
    "root_path = '/data/Quan/datasets/webcam'\n",
    "train_generator = train_datagen.flow_from_directory(os.path.join(root_path, 'images'), \n",
    "                                                    class_mode='categorical', \n",
    "                                                    target_size=(300,300), \n",
    "                                                    batch_size=batch_size, \n",
    "                                                    shuffle=True)\n",
    "\n",
    "validation_generator = test_datagen.flow_from_directory(os.path.join(root_path, 'val_images'), \n",
    "                                                        class_mode='categorical', \n",
    "                                                        target_size=(300,300), \n",
    "                                                        batch_size=batch_size, \n",
    "                                                        shuffle=False)\n",
    "\n",
    "test_generator = test_datagen.flow_from_directory(os.path.join(root_path, 'test_images'), \n",
    "                                                        class_mode='categorical', \n",
    "                                                        target_size=(300,300), \n",
    "                                                        batch_size=1, \n",
    "                                                        shuffle=False)\n",
    "\n",
    "label_dict = test_generator.class_indices"
   ]
  },
  {
   "cell_type": "code",
   "execution_count": 5,
   "metadata": {},
   "outputs": [],
   "source": [
    "with open('/data/Quan/tf_models/amazon/extracted_features.hdf5', 'rb') as dt:\n",
    "    s_labels, s_features = pickle.load(dt)\n",
    "    \n",
    "with open('/data/Quan/tf_models/amazon/val_extracted_features.hdf5', 'rb') as dt:\n",
    "    sval_labels, sval_features = pickle.load(dt)\n",
    "    \n",
    "with open('/data/Quan/tf_models/webcam/extracted_features.hdf5', 'rb') as dt:\n",
    "    t_labels, t_features = pickle.load(dt)\n",
    "    \n",
    "with open('/data/Quan/tf_models/webcam/val_extracted_features.hdf5', 'rb') as dt:\n",
    "    tval_labels, tval_features = pickle.load(dt)\n",
    "\n",
    "with open('/data/Quan/tf_models/webcam/t_test_features.hdf5', 'rb') as dt:\n",
    "    ttest_labels, ttest_features = pickle.load(dt)\n",
    "\n",
    "# s_labels = [k.split('/')[-2] for k in s_labels]\n",
    "# sval_labels = [k.split('/')[-2] for k in sval_labels]\n",
    "\n",
    "t_labels = [k.split('/')[-2] for k in t_labels]\n",
    "tval_labels = [k.split('/')[-2] for k in tval_labels]\n",
    "    \n",
    "# s_features.shape, sval_features.shape, t_features.shape"
   ]
  },
  {
   "cell_type": "code",
   "execution_count": 6,
   "metadata": {},
   "outputs": [
    {
     "data": {
      "text/plain": [
       "((1576, 238464), (395, 238464))"
      ]
     },
     "execution_count": 6,
     "metadata": {},
     "output_type": "execute_result"
    }
   ],
   "source": [
    "s_features = s_features.reshape(len(s_features), 18*18*736)\n",
    "sval_features = sval_features.reshape(len(sval_features), 18*18*736)\n",
    "\n",
    "s_features.shape, sval_features.shape"
   ]
  },
  {
   "cell_type": "markdown",
   "metadata": {},
   "source": [
    "## Amazon"
   ]
  },
  {
   "cell_type": "code",
   "execution_count": null,
   "metadata": {
    "scrolled": true
   },
   "outputs": [
    {
     "name": "stdout",
     "output_type": "stream",
     "text": [
      "Train on 1576 samples, validate on 395 samples\n",
      "Epoch 1/100\n",
      "1576/1576 [==============================] - 6s 4ms/step - loss: nan - val_loss: nan\n",
      "Epoch 2/100\n",
      "1576/1576 [==============================] - 4s 3ms/step - loss: nan - val_loss: nan\n",
      "Epoch 3/100\n",
      "1576/1576 [==============================] - 4s 3ms/step - loss: nan - val_loss: nan\n",
      "Epoch 4/100\n",
      "1576/1576 [==============================] - 4s 3ms/step - loss: nan - val_loss: nan\n",
      "Epoch 5/100\n",
      "1576/1576 [==============================] - 4s 3ms/step - loss: nan - val_loss: nan\n",
      "Epoch 6/100\n",
      "1576/1576 [==============================] - 4s 3ms/step - loss: nan - val_loss: nan\n",
      "Epoch 7/100\n",
      "1576/1576 [==============================] - 4s 3ms/step - loss: nan - val_loss: nan\n",
      "Epoch 8/100\n",
      "1576/1576 [==============================] - 4s 3ms/step - loss: nan - val_loss: nan\n",
      "Epoch 9/100\n",
      "1576/1576 [==============================] - 4s 3ms/step - loss: nan - val_loss: nan\n",
      "Epoch 10/100\n",
      "1576/1576 [==============================] - 4s 3ms/step - loss: nan - val_loss: nan\n",
      "Epoch 11/100\n",
      "1576/1576 [==============================] - 4s 3ms/step - loss: nan - val_loss: nan\n",
      "Epoch 12/100\n",
      "1576/1576 [==============================] - 4s 3ms/step - loss: nan - val_loss: nan\n",
      "Epoch 13/100\n",
      "1576/1576 [==============================] - 4s 3ms/step - loss: nan - val_loss: nan\n",
      "Epoch 14/100\n",
      "1576/1576 [==============================] - 4s 3ms/step - loss: nan - val_loss: nan\n",
      "Epoch 15/100\n",
      "1576/1576 [==============================] - 4s 3ms/step - loss: nan - val_loss: nan\n",
      "Epoch 16/100\n",
      "1576/1576 [==============================] - 4s 3ms/step - loss: nan - val_loss: nan\n",
      "Epoch 17/100\n",
      "1576/1576 [==============================] - 4s 3ms/step - loss: nan - val_loss: nan\n",
      "Epoch 18/100\n",
      "1576/1576 [==============================] - 4s 3ms/step - loss: nan - val_loss: nan\n",
      "Epoch 19/100\n",
      "1576/1576 [==============================] - 4s 3ms/step - loss: nan - val_loss: nan\n",
      "Epoch 20/100\n",
      "1576/1576 [==============================] - 4s 3ms/step - loss: nan - val_loss: nan\n",
      "Epoch 21/100\n",
      "1576/1576 [==============================] - 4s 3ms/step - loss: nan - val_loss: nan\n",
      "Epoch 22/100\n",
      "1576/1576 [==============================] - 4s 3ms/step - loss: nan - val_loss: nan\n",
      "Epoch 23/100\n",
      "1576/1576 [==============================] - 4s 3ms/step - loss: nan - val_loss: nan\n",
      "Epoch 24/100\n",
      "1576/1576 [==============================] - 4s 3ms/step - loss: nan - val_loss: nan\n",
      "Epoch 25/100\n",
      "1576/1576 [==============================] - 4s 3ms/step - loss: nan - val_loss: nan\n",
      "Epoch 26/100\n",
      "1576/1576 [==============================] - 4s 3ms/step - loss: nan - val_loss: nan\n",
      "Epoch 27/100\n",
      "1576/1576 [==============================] - 4s 3ms/step - loss: nan - val_loss: nan\n",
      "Epoch 28/100\n",
      " 384/1576 [======>.......................] - ETA: 2s - loss: nan"
     ]
    }
   ],
   "source": [
    "batch_size=32\n",
    "mcp = ModelCheckpoint('/data/Quan/tf_models/amazon/vae_fc_model.hdf5', monitor='val_loss', \n",
    "                      save_best_only=True, save_weights_only=False)\n",
    "\n",
    "start = time.time()\n",
    "history = vae.fit(s_features, s_features, batch_size=batch_size, epochs=100, \n",
    "          validation_data=(sval_features, sval_features), callbacks=[mcp], verbose=1)\n",
    "\n",
    "exe_time = time.time() - start\n",
    "\n",
    "print('exe time: ', exe_time)\n",
    "with open('/data/Quan/tf_models/amazon/vae_fc_history.hdf5', 'wb') as dt:\n",
    "    pickle.dump(history.history, dt)\n",
    "    "
   ]
  },
  {
   "cell_type": "code",
   "execution_count": 7,
   "metadata": {
    "scrolled": true
   },
   "outputs": [
    {
     "data": {
      "image/png": "[encoded data removed]",
      "text/plain": [
       "<Figure size 432x288 with 1 Axes>"
      ]
     },
     "metadata": {
      "needs_background": "light"
     },
     "output_type": "display_data"
    }
   ],
   "source": [
    "plt.plot(history.history['loss'], label='loss')\n",
    "plt.plot(history.history['val_loss'], label='val_loss')\n",
    "plt.legend()\n",
    "plt.title('Conv VAE Amazon')\n",
    "plt.show()"
   ]
  },
  {
   "cell_type": "markdown",
   "metadata": {},
   "source": [
    "## Webcam"
   ]
  },
  {
   "cell_type": "code",
   "execution_count": 8,
   "metadata": {
    "scrolled": true
   },
   "outputs": [
    {
     "name": "stdout",
     "output_type": "stream",
     "text": [
      "Train on 444 samples, validate on 112 samples\n",
      "Epoch 1/100\n",
      "444/444 [==============================] - 1s 2ms/step - loss: 0.0683 - val_loss: -0.2721\n",
      "Epoch 2/100\n",
      "444/444 [==============================] - 1s 2ms/step - loss: 0.0092 - val_loss: -0.3134\n",
      "Epoch 3/100\n",
      "444/444 [==============================] - 1s 2ms/step - loss: -0.1594 - val_loss: -0.3682\n",
      "Epoch 4/100\n",
      "444/444 [==============================] - 1s 2ms/step - loss: -0.2736 - val_loss: -0.3851\n",
      "Epoch 5/100\n",
      "444/444 [==============================] - 1s 2ms/step - loss: -0.3460 - val_loss: -0.3599\n",
      "Epoch 6/100\n",
      "444/444 [==============================] - 1s 2ms/step - loss: -0.4060 - val_loss: -0.3065\n",
      "Epoch 7/100\n",
      "444/444 [==============================] - 1s 2ms/step - loss: -0.4334 - val_loss: -0.2791\n",
      "Epoch 8/100\n",
      "444/444 [==============================] - 1s 2ms/step - loss: -0.4890 - val_loss: -0.2823\n",
      "Epoch 9/100\n",
      "444/444 [==============================] - 1s 2ms/step - loss: -0.5039 - val_loss: -0.2616\n",
      "Epoch 10/100\n",
      "444/444 [==============================] - 1s 2ms/step - loss: -0.5582 - val_loss: -0.3229\n",
      "Epoch 11/100\n",
      "444/444 [==============================] - 1s 2ms/step - loss: -0.5844 - val_loss: -0.3990\n",
      "Epoch 12/100\n",
      "444/444 [==============================] - 1s 2ms/step - loss: -0.6511 - val_loss: -0.4683\n",
      "Epoch 13/100\n",
      "444/444 [==============================] - 1s 2ms/step - loss: -0.6806 - val_loss: -0.4519\n",
      "Epoch 14/100\n",
      "444/444 [==============================] - 1s 2ms/step - loss: -0.7200 - val_loss: -0.5080\n",
      "Epoch 15/100\n",
      "444/444 [==============================] - 1s 2ms/step - loss: -0.7471 - val_loss: -0.5172\n",
      "Epoch 16/100\n",
      "444/444 [==============================] - 1s 2ms/step - loss: -0.7212 - val_loss: -0.4616\n",
      "Epoch 17/100\n",
      "444/444 [==============================] - 1s 2ms/step - loss: -0.6874 - val_loss: -0.4010\n",
      "Epoch 18/100\n",
      "444/444 [==============================] - 1s 2ms/step - loss: -0.6947 - val_loss: -0.4426\n",
      "Epoch 19/100\n",
      "444/444 [==============================] - 1s 2ms/step - loss: -0.7043 - val_loss: -0.5065\n",
      "Epoch 20/100\n",
      "444/444 [==============================] - 1s 2ms/step - loss: -0.7494 - val_loss: -0.5281\n",
      "Epoch 21/100\n",
      "444/444 [==============================] - 1s 2ms/step - loss: -0.7840 - val_loss: -0.5332\n",
      "Epoch 22/100\n",
      "444/444 [==============================] - 1s 2ms/step - loss: -0.8147 - val_loss: -0.5441\n",
      "Epoch 23/100\n",
      "444/444 [==============================] - 1s 2ms/step - loss: -0.8147 - val_loss: -0.5352\n",
      "Epoch 24/100\n",
      "444/444 [==============================] - 1s 2ms/step - loss: -0.8340 - val_loss: -0.5832\n",
      "Epoch 25/100\n",
      "444/444 [==============================] - 1s 2ms/step - loss: -0.8622 - val_loss: -0.6250\n",
      "Epoch 26/100\n",
      "444/444 [==============================] - 1s 2ms/step - loss: -0.8712 - val_loss: -0.6486\n",
      "Epoch 27/100\n",
      "444/444 [==============================] - 1s 2ms/step - loss: -0.8891 - val_loss: -0.6793\n",
      "Epoch 28/100\n",
      "444/444 [==============================] - 1s 2ms/step - loss: -0.8801 - val_loss: -0.7130\n",
      "Epoch 29/100\n",
      "444/444 [==============================] - 1s 2ms/step - loss: -0.9059 - val_loss: -0.7166\n",
      "Epoch 30/100\n",
      "444/444 [==============================] - 1s 2ms/step - loss: -0.9212 - val_loss: -0.7229\n",
      "Epoch 31/100\n",
      "444/444 [==============================] - 1s 2ms/step - loss: -0.9245 - val_loss: -0.7583\n",
      "Epoch 32/100\n",
      "444/444 [==============================] - 1s 2ms/step - loss: -0.9484 - val_loss: -0.7886\n",
      "Epoch 33/100\n",
      "444/444 [==============================] - 1s 2ms/step - loss: -0.9610 - val_loss: -0.7798\n",
      "Epoch 34/100\n",
      "444/444 [==============================] - 1s 2ms/step - loss: -0.9704 - val_loss: -0.7385\n",
      "Epoch 35/100\n",
      "444/444 [==============================] - 1s 2ms/step - loss: -0.9749 - val_loss: -0.7500\n",
      "Epoch 36/100\n",
      "444/444 [==============================] - 1s 2ms/step - loss: -0.9533 - val_loss: -0.7370\n",
      "Epoch 37/100\n",
      "444/444 [==============================] - 1s 2ms/step - loss: -0.9112 - val_loss: -0.7197\n",
      "Epoch 38/100\n",
      "444/444 [==============================] - 1s 2ms/step - loss: -0.9422 - val_loss: -0.7593\n",
      "Epoch 39/100\n",
      "444/444 [==============================] - 1s 2ms/step - loss: -0.9792 - val_loss: -0.7886\n",
      "Epoch 40/100\n",
      "444/444 [==============================] - 1s 2ms/step - loss: -1.0215 - val_loss: -0.8248\n",
      "Epoch 41/100\n",
      "444/444 [==============================] - 1s 2ms/step - loss: -1.0289 - val_loss: -0.8181\n",
      "Epoch 42/100\n",
      "444/444 [==============================] - 1s 2ms/step - loss: -1.0440 - val_loss: -0.8435\n",
      "Epoch 43/100\n",
      "444/444 [==============================] - 1s 2ms/step - loss: -1.0505 - val_loss: -0.8130\n",
      "Epoch 44/100\n",
      "444/444 [==============================] - 1s 2ms/step - loss: -1.0620 - val_loss: -0.8444\n",
      "Epoch 45/100\n",
      "444/444 [==============================] - 1s 2ms/step - loss: -1.1035 - val_loss: -0.8768\n",
      "Epoch 46/100\n",
      "444/444 [==============================] - 1s 2ms/step - loss: -1.1020 - val_loss: -0.8655\n",
      "Epoch 47/100\n",
      "444/444 [==============================] - 1s 2ms/step - loss: -1.1095 - val_loss: -0.8700\n",
      "Epoch 48/100\n",
      "444/444 [==============================] - 1s 2ms/step - loss: -1.0877 - val_loss: -0.8444\n",
      "Epoch 49/100\n",
      "444/444 [==============================] - 1s 2ms/step - loss: -1.0606 - val_loss: -0.8062\n",
      "Epoch 50/100\n",
      "444/444 [==============================] - 1s 2ms/step - loss: -1.0759 - val_loss: -0.8022\n",
      "Epoch 51/100\n",
      "444/444 [==============================] - 1s 2ms/step - loss: -1.0569 - val_loss: -0.8410\n",
      "Epoch 52/100\n",
      "444/444 [==============================] - 1s 2ms/step - loss: -1.0549 - val_loss: -0.8716\n",
      "Epoch 53/100\n",
      "444/444 [==============================] - 1s 2ms/step - loss: -1.0729 - val_loss: -0.9160\n",
      "Epoch 54/100\n",
      "444/444 [==============================] - 1s 2ms/step - loss: -1.0978 - val_loss: -0.9741\n",
      "Epoch 55/100\n",
      "444/444 [==============================] - 1s 2ms/step - loss: -1.1125 - val_loss: -0.9973\n",
      "Epoch 56/100\n",
      "444/444 [==============================] - 1s 2ms/step - loss: -1.1336 - val_loss: -1.0097\n",
      "Epoch 57/100\n",
      "444/444 [==============================] - 1s 2ms/step - loss: -1.1360 - val_loss: -0.9987\n",
      "Epoch 58/100\n",
      "444/444 [==============================] - 1s 2ms/step - loss: -1.1129 - val_loss: -0.9541\n",
      "Epoch 59/100\n",
      "444/444 [==============================] - 1s 2ms/step - loss: -1.1219 - val_loss: -0.9432\n",
      "Epoch 60/100\n",
      "444/444 [==============================] - 1s 2ms/step - loss: -1.1099 - val_loss: -0.9221\n",
      "Epoch 61/100\n",
      "444/444 [==============================] - 1s 2ms/step - loss: -1.1341 - val_loss: -0.9955\n",
      "Epoch 62/100\n",
      "444/444 [==============================] - 1s 2ms/step - loss: -1.1557 - val_loss: -1.0230\n",
      "Epoch 63/100\n",
      "444/444 [==============================] - 1s 2ms/step - loss: -1.1656 - val_loss: -1.0157\n",
      "Epoch 64/100\n",
      "444/444 [==============================] - 1s 2ms/step - loss: -1.1393 - val_loss: -1.0297\n",
      "Epoch 65/100\n",
      "444/444 [==============================] - 1s 2ms/step - loss: -1.1786 - val_loss: -1.0762\n",
      "Epoch 66/100\n",
      "444/444 [==============================] - 1s 2ms/step - loss: -1.1934 - val_loss: -1.0887\n",
      "Epoch 67/100\n",
      "444/444 [==============================] - 1s 2ms/step - loss: -1.2125 - val_loss: -1.0919\n",
      "Epoch 68/100\n",
      "444/444 [==============================] - 1s 2ms/step - loss: -1.1952 - val_loss: -1.0879\n",
      "Epoch 69/100\n",
      "444/444 [==============================] - 1s 2ms/step - loss: -1.1953 - val_loss: -1.0179\n",
      "Epoch 70/100\n",
      "444/444 [==============================] - 1s 2ms/step - loss: -1.1832 - val_loss: -1.0294\n",
      "Epoch 71/100\n",
      "444/444 [==============================] - 1s 2ms/step - loss: -1.1902 - val_loss: -1.0687\n",
      "Epoch 72/100\n",
      "444/444 [==============================] - 1s 2ms/step - loss: -1.2210 - val_loss: -1.0976\n",
      "Epoch 73/100\n",
      "444/444 [==============================] - 1s 2ms/step - loss: -1.2310 - val_loss: -1.1086\n",
      "Epoch 74/100\n",
      "444/444 [==============================] - 1s 2ms/step - loss: -1.2304 - val_loss: -1.0848\n",
      "Epoch 75/100\n",
      "444/444 [==============================] - 1s 2ms/step - loss: -1.2067 - val_loss: -1.1112\n",
      "Epoch 76/100\n",
      "444/444 [==============================] - 1s 2ms/step - loss: -1.2295 - val_loss: -1.1038\n",
      "Epoch 77/100\n",
      "444/444 [==============================] - 1s 2ms/step - loss: -1.2370 - val_loss: -1.1165\n",
      "Epoch 78/100\n",
      "444/444 [==============================] - 1s 2ms/step - loss: -1.2462 - val_loss: -1.1463\n",
      "Epoch 79/100\n",
      "444/444 [==============================] - 1s 2ms/step - loss: -1.2457 - val_loss: -1.1297\n",
      "Epoch 80/100\n",
      "444/444 [==============================] - 1s 2ms/step - loss: -1.2096 - val_loss: -1.1074\n",
      "Epoch 81/100\n",
      "444/444 [==============================] - 1s 2ms/step - loss: -1.2352 - val_loss: -1.0900\n",
      "Epoch 82/100\n",
      "444/444 [==============================] - 1s 2ms/step - loss: -1.2488 - val_loss: -1.0894\n",
      "Epoch 83/100\n",
      "444/444 [==============================] - 1s 2ms/step - loss: -1.2288 - val_loss: -1.1064\n",
      "Epoch 84/100\n",
      "444/444 [==============================] - 1s 2ms/step - loss: -1.2409 - val_loss: -1.0925\n",
      "Epoch 85/100\n",
      "444/444 [==============================] - 1s 2ms/step - loss: -1.2314 - val_loss: -1.0293\n",
      "Epoch 86/100\n",
      "444/444 [==============================] - 1s 2ms/step - loss: -1.1855 - val_loss: -1.0075\n",
      "Epoch 87/100\n",
      "444/444 [==============================] - 1s 2ms/step - loss: -1.1842 - val_loss: -1.0685\n",
      "Epoch 88/100\n",
      "444/444 [==============================] - 1s 2ms/step - loss: -1.2230 - val_loss: -1.1458\n",
      "Epoch 89/100\n",
      "444/444 [==============================] - 1s 2ms/step - loss: -1.2460 - val_loss: -1.1539\n",
      "Epoch 90/100\n",
      "444/444 [==============================] - 1s 2ms/step - loss: -1.2603 - val_loss: -1.1311\n",
      "Epoch 91/100\n",
      "444/444 [==============================] - 1s 2ms/step - loss: -1.2606 - val_loss: -1.0828\n",
      "Epoch 92/100\n",
      "444/444 [==============================] - 1s 2ms/step - loss: -1.2324 - val_loss: -1.1012\n",
      "Epoch 93/100\n",
      "444/444 [==============================] - 1s 2ms/step - loss: -1.2401 - val_loss: -1.0899\n",
      "Epoch 94/100\n",
      "444/444 [==============================] - 1s 2ms/step - loss: -1.2567 - val_loss: -1.1216\n",
      "Epoch 95/100\n",
      "444/444 [==============================] - 1s 2ms/step - loss: -1.2729 - val_loss: -1.1102\n",
      "Epoch 96/100\n",
      "444/444 [==============================] - 1s 2ms/step - loss: -1.2669 - val_loss: -1.1446\n",
      "Epoch 97/100\n",
      "444/444 [==============================] - 1s 2ms/step - loss: -1.2754 - val_loss: -1.1572\n",
      "Epoch 98/100\n",
      "444/444 [==============================] - 1s 2ms/step - loss: -1.2840 - val_loss: -1.1830\n",
      "Epoch 99/100\n",
      "444/444 [==============================] - 1s 2ms/step - loss: -1.3117 - val_loss: -1.2046\n",
      "Epoch 100/100\n",
      "444/444 [==============================] - 1s 2ms/step - loss: -1.3020 - val_loss: -1.1855\n",
      "exe time:  106.84916567802429\n"
     ]
    }
   ],
   "source": [
    "batch_size=32\n",
    "mcp = ModelCheckpoint('/data/Quan/tf_models/webcam/vae2_model.hdf5', monitor='val_loss', \n",
    "                      save_best_only=True, save_weights_only=False)\n",
    "\n",
    "start = time.time()\n",
    "history = vae.fit(t_features, t_features, batch_size=batch_size, epochs=100, \n",
    "          validation_data=(tval_features, tval_features), callbacks=[mcp], verbose=1)\n",
    "\n",
    "exe_time = time.time() - start\n",
    "\n",
    "print('exe time: ', exe_time)\n",
    "with open('/data/Quan/tf_models/webcam/vae2_history.hdf5', 'wb') as dt:\n",
    "    pickle.dump(history.history, dt)\n",
    "    "
   ]
  },
  {
   "cell_type": "code",
   "execution_count": 10,
   "metadata": {
    "scrolled": true
   },
   "outputs": [
    {
     "data": {
      "image/png": "[encoded data removed]",
      "text/plain": [
       "<Figure size 432x288 with 1 Axes>"
      ]
     },
     "metadata": {
      "needs_background": "light"
     },
     "output_type": "display_data"
    }
   ],
   "source": [
    "plt.plot(history.history['loss'], label='loss')\n",
    "plt.plot(history.history['val_loss'], label='val_loss')\n",
    "plt.legend()\n",
    "plt.title('Conv VAE Webcam')\n",
    "plt.show()"
   ]
  },
  {
   "cell_type": "markdown",
   "metadata": {},
   "source": [
    "## Combine VAE"
   ]
  },
  {
   "cell_type": "code",
   "execution_count": 11,
   "metadata": {},
   "outputs": [
    {
     "name": "stdout",
     "output_type": "stream",
     "text": [
      "_________________________________________________________________\n",
      "Layer (type)                 Output Shape              Param #   \n",
      "=================================================================\n",
      "encoder_input (InputLayer)   (None, 18, 18, 736)       0         \n",
      "_________________________________________________________________\n",
      "encoder (Model)              [(None, 18, 18, 128), (No 577536    \n",
      "_________________________________________________________________\n",
      "decoder (Model)              (None, 18, 18, 736)       548192    \n",
      "=================================================================\n",
      "Total params: 1,125,728\n",
      "Trainable params: 1,121,184\n",
      "Non-trainable params: 4,544\n",
      "_________________________________________________________________\n",
      "_________________________________________________________________\n",
      "Layer (type)                 Output Shape              Param #   \n",
      "=================================================================\n",
      "encoder_input (InputLayer)   (None, 18, 18, 736)       0         \n",
      "_________________________________________________________________\n",
      "encoder (Model)              [(None, 18, 18, 128), (No 577536    \n",
      "_________________________________________________________________\n",
      "decoder (Model)              (None, 18, 18, 736)       548192    \n",
      "=================================================================\n",
      "Total params: 1,125,728\n",
      "Trainable params: 1,121,184\n",
      "Non-trainable params: 4,544\n",
      "_________________________________________________________________\n"
     ]
    }
   ],
   "source": [
    "import keras.losses\n",
    "keras.losses.vae_loss = vae_loss\n",
    "\n",
    "s_vae = load_model('/data/Quan/tf_models/amazon/vae2_model.hdf5',custom_objects={'latent_dim': latent_dim, 'loss': vae_loss(z_mean,z_log_var)})\n",
    "t_vae = load_model('/data/Quan/tf_models/webcam/vae2_model.hdf5',custom_objects={'latent_dim': latent_dim, 'loss': vae_loss(z_mean,z_log_var)})\n",
    "\n",
    "s_vae.summary()\n",
    "t_vae.summary()"
   ]
  },
  {
   "cell_type": "code",
   "execution_count": 12,
   "metadata": {},
   "outputs": [
    {
     "name": "stdout",
     "output_type": "stream",
     "text": [
      "__________________________________________________________________________________________________\n",
      "Layer (type)                    Output Shape         Param #     Connected to                     \n",
      "==================================================================================================\n",
      "encoder_input (InputLayer)      (None, 18, 18, 736)  0                                            \n",
      "__________________________________________________________________________________________________\n",
      "dense_1 (Dense)                 (None, 18, 18, 512)  377344      encoder_input[0][0]              \n",
      "__________________________________________________________________________________________________\n",
      "batch_normalization_1 (BatchNor (None, 18, 18, 512)  2048        dense_1[0][0]                    \n",
      "__________________________________________________________________________________________________\n",
      "dense_2 (Dense)                 (None, 18, 18, 256)  131328      batch_normalization_1[0][0]      \n",
      "__________________________________________________________________________________________________\n",
      "batch_normalization_2 (BatchNor (None, 18, 18, 256)  1024        dense_2[0][0]                    \n",
      "__________________________________________________________________________________________________\n",
      "z_mean (Dense)                  (None, 18, 18, 128)  32896       batch_normalization_2[0][0]      \n",
      "__________________________________________________________________________________________________\n",
      "z_log_var (Dense)               (None, 18, 18, 128)  32896       batch_normalization_2[0][0]      \n",
      "__________________________________________________________________________________________________\n",
      "z (Lambda)                      (None, 18, 18, 128)  0           z_mean[0][0]                     \n",
      "                                                                 z_log_var[0][0]                  \n",
      "==================================================================================================\n",
      "Total params: 577,536\n",
      "Trainable params: 576,000\n",
      "Non-trainable params: 1,536\n",
      "__________________________________________________________________________________________________\n"
     ]
    }
   ],
   "source": [
    "t_encoder = Model(t_vae.get_layer('encoder').inputs, t_vae.get_layer('encoder').outputs, name='t_encoder')\n",
    "s_decoder = Model(s_vae.get_layer('decoder').inputs, s_vae.get_layer('decoder').outputs, name='s_decoder')\n",
    "\n",
    "t_encoder.summary()"
   ]
  },
  {
   "cell_type": "code",
   "execution_count": 13,
   "metadata": {},
   "outputs": [
    {
     "name": "stdout",
     "output_type": "stream",
     "text": [
      "_________________________________________________________________\n",
      "Layer (type)                 Output Shape              Param #   \n",
      "=================================================================\n",
      "encoder_input (InputLayer)   (None, 18, 18, 736)       0         \n",
      "_________________________________________________________________\n",
      "t_encoder (Model)            [(None, 18, 18, 128), (No 577536    \n",
      "_________________________________________________________________\n",
      "s_decoder (Model)            (None, 18, 18, 736)       548192    \n",
      "=================================================================\n",
      "Total params: 1,125,728\n",
      "Trainable params: 1,121,184\n",
      "Non-trainable params: 4,544\n",
      "_________________________________________________________________\n"
     ]
    }
   ],
   "source": [
    "c_vae_outputs = s_decoder(t_encoder(t_encoder.inputs)[2])\n",
    "c_vae = Model(t_encoder.inputs, c_vae_outputs, name='combined_vae')\n",
    "c_vae.summary()"
   ]
  },
  {
   "cell_type": "code",
   "execution_count": 16,
   "metadata": {},
   "outputs": [
    {
     "name": "stdout",
     "output_type": "stream",
     "text": [
      "444/444 [==============================] - 1s 3ms/step\n",
      "112/112 [==============================] - 0s 1ms/step\n",
      "239/239 [==============================] - 0s 1ms/step\n"
     ]
    }
   ],
   "source": [
    "t_num_labels = [label_dict[k] for k in t_labels]\n",
    "tval_num_labels = [label_dict[k] for k in tval_labels]\n",
    "ttest_num_labels = [label_dict[k] for k in ttest_labels]\n",
    "\n",
    "t_num_labels = keras.utils.to_categorical(t_num_labels, 31)\n",
    "tval_num_labels = keras.utils.to_categorical(tval_num_labels, 31)\n",
    "ttest_num_labels = keras.utils.to_categorical(ttest_num_labels, 31)\n",
    "\n",
    "transform_features = c_vae.predict(t_features, verbose=1)\n",
    "val_transform_features = c_vae.predict(tval_features, verbose=1)\n",
    "test_transform_features = c_vae.predict(ttest_features, verbose=1)"
   ]
  },
  {
   "cell_type": "code",
   "execution_count": 17,
   "metadata": {},
   "outputs": [
    {
     "name": "stderr",
     "output_type": "stream",
     "text": [
      "W1213 11:43:48.749011 140416969307904 deprecation_wrapper.py:119] From /usr/local/lib/python3.5/dist-packages/keras/backend/tensorflow_backend.py:3976: The name tf.nn.max_pool is deprecated. Please use tf.nn.max_pool2d instead.\n",
      "\n",
      "W1213 11:43:49.492885 140416969307904 deprecation.py:506] From /usr/local/lib/python3.5/dist-packages/keras/backend/tensorflow_backend.py:3445: calling dropout (from tensorflow.python.ops.nn_ops) with keep_prob is deprecated and will be removed in a future version.\n",
      "Instructions for updating:\n",
      "Please use `rate` instead of `keep_prob`. Rate should be set to `rate = 1 - keep_prob`.\n"
     ]
    },
    {
     "name": "stdout",
     "output_type": "stream",
     "text": [
      "__________________________________________________________________________________________________\n",
      "Layer (type)                    Output Shape         Param #     Connected to                     \n",
      "==================================================================================================\n",
      "input_1 (InputLayer)            (None, 300, 300, 3)  0                                            \n",
      "__________________________________________________________________________________________________\n",
      "conv0_block0 (Conv2D)           (None, 300, 300, 32) 896         input_1[0][0]                    \n",
      "__________________________________________________________________________________________________\n",
      "batchnorm0_block0 (BatchNormali (None, 300, 300, 32) 128         conv0_block0[0][0]               \n",
      "__________________________________________________________________________________________________\n",
      "relu0_block0 (Activation)       (None, 300, 300, 32) 0           batchnorm0_block0[0][0]          \n",
      "__________________________________________________________________________________________________\n",
      "conv1_block0 (Conv2D)           (None, 300, 300, 32) 9248        relu0_block0[0][0]               \n",
      "__________________________________________________________________________________________________\n",
      "batchnorm1_block0 (BatchNormali (None, 300, 300, 32) 128         conv1_block0[0][0]               \n",
      "__________________________________________________________________________________________________\n",
      "relu1_block0 (Activation)       (None, 300, 300, 32) 0           batchnorm1_block0[0][0]          \n",
      "__________________________________________________________________________________________________\n",
      "maxpooling_block0 (MaxPooling2D (None, 150, 150, 32) 0           relu1_block0[0][0]               \n",
      "__________________________________________________________________________________________________\n",
      "conv0_block1 (Conv2D)           (None, 150, 150, 64) 18496       maxpooling_block0[0][0]          \n",
      "__________________________________________________________________________________________________\n",
      "batchnorm0_block1 (BatchNormali (None, 150, 150, 64) 256         conv0_block1[0][0]               \n",
      "__________________________________________________________________________________________________\n",
      "relu0_block1 (Activation)       (None, 150, 150, 64) 0           batchnorm0_block1[0][0]          \n",
      "__________________________________________________________________________________________________\n",
      "conv1_block1 (Conv2D)           (None, 150, 150, 64) 36928       relu0_block1[0][0]               \n",
      "__________________________________________________________________________________________________\n",
      "batchnorm1_block1 (BatchNormali (None, 150, 150, 64) 256         conv1_block1[0][0]               \n",
      "__________________________________________________________________________________________________\n",
      "relu1_block1 (Activation)       (None, 150, 150, 64) 0           batchnorm1_block1[0][0]          \n",
      "__________________________________________________________________________________________________\n",
      "maxpooling_block1 (MaxPooling2D (None, 75, 75, 64)   0           relu1_block1[0][0]               \n",
      "__________________________________________________________________________________________________\n",
      "cropping_block0_block2 (Croppin (None, 75, 75, 32)   0           maxpooling_block0[0][0]          \n",
      "__________________________________________________________________________________________________\n",
      "concatenate_1 (Concatenate)     (None, 75, 75, 96)   0           cropping_block0_block2[0][0]     \n",
      "                                                                 maxpooling_block1[0][0]          \n",
      "__________________________________________________________________________________________________\n",
      "batch_normalization_1 (BatchNor (None, 75, 75, 96)   384         concatenate_1[0][0]              \n",
      "__________________________________________________________________________________________________\n",
      "conv0_block2 (Conv2D)           (None, 75, 75, 128)  110720      batch_normalization_1[0][0]      \n",
      "__________________________________________________________________________________________________\n",
      "batchnorm0_block2 (BatchNormali (None, 75, 75, 128)  512         conv0_block2[0][0]               \n",
      "__________________________________________________________________________________________________\n",
      "relu0_block2 (Activation)       (None, 75, 75, 128)  0           batchnorm0_block2[0][0]          \n",
      "__________________________________________________________________________________________________\n",
      "conv1_block2 (Conv2D)           (None, 75, 75, 128)  147584      relu0_block2[0][0]               \n",
      "__________________________________________________________________________________________________\n",
      "batchnorm1_block2 (BatchNormali (None, 75, 75, 128)  512         conv1_block2[0][0]               \n",
      "__________________________________________________________________________________________________\n",
      "relu1_block2 (Activation)       (None, 75, 75, 128)  0           batchnorm1_block2[0][0]          \n",
      "__________________________________________________________________________________________________\n",
      "conv2_block2 (Conv2D)           (None, 75, 75, 128)  147584      relu1_block2[0][0]               \n",
      "__________________________________________________________________________________________________\n",
      "batchnorm2_block2 (BatchNormali (None, 75, 75, 128)  512         conv2_block2[0][0]               \n",
      "__________________________________________________________________________________________________\n",
      "relu2_block2 (Activation)       (None, 75, 75, 128)  0           batchnorm2_block2[0][0]          \n",
      "__________________________________________________________________________________________________\n",
      "maxpooling_block2 (MaxPooling2D (None, 37, 37, 128)  0           relu2_block2[0][0]               \n",
      "__________________________________________________________________________________________________\n",
      "cropping_block0_block3 (Croppin (None, 37, 37, 32)   0           maxpooling_block0[0][0]          \n",
      "__________________________________________________________________________________________________\n",
      "cropping_block1_block3 (Croppin (None, 37, 37, 64)   0           maxpooling_block1[0][0]          \n",
      "__________________________________________________________________________________________________\n",
      "concatenate_2 (Concatenate)     (None, 37, 37, 224)  0           cropping_block0_block3[0][0]     \n",
      "                                                                 cropping_block1_block3[0][0]     \n",
      "                                                                 maxpooling_block2[0][0]          \n",
      "__________________________________________________________________________________________________\n",
      "batch_normalization_2 (BatchNor (None, 37, 37, 224)  896         concatenate_2[0][0]              \n",
      "__________________________________________________________________________________________________\n",
      "conv0_block3 (Conv2D)           (None, 37, 37, 512)  1032704     batch_normalization_2[0][0]      \n",
      "__________________________________________________________________________________________________\n",
      "batchnorm0_block3 (BatchNormali (None, 37, 37, 512)  2048        conv0_block3[0][0]               \n",
      "__________________________________________________________________________________________________\n",
      "relu0_block3 (Activation)       (None, 37, 37, 512)  0           batchnorm0_block3[0][0]          \n",
      "__________________________________________________________________________________________________\n",
      "conv1_block3 (Conv2D)           (None, 37, 37, 512)  2359808     relu0_block3[0][0]               \n",
      "__________________________________________________________________________________________________\n",
      "batchnorm1_block3 (BatchNormali (None, 37, 37, 512)  2048        conv1_block3[0][0]               \n",
      "__________________________________________________________________________________________________\n",
      "relu1_block3 (Activation)       (None, 37, 37, 512)  0           batchnorm1_block3[0][0]          \n",
      "__________________________________________________________________________________________________\n",
      "conv2_block3 (Conv2D)           (None, 37, 37, 512)  2359808     relu1_block3[0][0]               \n",
      "__________________________________________________________________________________________________\n",
      "batchnorm2_block3 (BatchNormali (None, 37, 37, 512)  2048        conv2_block3[0][0]               \n",
      "__________________________________________________________________________________________________\n",
      "relu2_block3 (Activation)       (None, 37, 37, 512)  0           batchnorm2_block3[0][0]          \n",
      "__________________________________________________________________________________________________\n",
      "cropping_block0_block4 (Croppin (None, 18, 18, 32)   0           maxpooling_block0[0][0]          \n",
      "__________________________________________________________________________________________________\n",
      "cropping_block1_block4 (Croppin (None, 18, 18, 64)   0           maxpooling_block1[0][0]          \n",
      "__________________________________________________________________________________________________\n",
      "cropping_block2_block4 (Croppin (None, 18, 18, 128)  0           maxpooling_block2[0][0]          \n",
      "__________________________________________________________________________________________________\n",
      "maxpooling_block3 (MaxPooling2D (None, 18, 18, 512)  0           relu2_block3[0][0]               \n",
      "__________________________________________________________________________________________________\n",
      "concatenate_3 (Concatenate)     (None, 18, 18, 736)  0           cropping_block0_block4[0][0]     \n",
      "                                                                 cropping_block1_block4[0][0]     \n",
      "                                                                 cropping_block2_block4[0][0]     \n",
      "                                                                 maxpooling_block3[0][0]          \n",
      "__________________________________________________________________________________________________\n",
      "global_average_pooling2d_1 (Glo (None, 736)          0           concatenate_3[0][0]              \n",
      "__________________________________________________________________________________________________\n",
      "dropout_1 (Dropout)             (None, 736)          0           global_average_pooling2d_1[0][0] \n",
      "__________________________________________________________________________________________________\n",
      "dense_1 (Dense)                 (None, 31)           22847       dropout_1[0][0]                  \n",
      "__________________________________________________________________________________________________\n",
      "batch_normalization_3 (BatchNor (None, 31)           124         dense_1[0][0]                    \n",
      "__________________________________________________________________________________________________\n",
      "activation_1 (Activation)       (None, 31)           0           batch_normalization_3[0][0]      \n",
      "==================================================================================================\n",
      "Total params: 6,256,475\n",
      "Trainable params: 6,251,549\n",
      "Non-trainable params: 4,926\n",
      "__________________________________________________________________________________________________\n"
     ]
    },
    {
     "name": "stdout",
     "output_type": "stream",
     "text": [
      "_________________________________________________________________\n",
      "Layer (type)                 Output Shape              Param #   \n",
      "=================================================================\n",
      "input_1 (InputLayer)         (None, 18, 18, 736)       0         \n",
      "_________________________________________________________________\n",
      "global_average_pooling2d_1 ( (None, 736)               0         \n",
      "_________________________________________________________________\n",
      "dropout_1 (Dropout)          (None, 736)               0         \n",
      "_________________________________________________________________\n",
      "dense_6 (Dense)              (None, 31)                22847     \n",
      "_________________________________________________________________\n",
      "batch_normalization_6 (Batch (None, 31)                124       \n",
      "_________________________________________________________________\n",
      "activation_1 (Activation)    (None, 31)                0         \n",
      "=================================================================\n",
      "Total params: 22,971\n",
      "Trainable params: 22,909\n",
      "Non-trainable params: 62\n",
      "_________________________________________________________________\n"
     ]
    }
   ],
   "source": [
    "# retrain source classifier\n",
    "\n",
    "# Get source classififer (amazon)\n",
    "s_baseline = load_model('/data/Quan/tf_models/amazon/baseline_model.hdf5')\n",
    "s_baseline.summary()\n",
    "\n",
    "input_model = Input(shape=(18,18,736))\n",
    "x = GlobalAveragePooling2D()(input_model)\n",
    "x = Dropout(0.3)(x)\n",
    "x = Dense(31)(x)\n",
    "x = BatchNormalization()(x)\n",
    "x = Activation('softmax')(x)\n",
    "\n",
    "s_topmodel = Model(input_model, x)\n",
    "\n",
    "for i in range(-3,-1):\n",
    "#     print(s_topmodel.layers[i+6].name, s_baseline.layers[i].name)\n",
    "    s_topmodel.layers[i].set_weights(s_baseline.layers[i].get_weights())\n",
    "\n",
    "s_topmodel.compile(loss='categorical_crossentropy', optimizer=Adam(), metrics=['accuracy'])\n",
    "s_topmodel.summary()"
   ]
  },
  {
   "cell_type": "code",
   "execution_count": 23,
   "metadata": {},
   "outputs": [
    {
     "name": "stdout",
     "output_type": "stream",
     "text": [
      "239/239 [==============================] - 1s 3ms/step\n"
     ]
    },
    {
     "data": {
      "text/plain": [
       "[4.008128966247686, 0.04184100418410042]"
      ]
     },
     "execution_count": 23,
     "metadata": {},
     "output_type": "execute_result"
    }
   ],
   "source": [
    "s_topmodel.evaluate(test_transform_features, ttest_num_labels, verbose=1)"
   ]
  },
  {
   "cell_type": "code",
   "execution_count": 18,
   "metadata": {
    "scrolled": true
   },
   "outputs": [
    {
     "name": "stdout",
     "output_type": "stream",
     "text": [
      "Train on 444 samples, validate on 112 samples\n",
      "Epoch 1/100\n",
      "444/444 [==============================] - 1s 3ms/step - loss: 4.1012 - acc: 0.0541 - val_loss: 2.8004 - val_acc: 0.2143\n",
      "Epoch 2/100\n",
      "444/444 [==============================] - 0s 466us/step - loss: 3.0769 - acc: 0.1869 - val_loss: 2.3618 - val_acc: 0.3393\n",
      "Epoch 3/100\n",
      "444/444 [==============================] - 0s 462us/step - loss: 2.3607 - acc: 0.3536 - val_loss: 2.0638 - val_acc: 0.4643\n",
      "Epoch 4/100\n",
      "444/444 [==============================] - 0s 462us/step - loss: 1.9565 - acc: 0.4369 - val_loss: 1.8350 - val_acc: 0.5268\n",
      "Epoch 5/100\n",
      "444/444 [==============================] - 0s 466us/step - loss: 1.6868 - acc: 0.5315 - val_loss: 1.6545 - val_acc: 0.6161\n",
      "Epoch 6/100\n",
      "444/444 [==============================] - 0s 460us/step - loss: 1.4576 - acc: 0.6149 - val_loss: 1.5154 - val_acc: 0.6518\n",
      "Epoch 7/100\n",
      "444/444 [==============================] - 0s 464us/step - loss: 1.3735 - acc: 0.6464 - val_loss: 1.3973 - val_acc: 0.7143\n",
      "Epoch 8/100\n",
      "444/444 [==============================] - 0s 463us/step - loss: 1.2467 - acc: 0.6757 - val_loss: 1.3055 - val_acc: 0.7232\n",
      "Epoch 9/100\n",
      "444/444 [==============================] - 0s 463us/step - loss: 1.2416 - acc: 0.6622 - val_loss: 1.2409 - val_acc: 0.7054\n",
      "Epoch 10/100\n",
      "444/444 [==============================] - 0s 460us/step - loss: 1.1458 - acc: 0.7162 - val_loss: 1.2015 - val_acc: 0.7500\n",
      "Epoch 11/100\n",
      "444/444 [==============================] - 0s 479us/step - loss: 1.0999 - acc: 0.6959 - val_loss: 1.1416 - val_acc: 0.7143\n",
      "Epoch 12/100\n",
      "444/444 [==============================] - 0s 481us/step - loss: 1.0565 - acc: 0.7297 - val_loss: 1.0726 - val_acc: 0.7411\n",
      "Epoch 13/100\n",
      "444/444 [==============================] - 0s 467us/step - loss: 1.0294 - acc: 0.7523 - val_loss: 1.0173 - val_acc: 0.7857\n",
      "Epoch 14/100\n",
      "444/444 [==============================] - 0s 482us/step - loss: 0.9444 - acc: 0.7523 - val_loss: 0.9772 - val_acc: 0.7946\n",
      "Epoch 15/100\n",
      "444/444 [==============================] - 0s 462us/step - loss: 0.9298 - acc: 0.7680 - val_loss: 0.9558 - val_acc: 0.7857\n",
      "Epoch 16/100\n",
      "444/444 [==============================] - 0s 465us/step - loss: 1.0346 - acc: 0.7432 - val_loss: 0.9522 - val_acc: 0.7768\n",
      "Epoch 17/100\n",
      "444/444 [==============================] - 0s 512us/step - loss: 0.8874 - acc: 0.7725 - val_loss: 0.9237 - val_acc: 0.7946\n",
      "Epoch 18/100\n",
      "444/444 [==============================] - 0s 489us/step - loss: 0.8863 - acc: 0.7860 - val_loss: 0.9084 - val_acc: 0.7946\n",
      "Epoch 19/100\n",
      "444/444 [==============================] - 0s 466us/step - loss: 0.8299 - acc: 0.7883 - val_loss: 0.8916 - val_acc: 0.8304\n",
      "Epoch 20/100\n",
      "444/444 [==============================] - 0s 482us/step - loss: 0.8712 - acc: 0.7770 - val_loss: 0.8723 - val_acc: 0.8482\n",
      "Epoch 21/100\n",
      "444/444 [==============================] - 0s 466us/step - loss: 0.7877 - acc: 0.8401 - val_loss: 0.8532 - val_acc: 0.8571\n",
      "Epoch 22/100\n",
      "444/444 [==============================] - 0s 463us/step - loss: 0.7794 - acc: 0.8333 - val_loss: 0.8407 - val_acc: 0.8750\n",
      "Epoch 23/100\n",
      "444/444 [==============================] - 0s 462us/step - loss: 0.8187 - acc: 0.8176 - val_loss: 0.8255 - val_acc: 0.8661\n",
      "Epoch 24/100\n",
      "444/444 [==============================] - 0s 463us/step - loss: 0.8187 - acc: 0.8153 - val_loss: 0.8148 - val_acc: 0.8393\n",
      "Epoch 25/100\n",
      "444/444 [==============================] - 0s 470us/step - loss: 0.7331 - acc: 0.8288 - val_loss: 0.8065 - val_acc: 0.8304\n",
      "Epoch 26/100\n",
      "444/444 [==============================] - 0s 468us/step - loss: 0.7683 - acc: 0.8356 - val_loss: 0.7931 - val_acc: 0.8571\n",
      "Epoch 27/100\n",
      "444/444 [==============================] - 0s 463us/step - loss: 0.7816 - acc: 0.8311 - val_loss: 0.7946 - val_acc: 0.8393\n",
      "Epoch 28/100\n",
      "444/444 [==============================] - 0s 463us/step - loss: 0.7076 - acc: 0.8401 - val_loss: 0.7838 - val_acc: 0.8482\n",
      "Epoch 29/100\n",
      "444/444 [==============================] - 0s 464us/step - loss: 0.7320 - acc: 0.8468 - val_loss: 0.7663 - val_acc: 0.8661\n",
      "Epoch 30/100\n",
      "444/444 [==============================] - 0s 468us/step - loss: 0.6960 - acc: 0.8536 - val_loss: 0.7655 - val_acc: 0.8571\n",
      "Epoch 31/100\n",
      "444/444 [==============================] - 0s 462us/step - loss: 0.6828 - acc: 0.8604 - val_loss: 0.7613 - val_acc: 0.8750\n",
      "Epoch 32/100\n",
      "444/444 [==============================] - 0s 460us/step - loss: 0.7143 - acc: 0.8401 - val_loss: 0.7620 - val_acc: 0.8661\n",
      "Epoch 33/100\n",
      "444/444 [==============================] - 0s 467us/step - loss: 0.7060 - acc: 0.8378 - val_loss: 0.7585 - val_acc: 0.8750\n",
      "Epoch 34/100\n",
      "444/444 [==============================] - 0s 464us/step - loss: 0.6482 - acc: 0.8716 - val_loss: 0.7504 - val_acc: 0.8839\n",
      "Epoch 35/100\n",
      "444/444 [==============================] - 0s 461us/step - loss: 0.6355 - acc: 0.8716 - val_loss: 0.7436 - val_acc: 0.8661\n",
      "Epoch 36/100\n",
      "444/444 [==============================] - 0s 461us/step - loss: 0.6587 - acc: 0.8671 - val_loss: 0.7399 - val_acc: 0.8750\n",
      "Epoch 37/100\n",
      "444/444 [==============================] - 0s 463us/step - loss: 0.6728 - acc: 0.8581 - val_loss: 0.7306 - val_acc: 0.8750\n",
      "Epoch 38/100\n",
      "444/444 [==============================] - 0s 462us/step - loss: 0.6739 - acc: 0.8468 - val_loss: 0.7256 - val_acc: 0.8839\n",
      "Epoch 39/100\n",
      "444/444 [==============================] - 0s 468us/step - loss: 0.6089 - acc: 0.8829 - val_loss: 0.7243 - val_acc: 0.8750\n",
      "Epoch 40/100\n",
      "444/444 [==============================] - 0s 464us/step - loss: 0.6135 - acc: 0.8964 - val_loss: 0.7174 - val_acc: 0.8839\n",
      "Epoch 41/100\n",
      "444/444 [==============================] - 0s 461us/step - loss: 0.6033 - acc: 0.8874 - val_loss: 0.7092 - val_acc: 0.8929\n",
      "Epoch 42/100\n",
      "444/444 [==============================] - 0s 463us/step - loss: 0.6120 - acc: 0.8896 - val_loss: 0.7056 - val_acc: 0.8661\n",
      "Epoch 43/100\n",
      "444/444 [==============================] - 0s 463us/step - loss: 0.6356 - acc: 0.8671 - val_loss: 0.7055 - val_acc: 0.8750\n",
      "Epoch 44/100\n",
      "444/444 [==============================] - 0s 464us/step - loss: 0.5732 - acc: 0.8896 - val_loss: 0.7027 - val_acc: 0.8929\n",
      "Epoch 45/100\n",
      "444/444 [==============================] - 0s 464us/step - loss: 0.6047 - acc: 0.8896 - val_loss: 0.6971 - val_acc: 0.8839\n",
      "Epoch 46/100\n",
      "444/444 [==============================] - 0s 463us/step - loss: 0.6009 - acc: 0.8649 - val_loss: 0.6964 - val_acc: 0.8750\n",
      "Epoch 47/100\n",
      "444/444 [==============================] - 0s 470us/step - loss: 0.6114 - acc: 0.8581 - val_loss: 0.6988 - val_acc: 0.8750\n",
      "Epoch 48/100\n",
      "444/444 [==============================] - 0s 458us/step - loss: 0.5576 - acc: 0.8829 - val_loss: 0.6943 - val_acc: 0.8750\n",
      "Epoch 49/100\n",
      "444/444 [==============================] - 0s 478us/step - loss: 0.6076 - acc: 0.8626 - val_loss: 0.6899 - val_acc: 0.8839\n",
      "Epoch 50/100\n",
      "444/444 [==============================] - 0s 492us/step - loss: 0.5714 - acc: 0.8919 - val_loss: 0.6872 - val_acc: 0.8839\n",
      "Epoch 51/100\n",
      "444/444 [==============================] - 0s 467us/step - loss: 0.5462 - acc: 0.8919 - val_loss: 0.6861 - val_acc: 0.8929\n",
      "Epoch 52/100\n",
      "444/444 [==============================] - 0s 460us/step - loss: 0.5919 - acc: 0.8626 - val_loss: 0.6944 - val_acc: 0.8839\n",
      "Epoch 53/100\n",
      "444/444 [==============================] - 0s 461us/step - loss: 0.5514 - acc: 0.8784 - val_loss: 0.6978 - val_acc: 0.8839\n",
      "Epoch 54/100\n",
      "444/444 [==============================] - 0s 472us/step - loss: 0.5739 - acc: 0.8896 - val_loss: 0.6902 - val_acc: 0.8929\n",
      "Epoch 55/100\n",
      "444/444 [==============================] - 0s 461us/step - loss: 0.5202 - acc: 0.9144 - val_loss: 0.6878 - val_acc: 0.8839\n",
      "Epoch 56/100\n",
      "444/444 [==============================] - 0s 463us/step - loss: 0.5485 - acc: 0.8874 - val_loss: 0.6760 - val_acc: 0.8839\n",
      "Epoch 57/100\n",
      "444/444 [==============================] - 0s 462us/step - loss: 0.5898 - acc: 0.8941 - val_loss: 0.6606 - val_acc: 0.8839\n",
      "Epoch 58/100\n",
      "444/444 [==============================] - 0s 463us/step - loss: 0.5218 - acc: 0.9144 - val_loss: 0.6522 - val_acc: 0.8839\n",
      "Epoch 59/100\n",
      "444/444 [==============================] - 0s 463us/step - loss: 0.5779 - acc: 0.8851 - val_loss: 0.6488 - val_acc: 0.8839\n",
      "Epoch 60/100\n",
      "444/444 [==============================] - 0s 464us/step - loss: 0.4950 - acc: 0.9009 - val_loss: 0.6452 - val_acc: 0.9018\n"
     ]
    },
    {
     "name": "stdout",
     "output_type": "stream",
     "text": [
      "Epoch 61/100\n",
      "444/444 [==============================] - 0s 462us/step - loss: 0.5113 - acc: 0.8919 - val_loss: 0.6419 - val_acc: 0.8929\n",
      "Epoch 62/100\n",
      "444/444 [==============================] - 0s 461us/step - loss: 0.5015 - acc: 0.8986 - val_loss: 0.6324 - val_acc: 0.8929\n",
      "Epoch 63/100\n",
      "444/444 [==============================] - 0s 462us/step - loss: 0.5429 - acc: 0.9009 - val_loss: 0.6262 - val_acc: 0.8929\n",
      "Epoch 64/100\n",
      "444/444 [==============================] - 0s 463us/step - loss: 0.5201 - acc: 0.8919 - val_loss: 0.6214 - val_acc: 0.8929\n",
      "Epoch 65/100\n",
      "444/444 [==============================] - 0s 459us/step - loss: 0.5341 - acc: 0.8671 - val_loss: 0.6245 - val_acc: 0.8839\n",
      "Epoch 66/100\n",
      "444/444 [==============================] - 0s 470us/step - loss: 0.5481 - acc: 0.8851 - val_loss: 0.6283 - val_acc: 0.8839\n",
      "Epoch 67/100\n",
      "444/444 [==============================] - 0s 478us/step - loss: 0.4693 - acc: 0.9144 - val_loss: 0.6304 - val_acc: 0.8750\n",
      "Epoch 68/100\n",
      "444/444 [==============================] - 0s 497us/step - loss: 0.5352 - acc: 0.8896 - val_loss: 0.6291 - val_acc: 0.8750\n",
      "Epoch 69/100\n",
      "444/444 [==============================] - 0s 464us/step - loss: 0.5272 - acc: 0.8986 - val_loss: 0.6335 - val_acc: 0.8839\n",
      "Epoch 70/100\n",
      "444/444 [==============================] - 0s 462us/step - loss: 0.4882 - acc: 0.9234 - val_loss: 0.6336 - val_acc: 0.8750\n",
      "Epoch 71/100\n",
      "444/444 [==============================] - 0s 460us/step - loss: 0.5190 - acc: 0.8806 - val_loss: 0.6389 - val_acc: 0.8929\n",
      "Epoch 72/100\n",
      "444/444 [==============================] - 0s 458us/step - loss: 0.4601 - acc: 0.9144 - val_loss: 0.6365 - val_acc: 0.8929\n",
      "Epoch 73/100\n",
      "444/444 [==============================] - 0s 463us/step - loss: 0.4811 - acc: 0.9032 - val_loss: 0.6358 - val_acc: 0.8929\n",
      "Epoch 74/100\n",
      "444/444 [==============================] - 0s 465us/step - loss: 0.5040 - acc: 0.8964 - val_loss: 0.6297 - val_acc: 0.8929\n",
      "Epoch 75/100\n",
      "444/444 [==============================] - 0s 466us/step - loss: 0.5103 - acc: 0.8874 - val_loss: 0.6289 - val_acc: 0.8929\n",
      "Epoch 76/100\n",
      "444/444 [==============================] - 0s 462us/step - loss: 0.4670 - acc: 0.9054 - val_loss: 0.6320 - val_acc: 0.8839\n",
      "Epoch 77/100\n",
      "444/444 [==============================] - 0s 463us/step - loss: 0.4690 - acc: 0.9032 - val_loss: 0.6288 - val_acc: 0.8929\n",
      "Epoch 78/100\n",
      "444/444 [==============================] - 0s 462us/step - loss: 0.4894 - acc: 0.9122 - val_loss: 0.6324 - val_acc: 0.8929\n",
      "Epoch 79/100\n",
      "444/444 [==============================] - 0s 462us/step - loss: 0.4441 - acc: 0.9189 - val_loss: 0.6311 - val_acc: 0.8929\n",
      "Epoch 80/100\n",
      "444/444 [==============================] - 0s 460us/step - loss: 0.5145 - acc: 0.8986 - val_loss: 0.6203 - val_acc: 0.8929\n",
      "Epoch 81/100\n",
      "444/444 [==============================] - 0s 448us/step - loss: 0.4843 - acc: 0.8986 - val_loss: 0.6117 - val_acc: 0.8929\n",
      "Epoch 82/100\n",
      "444/444 [==============================] - 0s 415us/step - loss: 0.4454 - acc: 0.9212 - val_loss: 0.5999 - val_acc: 0.9018\n",
      "Epoch 83/100\n",
      "444/444 [==============================] - 0s 419us/step - loss: 0.4504 - acc: 0.9324 - val_loss: 0.6078 - val_acc: 0.9018\n",
      "Epoch 84/100\n",
      "444/444 [==============================] - 0s 418us/step - loss: 0.4778 - acc: 0.8941 - val_loss: 0.6080 - val_acc: 0.9018\n",
      "Epoch 85/100\n",
      "444/444 [==============================] - 0s 424us/step - loss: 0.4156 - acc: 0.9257 - val_loss: 0.6055 - val_acc: 0.8929\n",
      "Epoch 86/100\n",
      "444/444 [==============================] - 0s 436us/step - loss: 0.4596 - acc: 0.9099 - val_loss: 0.6075 - val_acc: 0.9018\n",
      "Epoch 87/100\n",
      "444/444 [==============================] - 0s 421us/step - loss: 0.4470 - acc: 0.9009 - val_loss: 0.6130 - val_acc: 0.8929\n",
      "Epoch 88/100\n",
      "444/444 [==============================] - 0s 423us/step - loss: 0.4233 - acc: 0.9189 - val_loss: 0.6176 - val_acc: 0.8750\n",
      "Epoch 89/100\n",
      "444/444 [==============================] - 0s 416us/step - loss: 0.4418 - acc: 0.9144 - val_loss: 0.6083 - val_acc: 0.8929\n",
      "Epoch 90/100\n",
      "444/444 [==============================] - 0s 414us/step - loss: 0.4973 - acc: 0.9167 - val_loss: 0.6090 - val_acc: 0.8839\n",
      "Epoch 91/100\n",
      "444/444 [==============================] - 0s 415us/step - loss: 0.4280 - acc: 0.9167 - val_loss: 0.6038 - val_acc: 0.8929\n",
      "Epoch 92/100\n",
      "444/444 [==============================] - 0s 428us/step - loss: 0.4072 - acc: 0.9234 - val_loss: 0.6058 - val_acc: 0.8750\n",
      "Epoch 93/100\n",
      "444/444 [==============================] - 0s 463us/step - loss: 0.4626 - acc: 0.9167 - val_loss: 0.6030 - val_acc: 0.8750\n",
      "Epoch 94/100\n",
      "444/444 [==============================] - 0s 445us/step - loss: 0.4759 - acc: 0.9099 - val_loss: 0.6001 - val_acc: 0.8750\n",
      "Epoch 95/100\n",
      "444/444 [==============================] - 0s 417us/step - loss: 0.4003 - acc: 0.9302 - val_loss: 0.5971 - val_acc: 0.8839\n",
      "Epoch 96/100\n",
      "444/444 [==============================] - 0s 430us/step - loss: 0.4344 - acc: 0.9212 - val_loss: 0.5964 - val_acc: 0.8839\n",
      "Epoch 97/100\n",
      "444/444 [==============================] - 0s 434us/step - loss: 0.4676 - acc: 0.8941 - val_loss: 0.5950 - val_acc: 0.8839\n",
      "Epoch 98/100\n",
      "444/444 [==============================] - 0s 445us/step - loss: 0.4281 - acc: 0.9212 - val_loss: 0.5868 - val_acc: 0.8839\n",
      "Epoch 99/100\n",
      "444/444 [==============================] - 0s 431us/step - loss: 0.4255 - acc: 0.9144 - val_loss: 0.5829 - val_acc: 0.8839\n",
      "Epoch 100/100\n",
      "444/444 [==============================] - 0s 422us/step - loss: 0.4248 - acc: 0.9257 - val_loss: 0.5822 - val_acc: 0.8929\n",
      "exe time:  22.83317542076111\n"
     ]
    }
   ],
   "source": [
    "mcp = ModelCheckpoint('/data/Quan/tf_models/webcam/amazon_classifier2_model.hdf5', monitor='val_acc', \n",
    "                      save_best_only=True, save_weights_only=False)\n",
    "\n",
    "start = time.time()\n",
    "history = s_topmodel.fit(transform_features, t_num_labels, batch_size=32, epochs=100,\n",
    "               validation_data=(val_transform_features, tval_num_labels), verbose=1, callbacks=[mcp])\n",
    "\n",
    "with open('/data/Quan/tf_models/webcam/amazon_classifier2_history.hdf5', 'wb') as dt:\n",
    "    pickle.dump(history, dt)\n",
    "    \n",
    "exe_time = time.time() - start\n",
    "\n",
    "print('exe time: ', exe_time)"
   ]
  },
  {
   "cell_type": "code",
   "execution_count": 19,
   "metadata": {},
   "outputs": [
    {
     "data": {
      "image/png": "[encoded data removed]",
      "text/plain": [
       "<Figure size 432x288 with 1 Axes>"
      ]
     },
     "metadata": {
      "needs_background": "light"
     },
     "output_type": "display_data"
    },
    {
     "data": {
      "image/png": "[encoded data removed]",
      "text/plain": [
       "<Figure size 432x288 with 1 Axes>"
      ]
     },
     "metadata": {
      "needs_background": "light"
     },
     "output_type": "display_data"
    }
   ],
   "source": [
    "%matplotlib inline\n",
    "plt.plot(history.history['acc'], label='acc')\n",
    "plt.plot(history.history['val_acc'], label='val_acc')\n",
    "plt.legend()\n",
    "plt.show()\n",
    "\n",
    "plt.plot(history.history['loss'], label='loss')\n",
    "plt.plot(history.history['val_loss'], label='val_loss')\n",
    "plt.legend()\n",
    "plt.show()"
   ]
  },
  {
   "cell_type": "code",
   "execution_count": 20,
   "metadata": {},
   "outputs": [
    {
     "name": "stdout",
     "output_type": "stream",
     "text": [
      "239/239 [==============================] - 0s 2ms/step\n"
     ]
    },
    {
     "data": {
      "text/plain": [
       "[0.8929828470222122, 0.7782426790712269]"
      ]
     },
     "execution_count": 20,
     "metadata": {},
     "output_type": "execute_result"
    }
   ],
   "source": [
    "test_topmodel = load_model('/data/Quan/tf_models/webcam/amazon_classifier2_model.hdf5')\n",
    "test_topmodel.evaluate(test_transform_features, ttest_num_labels, verbose=1)"
   ]
  },
  {
   "cell_type": "code",
   "execution_count": null,
   "metadata": {},
   "outputs": [],
   "source": []
  }
 ],
 "metadata": {
  "kernelspec": {
   "display_name": "Python 3",
   "language": "python",
   "name": "python3"
  },
  "language_info": {
   "codemirror_mode": {
    "name": "ipython",
    "version": 3
   },
   "file_extension": ".py",
   "mimetype": "text/x-python",
   "name": "python",
   "nbconvert_exporter": "python",
   "pygments_lexer": "ipython3",
   "version": "3.5.2"
  }
 },
 "nbformat": 4,
 "nbformat_minor": 2
}
