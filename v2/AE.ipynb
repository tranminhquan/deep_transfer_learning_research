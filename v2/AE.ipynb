{
 "cells": [
  {
   "cell_type": "code",
   "execution_count": 11,
   "metadata": {},
   "outputs": [
    {
     "name": "stdout",
     "output_type": "stream",
     "text": [
      "amazon_extractor_history.hdf5  vae_fc_model.hdf5\r\n",
      "baseline_history.hdf5\t       vae_gap_history.hdf5\r\n",
      "baseline_history_2.hdf5        vae_gap_model.hdf5\r\n",
      "baseline_model.hdf5\t       vae_history.hdf5\r\n",
      "combine_history.hdf5\t       vae_model.hdf5\r\n",
      "convvae2_history.hdf5\t       vae_p36_history.hdf5\r\n",
      "convvae2_model.hdf5\t       vae_p36_model.hdf5\r\n",
      "convvae_history.hdf5\t       val_extracted_features.hdf5\r\n",
      "convvae_model.hdf5\t       vanilla_cae_history.hdf5\r\n",
      "dvae_history.hdf5\t       vanilla_cae_model.hdf5\r\n",
      "dvae_model.hdf5\t\t       vanilla_cae_p36_history.hdf5\r\n",
      "encoder_history.hdf5\t       vanilla_cae_p36_model.hdf5\r\n",
      "extracted_features.hdf5        vanilla_dae_history.hdf5\r\n",
      "finetune_history.hdf5\t       vanilla_dae_model.hdf5\r\n",
      "tf_gap_history.hdf5\t       vanilla_dae_p36_history.hdf5\r\n",
      "tf_gap_history_2.hdf5\t       vanilla_dae_p36_model.hdf5\r\n",
      "vae2_history.hdf5\t       vanilla_vae_history.hdf5\r\n",
      "vae2_model.hdf5\t\t       vanilla_vae_model.hdf5\r\n"
     ]
    }
   ],
   "source": [
    "!ls '/tf/data/Quan/tf_models/amazon/baseline_model.hdf5'"
   ]
  },
  {
   "cell_type": "code",
   "execution_count": 12,
   "metadata": {},
   "outputs": [
    {
     "name": "stderr",
     "output_type": "stream",
     "text": [
      "Using TensorFlow backend.\n"
     ]
    }
   ],
   "source": [
    "from keras.models import *"
   ]
  },
  {
   "cell_type": "code",
   "execution_count": 13,
   "metadata": {},
   "outputs": [
    {
     "name": "stdout",
     "output_type": "stream",
     "text": [
      "WARNING:tensorflow:From /usr/local/lib/python3.6/dist-packages/tensorflow_core/python/ops/resource_variable_ops.py:1630: calling BaseResourceVariable.__init__ (from tensorflow.python.ops.resource_variable_ops) with constraint is deprecated and will be removed in a future version.\n",
      "Instructions for updating:\n",
      "If using Keras pass *_constraint arguments to layers.\n",
      "WARNING:tensorflow:From /usr/local/lib/python3.6/dist-packages/keras/backend/tensorflow_backend.py:4070: The name tf.nn.max_pool is deprecated. Please use tf.nn.max_pool2d instead.\n",
      "\n",
      "WARNING:tensorflow:From /usr/local/lib/python3.6/dist-packages/keras/backend/tensorflow_backend.py:422: The name tf.global_variables is deprecated. Please use tf.compat.v1.global_variables instead.\n",
      "\n",
      "Model: \"model_1\"\n",
      "__________________________________________________________________________________________________\n",
      "Layer (type)                    Output Shape         Param #     Connected to                     \n",
      "==================================================================================================\n",
      "input_1 (InputLayer)            (None, 300, 300, 3)  0                                            \n",
      "__________________________________________________________________________________________________\n",
      "conv0_block0 (Conv2D)           (None, 300, 300, 32) 896         input_1[0][0]                    \n",
      "__________________________________________________________________________________________________\n",
      "batchnorm0_block0 (BatchNormali (None, 300, 300, 32) 128         conv0_block0[0][0]               \n",
      "__________________________________________________________________________________________________\n",
      "relu0_block0 (Activation)       (None, 300, 300, 32) 0           batchnorm0_block0[0][0]          \n",
      "__________________________________________________________________________________________________\n",
      "conv1_block0 (Conv2D)           (None, 300, 300, 32) 9248        relu0_block0[0][0]               \n",
      "__________________________________________________________________________________________________\n",
      "batchnorm1_block0 (BatchNormali (None, 300, 300, 32) 128         conv1_block0[0][0]               \n",
      "__________________________________________________________________________________________________\n",
      "relu1_block0 (Activation)       (None, 300, 300, 32) 0           batchnorm1_block0[0][0]          \n",
      "__________________________________________________________________________________________________\n",
      "maxpooling_block0 (MaxPooling2D (None, 150, 150, 32) 0           relu1_block0[0][0]               \n",
      "__________________________________________________________________________________________________\n",
      "conv0_block1 (Conv2D)           (None, 150, 150, 64) 18496       maxpooling_block0[0][0]          \n",
      "__________________________________________________________________________________________________\n",
      "batchnorm0_block1 (BatchNormali (None, 150, 150, 64) 256         conv0_block1[0][0]               \n",
      "__________________________________________________________________________________________________\n",
      "relu0_block1 (Activation)       (None, 150, 150, 64) 0           batchnorm0_block1[0][0]          \n",
      "__________________________________________________________________________________________________\n",
      "conv1_block1 (Conv2D)           (None, 150, 150, 64) 36928       relu0_block1[0][0]               \n",
      "__________________________________________________________________________________________________\n",
      "batchnorm1_block1 (BatchNormali (None, 150, 150, 64) 256         conv1_block1[0][0]               \n",
      "__________________________________________________________________________________________________\n",
      "relu1_block1 (Activation)       (None, 150, 150, 64) 0           batchnorm1_block1[0][0]          \n",
      "__________________________________________________________________________________________________\n",
      "maxpooling_block1 (MaxPooling2D (None, 75, 75, 64)   0           relu1_block1[0][0]               \n",
      "__________________________________________________________________________________________________\n",
      "cropping_block0_block2 (Croppin (None, 75, 75, 32)   0           maxpooling_block0[0][0]          \n",
      "__________________________________________________________________________________________________\n",
      "concatenate_1 (Concatenate)     (None, 75, 75, 96)   0           cropping_block0_block2[0][0]     \n",
      "                                                                 maxpooling_block1[0][0]          \n",
      "__________________________________________________________________________________________________\n",
      "batch_normalization_1 (BatchNor (None, 75, 75, 96)   384         concatenate_1[0][0]              \n",
      "__________________________________________________________________________________________________\n",
      "conv0_block2 (Conv2D)           (None, 75, 75, 128)  110720      batch_normalization_1[0][0]      \n",
      "__________________________________________________________________________________________________\n",
      "batchnorm0_block2 (BatchNormali (None, 75, 75, 128)  512         conv0_block2[0][0]               \n",
      "__________________________________________________________________________________________________\n",
      "relu0_block2 (Activation)       (None, 75, 75, 128)  0           batchnorm0_block2[0][0]          \n",
      "__________________________________________________________________________________________________\n",
      "conv1_block2 (Conv2D)           (None, 75, 75, 128)  147584      relu0_block2[0][0]               \n",
      "__________________________________________________________________________________________________\n",
      "batchnorm1_block2 (BatchNormali (None, 75, 75, 128)  512         conv1_block2[0][0]               \n",
      "__________________________________________________________________________________________________\n",
      "relu1_block2 (Activation)       (None, 75, 75, 128)  0           batchnorm1_block2[0][0]          \n",
      "__________________________________________________________________________________________________\n",
      "conv2_block2 (Conv2D)           (None, 75, 75, 128)  147584      relu1_block2[0][0]               \n",
      "__________________________________________________________________________________________________\n",
      "batchnorm2_block2 (BatchNormali (None, 75, 75, 128)  512         conv2_block2[0][0]               \n",
      "__________________________________________________________________________________________________\n",
      "relu2_block2 (Activation)       (None, 75, 75, 128)  0           batchnorm2_block2[0][0]          \n",
      "__________________________________________________________________________________________________\n",
      "maxpooling_block2 (MaxPooling2D (None, 37, 37, 128)  0           relu2_block2[0][0]               \n",
      "__________________________________________________________________________________________________\n",
      "cropping_block0_block3 (Croppin (None, 37, 37, 32)   0           maxpooling_block0[0][0]          \n",
      "__________________________________________________________________________________________________\n",
      "cropping_block1_block3 (Croppin (None, 37, 37, 64)   0           maxpooling_block1[0][0]          \n",
      "__________________________________________________________________________________________________\n",
      "concatenate_2 (Concatenate)     (None, 37, 37, 224)  0           cropping_block0_block3[0][0]     \n",
      "                                                                 cropping_block1_block3[0][0]     \n",
      "                                                                 maxpooling_block2[0][0]          \n",
      "__________________________________________________________________________________________________\n",
      "batch_normalization_2 (BatchNor (None, 37, 37, 224)  896         concatenate_2[0][0]              \n",
      "__________________________________________________________________________________________________\n",
      "conv0_block3 (Conv2D)           (None, 37, 37, 512)  1032704     batch_normalization_2[0][0]      \n",
      "__________________________________________________________________________________________________\n",
      "batchnorm0_block3 (BatchNormali (None, 37, 37, 512)  2048        conv0_block3[0][0]               \n",
      "__________________________________________________________________________________________________\n",
      "relu0_block3 (Activation)       (None, 37, 37, 512)  0           batchnorm0_block3[0][0]          \n",
      "__________________________________________________________________________________________________\n",
      "conv1_block3 (Conv2D)           (None, 37, 37, 512)  2359808     relu0_block3[0][0]               \n",
      "__________________________________________________________________________________________________\n",
      "batchnorm1_block3 (BatchNormali (None, 37, 37, 512)  2048        conv1_block3[0][0]               \n",
      "__________________________________________________________________________________________________\n",
      "relu1_block3 (Activation)       (None, 37, 37, 512)  0           batchnorm1_block3[0][0]          \n",
      "__________________________________________________________________________________________________\n",
      "conv2_block3 (Conv2D)           (None, 37, 37, 512)  2359808     relu1_block3[0][0]               \n",
      "__________________________________________________________________________________________________\n",
      "batchnorm2_block3 (BatchNormali (None, 37, 37, 512)  2048        conv2_block3[0][0]               \n",
      "__________________________________________________________________________________________________\n",
      "relu2_block3 (Activation)       (None, 37, 37, 512)  0           batchnorm2_block3[0][0]          \n",
      "__________________________________________________________________________________________________\n",
      "cropping_block0_block4 (Croppin (None, 18, 18, 32)   0           maxpooling_block0[0][0]          \n",
      "__________________________________________________________________________________________________\n",
      "cropping_block1_block4 (Croppin (None, 18, 18, 64)   0           maxpooling_block1[0][0]          \n",
      "__________________________________________________________________________________________________\n",
      "cropping_block2_block4 (Croppin (None, 18, 18, 128)  0           maxpooling_block2[0][0]          \n",
      "__________________________________________________________________________________________________\n",
      "maxpooling_block3 (MaxPooling2D (None, 18, 18, 512)  0           relu2_block3[0][0]               \n",
      "__________________________________________________________________________________________________\n",
      "concatenate_3 (Concatenate)     (None, 18, 18, 736)  0           cropping_block0_block4[0][0]     \n",
      "                                                                 cropping_block1_block4[0][0]     \n",
      "                                                                 cropping_block2_block4[0][0]     \n",
      "                                                                 maxpooling_block3[0][0]          \n",
      "__________________________________________________________________________________________________\n",
      "global_average_pooling2d_1 (Glo (None, 736)          0           concatenate_3[0][0]              \n",
      "__________________________________________________________________________________________________\n",
      "dropout_1 (Dropout)             (None, 736)          0           global_average_pooling2d_1[0][0] \n",
      "__________________________________________________________________________________________________\n",
      "dense_1 (Dense)                 (None, 31)           22847       dropout_1[0][0]                  \n",
      "__________________________________________________________________________________________________\n",
      "batch_normalization_3 (BatchNor (None, 31)           124         dense_1[0][0]                    \n",
      "__________________________________________________________________________________________________\n",
      "activation_1 (Activation)       (None, 31)           0           batch_normalization_3[0][0]      \n",
      "==================================================================================================\n",
      "Total params: 6,256,475\n",
      "Trainable params: 6,251,549\n",
      "Non-trainable params: 4,926\n",
      "__________________________________________________________________________________________________\n"
     ]
    }
   ],
   "source": [
    "model = load_model('/tf/data/Quan/tf_models/amazon/baseline_model.hdf5')\n",
    "model.summary()"
   ]
  },
  {
   "cell_type": "code",
   "execution_count": null,
   "metadata": {},
   "outputs": [],
   "source": []
  }
 ],
 "metadata": {
  "kernelspec": {
   "display_name": "Python 3",
   "language": "python",
   "name": "python3"
  },
  "language_info": {
   "codemirror_mode": {
    "name": "ipython",
    "version": 3
   },
   "file_extension": ".py",
   "mimetype": "text/x-python",
   "name": "python",
   "nbconvert_exporter": "python",
   "pygments_lexer": "ipython3",
   "version": "3.6.9"
  }
 },
 "nbformat": 4,
 "nbformat_minor": 4
}
